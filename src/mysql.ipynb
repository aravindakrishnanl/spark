{
 "cells": [
  {
   "cell_type": "code",
   "execution_count": 1,
   "id": "0f0137c4",
   "metadata": {},
   "outputs": [],
   "source": [
    "import sqlite3\n",
    "con = sqlite3.connect(\"tutorial.db\")"
   ]
  },
  {
   "cell_type": "code",
   "execution_count": 2,
   "id": "908a8d02",
   "metadata": {},
   "outputs": [],
   "source": [
    "c = con.cursor()"
   ]
  },
  {
   "cell_type": "code",
   "execution_count": 3,
   "id": "7d580691",
   "metadata": {},
   "outputs": [
    {
     "name": "stdout",
     "output_type": "stream",
     "text": [
      "Data inserted successfully.\n"
     ]
    }
   ],
   "source": [
    "c.execute('''\n",
    "    CREATE TABLE IF NOT EXISTS hotel (\n",
    "        FIND INTEGER PRIMARY KEY NOT NULL,\n",
    "        FNAME TEXT NOT NULL,\n",
    "        COST INTEGER NOT NULL,\n",
    "        WEIGHT INTEGER\n",
    "    )\n",
    "''')\n",
    "\n",
    "# Insert records\n",
    "c.execute(\"INSERT INTO hotel (FIND, FNAME, COST, WEIGHT) VALUES (1, 'Cakes', 800, 10)\")\n",
    "c.execute(\"INSERT INTO hotel (FIND, FNAME, COST, WEIGHT) VALUES (2, 'Biscuits', 100, 20)\")\n",
    "c.execute(\"INSERT INTO hotel (FIND, FNAME, COST, WEIGHT) VALUES (3, 'Chocos', 1000, 30)\")\n",
    "\n",
    "con.commit()\n",
    "print(\"Data inserted successfully.\")"
   ]
  },
  {
   "cell_type": "code",
   "execution_count": 7,
   "id": "d21cd786",
   "metadata": {},
   "outputs": [
    {
     "data": {
      "text/plain": [
       "<sqlite3.Cursor at 0x2190f6849c0>"
      ]
     },
     "execution_count": 7,
     "metadata": {},
     "output_type": "execute_result"
    }
   ],
   "source": [
    "c.execute(\"select * from hotel\")"
   ]
  },
  {
   "cell_type": "code",
   "execution_count": 8,
   "id": "9433698a",
   "metadata": {},
   "outputs": [
    {
     "data": {
      "text/plain": [
       "[(1, 'Cakes', 800, 10), (2, 'Biscuits', 100, 20), (3, 'Chocos', 1000, 30)]"
      ]
     },
     "execution_count": 8,
     "metadata": {},
     "output_type": "execute_result"
    }
   ],
   "source": [
    "rows = c.fetchall()\n",
    "rows"
   ]
  },
  {
   "cell_type": "code",
   "execution_count": 9,
   "id": "9eef9564",
   "metadata": {},
   "outputs": [
    {
     "name": "stdout",
     "output_type": "stream",
     "text": [
      "Food ID: 1, Name: Cakes, Cost: 800, Weight: 10\n",
      "Food ID: 2, Name: Biscuits, Cost: 100, Weight: 20\n",
      "Food ID: 3, Name: Chocos, Cost: 1000, Weight: 30\n"
     ]
    }
   ],
   "source": [
    "for row in rows:\n",
    "    print(f\"Food ID: {row[0]}, Name: {row[1]}, Cost: {row[2]}, Weight: {row[3]}\")"
   ]
  },
  {
   "cell_type": "code",
   "execution_count": 1,
   "id": "bcb32354",
   "metadata": {},
   "outputs": [],
   "source": [
    "import pandas as pd"
   ]
  },
  {
   "cell_type": "code",
   "execution_count": 2,
   "id": "a9b0a410",
   "metadata": {},
   "outputs": [],
   "source": [
    "df = pd.read_csv(\"A:/spark_data/train.csv\")"
   ]
  },
  {
   "cell_type": "code",
   "execution_count": 3,
   "id": "daacfe82",
   "metadata": {},
   "outputs": [
    {
     "data": {
      "text/plain": [
       "Index(['date', 'store', 'item', 'sales'], dtype='object')"
      ]
     },
     "execution_count": 3,
     "metadata": {},
     "output_type": "execute_result"
    }
   ],
   "source": [
    "df.columns"
   ]
  },
  {
   "cell_type": "code",
   "execution_count": 4,
   "id": "daec5f81",
   "metadata": {},
   "outputs": [
    {
     "data": {
      "text/plain": [
       "<bound method IndexOpsMixin.value_counts of 0          1\n",
       "1          1\n",
       "2          1\n",
       "3          1\n",
       "4          1\n",
       "          ..\n",
       "912995    50\n",
       "912996    50\n",
       "912997    50\n",
       "912998    50\n",
       "912999    50\n",
       "Name: item, Length: 913000, dtype: int64>"
      ]
     },
     "execution_count": 4,
     "metadata": {},
     "output_type": "execute_result"
    }
   ],
   "source": [
    "df[\"item\"].value_counts"
   ]
  },
  {
   "cell_type": "code",
   "execution_count": null,
   "id": "971e17e8",
   "metadata": {},
   "outputs": [],
   "source": []
  }
 ],
 "metadata": {
  "kernelspec": {
   "display_name": "Python 3",
   "language": "python",
   "name": "python3"
  },
  "language_info": {
   "codemirror_mode": {
    "name": "ipython",
    "version": 3
   },
   "file_extension": ".py",
   "mimetype": "text/x-python",
   "name": "python",
   "nbconvert_exporter": "python",
   "pygments_lexer": "ipython3",
   "version": "3.12.6"
  }
 },
 "nbformat": 4,
 "nbformat_minor": 5
}
