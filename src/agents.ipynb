{
 "cells": [
  {
   "cell_type": "code",
   "execution_count": 1,
   "id": "b5833fb6",
   "metadata": {},
   "outputs": [
    {
     "data": {
      "text/plain": [
       "'Siva Siva'"
      ]
     },
     "execution_count": 1,
     "metadata": {},
     "output_type": "execute_result"
    }
   ],
   "source": [
    "\"Siva Siva\""
   ]
  },
  {
   "cell_type": "code",
   "execution_count": 2,
   "id": "30a3e9cf",
   "metadata": {},
   "outputs": [],
   "source": [
    "#Reorder logic\n",
    "\n",
    "# def predict_demand():\n",
    "    #Predict demand should be initialized within in a certain time in a periodic interval, for now say 12.00\n",
    "\n",
    "    #the product from the predicted demand should be limited as it should be sufficient for a certain time interval, say for a 2 weeks.\n",
    "\n",
    "    #Predict demand from demand forecasting with product\n",
    "\n",
    "    #order from multiple model, say from neural prophet, bilstm + cnn\n",
    "\n",
    "    #then compare, if all these model say for reorder, then init the order..\n",
    "\n",
    "    #convert to call reorder function\n",
    "\n",
    "    #in reorder.. trigger the agent for mail automation\n",
    "\n",
    "    #an separate id each product to send the mail\n",
    "\n",
    "    #Message inference saver for real time check and inference"
   ]
  },
  {
   "cell_type": "code",
   "execution_count": null,
   "id": "456866b1",
   "metadata": {},
   "outputs": [],
   "source": [
    "# predict demand(store, item) -> compare with reorder_threshold -> if true: automate email, send conformation to manager\n",
    "# else wait for some time, \n",
    "# check for arrival with qr logic.. if arrived, update with db\n",
    "# product update with billing system\n",
    "# inference per day for each order..\n",
    "# certain time rescheduler - completed\n",
    "# scheduler trigger\n",
    "2# user interface with streamlit or some other .."
   ]
  },
  {
   "cell_type": "code",
   "execution_count": null,
   "id": "58f9ead3",
   "metadata": {},
   "outputs": [],
   "source": [
    "lst = [[1, False, 20], [2, False, 40], [3, False, 26], [4, False, 16], [5, False, 13], [6, False, 39], [7, False, 38], [8, True, 52], [9, False, 32], [10, True, 51], [11, False, 45], [12, False, 50], [13, True, 53], [14, False, 38], [15, True, 54], [16, False, 20], [17, False, 23], [18, True, 57], [19, False, 27], [20, False, 32], [21, False, 26], [22, True, 55], [23, False, 20], [24, False, 39], [25, True, 51], [26, False, 35], [27, False, 16], [28, True, 58], [29, False, 48], [30, False, 31], [31, False, 37], [32, False, 28], [33, False, 50], [34, False, 18], [35, False, 41], [36, True, 51], [37, False, 18], [38, True, 53], [39, False, 29], [40, False, 22], [41, False, 16], [42, False, 22], [43, False, 33], [44, False, 21], [45, True, 52], [46, False, 38], [47, False, 16], [48, False, 36], [49, False, 25], [50, False, 42]]"
   ]
  },
  {
   "cell_type": "code",
   "execution_count": null,
   "id": "ff650aaf",
   "metadata": {},
   "outputs": [],
   "source": []
  }
 ],
 "metadata": {
  "kernelspec": {
   "display_name": "Python 3",
   "language": "python",
   "name": "python3"
  },
  "language_info": {
   "codemirror_mode": {
    "name": "ipython",
    "version": 3
   },
   "file_extension": ".py",
   "mimetype": "text/x-python",
   "name": "python",
   "nbconvert_exporter": "python",
   "pygments_lexer": "ipython3",
   "version": "3.12.6"
  }
 },
 "nbformat": 4,
 "nbformat_minor": 5
}
