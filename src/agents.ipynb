{
 "cells": [
  {
   "cell_type": "code",
   "execution_count": 1,
   "id": "b5833fb6",
   "metadata": {},
   "outputs": [
    {
     "data": {
      "text/plain": [
       "'Siva Siva'"
      ]
     },
     "execution_count": 1,
     "metadata": {},
     "output_type": "execute_result"
    }
   ],
   "source": [
    "\"Siva Siva\""
   ]
  },
  {
   "cell_type": "code",
   "execution_count": 2,
   "id": "1e217b29",
   "metadata": {},
   "outputs": [],
   "source": [
    "import os\n",
    "import getpass\n",
    "from dotenv import load_dotenv\n",
    "\n",
    "load_dotenv() \n",
    "groq_api_key = os.getenv(\"GROQ_API_KEY\")"
   ]
  },
  {
   "cell_type": "code",
   "execution_count": 3,
   "id": "42a0a2f9",
   "metadata": {},
   "outputs": [],
   "source": [
    "from langchain_groq import ChatGroq"
   ]
  },
  {
   "cell_type": "code",
   "execution_count": 4,
   "id": "e3caaf05",
   "metadata": {},
   "outputs": [],
   "source": [
    "llm = ChatGroq(\n",
    "    api_key= groq_api_key,\n",
    "    model= \"deepseek-r1-distill-llama-70b\",\n",
    "    temperature= 0,\n",
    "    max_tokens= None,\n",
    "    reasoning_format= \"parsed\",\n",
    "    timeout= None\n",
    ")"
   ]
  },
  {
   "cell_type": "code",
   "execution_count": 10,
   "id": "23f617d7",
   "metadata": {},
   "outputs": [
    {
     "data": {
      "text/plain": [
       "AIMessage(content=\"J'aime la programmation.\", additional_kwargs={'reasoning_content': 'Okay, so I need to translate the sentence \"I love programming.\" into French. Let me think about how to approach this. \\n\\nFirst, I know that \"I\" in French is \"Je.\" That\\'s straightforward. Next, \"love\" translates to \"aime\" in French. So putting that together, it would be \"Je aime.\" Wait, but I remember that in French, the adjective or verb agrees with the subject. Since \"Je\" is singular and first person, \"aime\" is correct because it\\'s the first person singular form of \"aimer,\" which means \"to love.\"\\n\\nNow, the tricky part is \"programming.\" In English, it\\'s a gerund, the -ing form of the verb \"to program.\" In French, the equivalent would be the infinitive form after \"aime\" because French doesn\\'t use gerunds in the same way. So \"programming\" would be \"la programmation.\" Wait, no, that\\'s the noun form. But in this context, we\\'re talking about the action, so maybe it\\'s better to use the infinitive. Let me think: \"faire de la programmation\" is a way to say programming, but that\\'s more like \"doing programming.\" Alternatively, \"programmer\" is the verb, so \"aimer programmer\" would be \"love to program.\" \\n\\nWait, but the original sentence is \"I love programming,\" which is a statement about enjoying the activity. In French, it\\'s common to say \"J\\'aime la programmation\" because \"la programmation\" is the noun referring to the activity or field of programming. Alternatively, \"J\\'aime programmer\" would also be correct, meaning \"I love to program.\" \\n\\nI think both are correct, but \"J\\'aime la programmation\" might be more natural when referring to the field or activity as a whole, whereas \"J\\'aime programmer\" is more about the action itself. Since the user\\'s sentence is general, \"J\\'aime la programmation\" seems appropriate.\\n\\nSo putting it all together, \"Je aime la programmation.\" Wait, but in French, the verb \"aimer\" requires a direct object, so it should be \"J\\'aime la programmation.\" Also, \"Je\" is followed by a space and a lowercase \"aime,\" but in French, it\\'s \"J\\'aime\" with an apostrophe. So the correct translation would be \"J\\'aime la programmation.\"\\n\\nI think that\\'s accurate. Let me double-check: \"J\\'aime\" is correct for \"I love,\" and \"la programmation\" is the right term for programming as a field or activity. So yes, the translation should be \"J\\'aime la programmation.\"\\n'}, response_metadata={'token_usage': {'completion_tokens': 573, 'prompt_tokens': 23, 'total_tokens': 596, 'completion_time': 2.631966098, 'prompt_time': 0.000972114, 'queue_time': 0.053072516, 'total_time': 2.632938212}, 'model_name': 'deepseek-r1-distill-llama-70b', 'system_fingerprint': 'fp_1bbe7845ec', 'finish_reason': 'stop', 'logprobs': None}, id='run--2fefc47d-e8d7-4c21-a3fc-adaa0f3304c6-0', usage_metadata={'input_tokens': 23, 'output_tokens': 573, 'total_tokens': 596})"
      ]
     },
     "execution_count": 10,
     "metadata": {},
     "output_type": "execute_result"
    }
   ],
   "source": [
    "message = [\n",
    "    (\n",
    "        \"system\",\n",
    "        \"You are a helpful assistant that translates English to French. Translate the user sentence.\",\n",
    "    ),\n",
    "    (\"human\", \"I love programming.\"),\n",
    "]\n",
    "ai = llm.invoke(message)\n",
    "ai"
   ]
  },
  {
   "cell_type": "code",
   "execution_count": 6,
   "id": "bac3b20f",
   "metadata": {},
   "outputs": [
    {
     "data": {
      "text/plain": [
       "\"J'aime programmer.\""
      ]
     },
     "execution_count": 6,
     "metadata": {},
     "output_type": "execute_result"
    }
   ],
   "source": [
    "ai.content"
   ]
  },
  {
   "cell_type": "code",
   "execution_count": 29,
   "id": "00147726",
   "metadata": {},
   "outputs": [
    {
     "data": {
      "text/plain": [
       "AIMessage(content='The sentence \"I love programming.\" translated into German is:\\n\\n\"Ich liebe das Programmieren.\"\\n\\nThis translation uses the infinitive form of the verb \"programmieren\" as a noun, preceded by the definite article \"das,\" making it \"Ich liebe das Programmieren.\"', additional_kwargs={'reasoning_content': 'Okay, so I need to translate the sentence \"I love programming.\" into German. Hmm, let\\'s break this down. \\n\\nFirst, \"I\" in German is \"Ich.\" That\\'s straightforward. Now, \"love\" translates to \"liebe.\" Wait, but in German, the verb conjugation depends on the subject. Since it\\'s \"I,\" the verb would be \"liebe\" because \"lieben\" is the infinitive, and for first person singular, it\\'s \"liebe.\" \\n\\nNext, \"programming\" is a gerund in English, which is the -ing form. In German, the equivalent would be the present participle, which is formed by adding \"end\" to the verb stem. The verb for \"to program\" is \"programmieren,\" so the present participle would be \"programmierend.\" \\n\\nPutting it all together, \"I love programming\" becomes \"Ich liebe programmiere.\" Wait, no, that doesn\\'t sound right. Let me think again. Maybe I should use the infinitive instead of the participle. So, \"Ich liebe Programmieren.\" That sounds better because in German, after the verb \"lieben,\" you can use the infinitive form of the verb. \\n\\nWait, but sometimes in German, you can also use the noun form. \"Programmieren\" is the infinitive, but as a noun, it would be \"das Programmieren.\" So, maybe it\\'s \"Ich liebe das Programmieren.\" That might be more natural. \\n\\nI\\'m a bit confused now. Let me check some examples. In English, \"I love swimming\" can be translated as \"Ich liebe das Schwimmen.\" So, following that structure, \"I love programming\" would be \"Ich liebe das Programmieren.\" \\n\\nAlternatively, without the article, \"Ich liebe Programmieren\" is also correct, but including \"das\" might make it clearer, especially for a gerund form. \\n\\nSo, the correct translation should be \"Ich liebe das Programmieren.\" That makes sense because \"Programmieren\" is the infinitive used as a noun here, and \"das\" is the definite article for neuter nouns. \\n\\nWait, but \"Programmieren\" is actually a verb in the infinitive form, and when used as a noun, it\\'s treated as a neuter noun. So, using \"das\" before it is appropriate. \\n\\nTherefore, the accurate translation is \"Ich liebe das Programmieren.\" That feels right. I think that\\'s the correct way to say it in German.\\n'}, response_metadata={'token_usage': {'completion_tokens': 583, 'prompt_tokens': 18, 'total_tokens': 601, 'completion_time': 2.449322291, 'prompt_time': 0.000620221, 'queue_time': 0.068484249, 'total_time': 2.449942512}, 'model_name': 'deepseek-r1-distill-llama-70b', 'system_fingerprint': 'fp_1bbe7845ec', 'finish_reason': 'stop', 'logprobs': None}, id='run--b14082a0-4a1f-4cb9-909d-e799218e7571-0', usage_metadata={'input_tokens': 18, 'output_tokens': 583, 'total_tokens': 601})"
      ]
     },
     "execution_count": 29,
     "metadata": {},
     "output_type": "execute_result"
    }
   ],
   "source": [
    "from langchain_core.prompts import ChatPromptTemplate\n",
    "\n",
    "prompt = ChatPromptTemplate.from_messages([\n",
    "    \n",
    "        (\n",
    "            \"system\",\n",
    "            \"You are a helpful assistant that translates {input_language} to {output_language}.\",\n",
    "        ),\n",
    "        (\"human\", \"{input}\"),\n",
    "    ]\n",
    "\n",
    ")\n",
    "chain = prompt | llm \n",
    "chain.invoke(\n",
    "    {\n",
    "        \"input_language\": \"English\",\n",
    "        \"output_language\": \"German\",\n",
    "        \"input\": \"I love programming.\",\n",
    "    }\n",
    ")"
   ]
  },
  {
   "cell_type": "code",
   "execution_count": 7,
   "id": "949c363e",
   "metadata": {},
   "outputs": [],
   "source": [
    "from langchain.chains import LLMChain, SimpleSequentialChain\n",
    "from langchain.prompts import PromptTemplate, ChatPromptTemplate"
   ]
  },
  {
   "cell_type": "code",
   "execution_count": null,
   "id": "f1405aab",
   "metadata": {},
   "outputs": [],
   "source": [
    "prompt = ChatPromptTemplate([\n",
    "    ('system', \"You are automation agent for email using smtplib library\"),\n",
    "    ('human', \"Can you generate to sent for a {sender_name} with {email_address}\")\n",
    "])"
   ]
  },
  {
   "cell_type": "code",
   "execution_count": 11,
   "id": "82af0a00",
   "metadata": {},
   "outputs": [],
   "source": [
    "ai = prompt.invoke({'sender_name': 'Aravi', 'email_address': 'aravindhnov05@gmail.com'})"
   ]
  },
  {
   "cell_type": "code",
   "execution_count": 12,
   "id": "9a051caa",
   "metadata": {},
   "outputs": [
    {
     "name": "stdout",
     "output_type": "stream",
     "text": [
      "content='To send an email using Python\\'s `smtplib` library, follow these steps. This example assumes the use of a Gmail account, but you can adapt it to other email providers by changing the SMTP server settings.\\n\\n### Step-by-Step Guide\\n\\n1. **Import the Required Libraries:**\\n   - `smtplib` for handling the SMTP server connection.\\n   - `email.message` for constructing the email message.\\n\\n2. **Set Up Your Email Credentials:**\\n   - Replace `your-email@gmail.com` and `your-app-password` with your actual Gmail address and app password.\\n\\n3. **Configure the SMTP Server:**\\n   - For Gmail, use `smtp.gmail.com` as the SMTP server and port `587`.\\n\\n4. **Construct the Email Message:**\\n   - Define the sender, receiver, subject, and body of the email.\\n\\n5. **Send the Email:**\\n   - Use the `sendmail()` method of the SMTP server to send the message.\\n\\n6. **Close the Connection:**\\n   - After sending the email, quit the server using `quit()`.\\n\\n### Example Code\\n\\n```python\\nimport smtplib\\nfrom email.message import EmailMessage\\n\\ndef send_email(subject, body, sender_email, sender_password, receiver_email):\\n    msg = EmailMessage()\\n    msg[\\'Subject\\'] = subject\\n    msg[\\'From\\'] = sender_email\\n    msg[\\'To\\'] = receiver_email\\n    msg.set_content(body)\\n\\n    with smtplib.SMTP(\\'smtp.gmail.com\\', 587) as smtp:\\n        smtp.starttls()\\n        smtp.login(sender_email, sender_password)\\n        smtp.send_message(msg)\\n    print(\"Email sent successfully!\")\\n\\n# Example usage\\nif __name__ == \"__main__\":\\n    sender_email = \"your-email@gmail.com\"\\n    sender_password = \"your-app-password\"\\n    receiver_email = \"recipient@example.com\"\\n    subject = \"Test Email from Python\"\\n    body = \"Hello, this is a test email sent using Python\\'s smtplib library.\"\\n\\n    send_email(subject, body, sender_email, sender_password, receiver_email)\\n```\\n\\n### Important Notes\\n\\n- **Security:** Avoid hardcoding your password. Consider using environment variables or a secure method to store credentials.\\n- **Gmail Settings:** Ensure that \"Less secure app access\" is enabled or use an App Password if you have 2-Step Verification enabled.\\n- **Port and Server:** Adjust the SMTP server and port according to your email provider. For example, Outlook uses `smtp.office365.com` and port `587`.\\n\\nThis code provides a basic framework for sending emails. You can enhance it by adding error handling and supporting different email providers.' additional_kwargs={'reasoning_content': 'Okay, so I need to help Aravi send an email using Python\\'s smtplib library. I\\'m not very experienced with this, but I\\'ll try to figure it out step by step.\\n\\nFirst, I remember that smtplib is used for sending emails, and I think I need to use a server, maybe like Gmail or Outlook. But I\\'m not sure which one Aravi uses. Maybe I should ask, but since I can\\'t, I\\'ll assume Gmail for now.\\n\\nI know that to send an email, I need the sender\\'s email and password. Aravi\\'s email is aravi@example.com, and the password is aravi123. I should be careful with storing passwords, but for this example, I\\'ll just use it as is.\\n\\nNext, I need to set up the SMTP server. For Gmail, the SMTP server is smtp.gmail.com, and the port is 587. I think that\\'s correct. I also remember that I need to use TLS encryption, so I should start with server.starttls().\\n\\nWait, do I need to log in? Yes, I think so. So after connecting to the server, I need to do server.login(sender_email, sender_password).\\n\\nThen, I need to construct the email message. I remember that emails have a sender, receiver, subject, and body. The receiver is the email address I\\'m sending to, which in this case is john@example.com.\\n\\nI should format the message correctly. I think it\\'s something like \"Subject: ...\\\\n\\\\nBody...\". Or maybe using the MIMEMultipart module for more complex emails, but for simplicity, a plain text email should work.\\n\\nSo putting it all together, I\\'ll import smtplib, set up the server, log in, send the message, and then quit the server.\\n\\nWait, but I\\'ve heard that Gmail has security measures. Maybe I need to allow less secure apps or generate an app password. I should mention that in the notes so Aravi knows to adjust her settings.\\n\\nAlso, I should remind her to replace the placeholder emails and passwords with her actual details. And maybe suggest using environment variables for security instead of hardcoding passwords.\\n\\nI think that\\'s the basic process. I\\'ll outline the steps and provide the code example, making sure to note the important security considerations.\\n'} response_metadata={'token_usage': {'completion_tokens': 1012, 'prompt_tokens': 25, 'total_tokens': 1037, 'completion_time': 3.841128695, 'prompt_time': 0.001074935, 'queue_time': 0.052695985, 'total_time': 3.84220363}, 'model_name': 'deepseek-r1-distill-llama-70b', 'system_fingerprint': 'fp_1bbe7845ec', 'finish_reason': 'stop', 'logprobs': None} id='run--8ba0bf2c-d068-4537-91b8-3e66dd0d1395-0' usage_metadata={'input_tokens': 25, 'output_tokens': 1012, 'total_tokens': 1037}\n"
     ]
    }
   ],
   "source": [
    "print(llm.invoke(ai))"
   ]
  },
  {
   "cell_type": "code",
   "execution_count": null,
   "id": "30a3e9cf",
   "metadata": {},
   "outputs": [],
   "source": []
  }
 ],
 "metadata": {
  "kernelspec": {
   "display_name": "Python 3",
   "language": "python",
   "name": "python3"
  },
  "language_info": {
   "codemirror_mode": {
    "name": "ipython",
    "version": 3
   },
   "file_extension": ".py",
   "mimetype": "text/x-python",
   "name": "python",
   "nbconvert_exporter": "python",
   "pygments_lexer": "ipython3",
   "version": "3.12.6"
  }
 },
 "nbformat": 4,
 "nbformat_minor": 5
}
