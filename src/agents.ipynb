{
 "cells": [
  {
   "cell_type": "code",
   "execution_count": 1,
   "id": "b5833fb6",
   "metadata": {},
   "outputs": [
    {
     "data": {
      "text/plain": [
       "'Siva Siva'"
      ]
     },
     "execution_count": 1,
     "metadata": {},
     "output_type": "execute_result"
    }
   ],
   "source": [
    "\"Siva Siva\""
   ]
  },
  {
   "cell_type": "code",
   "execution_count": 2,
   "id": "30a3e9cf",
   "metadata": {},
   "outputs": [],
   "source": [
    "#Reorder logic\n",
    "\n",
    "# def predict_demand():\n",
    "    #Predict demand should be initialized within in a certain time in a periodic interval, for now say 12.00\n",
    "\n",
    "    #the product from the predicted demand should be limited as it should be sufficient for a certain time interval, say for a 2 weeks.\n",
    "\n",
    "    #Predict demand from demand forecasting with product\n",
    "\n",
    "    #order from multiple model, say from neural prophet, bilstm + cnn\n",
    "\n",
    "    #then compare, if all these model say for reorder, then init the order..\n",
    "\n",
    "    #convert to call reorder function\n",
    "\n",
    "    #in reorder.. trigger the agent for mail automation\n",
    "\n",
    "    #an separate id each product to send the mail\n",
    "\n",
    "    #Message inference saver for real time check and inference"
   ]
  },
  {
   "cell_type": "code",
   "execution_count": 3,
   "id": "307a3e60",
   "metadata": {},
   "outputs": [],
   "source": [
    "import datetime\n",
    "# from models import predict_with_neuralprophet, predict_with_bilstm_cnn\n",
    "# from notification import send_reorder_mail\n",
    "\n",
    "def predict_with_neuralprophet(product_id, days):\n",
    "    return {\n",
    "        \"reorder\": True,  \n",
    "        \"demand\": 120  \n",
    "    }\n",
    "\n",
    "def predict_with_bilstm_cnn(product_id, days):\n",
    "    return {\n",
    "        \"reorder\": True,  \n",
    "        \"demand\": 115 \n",
    "    }\n",
    "\n",
    "# Constants\n",
    "REORDER_CHECK_TIME = datetime.time(hour=12, minute=0)\n",
    "REORDER_WINDOW_DAYS = 7  \n",
    "\n",
    "def should_check_reorder():\n",
    "    now = datetime.datetime.now().time()\n",
    "    return now.hour == REORDER_CHECK_TIME.hour and now.minute == REORDER_CHECK_TIME.minute\n",
    "\n",
    "def predict_demand_for_product(product_id):\n",
    "    pred1 = predict_with_neuralprophet(product_id, days=REORDER_WINDOW_DAYS)\n",
    "    pred2 = predict_with_bilstm_cnn(product_id, days=REORDER_WINDOW_DAYS)\n",
    "\n",
    "    print(f\"[INFO] Model predictions: NeuralProphet={pred1}, BiLSTM+CNN={pred2}\")\n",
    "    \n",
    "    if pred1['reorder'] and pred2['reorder']:\n",
    "        return True, (pred1['demand'], pred2['demand'])\n",
    "    return False, (pred1['demand'], pred2['demand'])\n",
    "def send_reorder_mail(product_id, demand_values):\n",
    "    message = f\"Reorder needed for product {product_id}. Predicted demand: {demand_values}\"\n",
    "    print(f\"[EMAIL] {message}\")\n",
    "\n",
    "def reorder(product_id, predicted_demand):\n",
    "    send_reorder_mail(product_id, predicted_demand)\n",
    "    print(f\"[ACTION] Reorder mail triggered for {product_id} with demand: {predicted_demand}\")\n",
    "\n",
    "def run_reorder_process(products):\n",
    "    if not should_check_reorder():\n",
    "        print(\"[SKIP] Not the time to check reorder.\")\n",
    "        return\n",
    "\n",
    "    for product_id in products:\n",
    "        reorder_needed, demand_values = predict_demand_for_product(product_id)\n",
    "        if reorder_needed:\n",
    "            reorder(product_id, demand_values)\n",
    "        else:\n",
    "            print(f\"[INFO] No reorder needed for product {product_id}\")"
   ]
  },
  {
   "cell_type": "code",
   "execution_count": 4,
   "id": "9557c873",
   "metadata": {},
   "outputs": [],
   "source": [
    "def predict_with_neuralprophet(product_id, days):\n",
    "    return {\n",
    "        \"reorder\": True,  # Or False\n",
    "        \"demand\": 120  # Dummy value\n",
    "    }\n",
    "\n",
    "def predict_with_bilstm_cnn(product_id, days):\n",
    "    # Real implementation should load model + data\n",
    "    return {\n",
    "        \"reorder\": True,  # Or False\n",
    "        \"demand\": 115  # Dummy value\n",
    "    }\n"
   ]
  },
  {
   "cell_type": "code",
   "execution_count": 5,
   "id": "ab4d8d13",
   "metadata": {},
   "outputs": [],
   "source": [
    "def send_reorder_mail(product_id, demand_values):\n",
    "    message = f\"Reorder needed for product {product_id}. Predicted demand: {demand_values}\"\n",
    "    print(f\"[EMAIL] {message}\")\n"
   ]
  },
  {
   "cell_type": "code",
   "execution_count": 7,
   "id": "cb14be32",
   "metadata": {},
   "outputs": [],
   "source": [
    "# [Sales Data] → [Preprocessing] → [NeuralProphet | BiLSTM+CNN]\n",
    "#                                     ↓\n",
    "#                       [Demand Predictions (with confidence)]\n",
    "#                                     ↓\n",
    "#           [Reorder Decision Engine (ensemble logic + stock + lead time)]\n",
    "#                                     ↓\n",
    "#              [Budget Constraint Check + Prioritization (optional)]\n",
    "#                                     ↓\n",
    "#                   [Reorder Trigger → Mail/Agent → Optional Payment]\n",
    "#                                     ↓\n",
    "#                  [Inference Log / Dashboard / Admin Approval]\n"
   ]
  },
  {
   "cell_type": "code",
   "execution_count": 8,
   "id": "b7119c37",
   "metadata": {},
   "outputs": [],
   "source": [
    "import sys\n",
    "import os\n",
    "\n",
    "sys.path.append(os.path.abspath(os.path.join(\"..\")))"
   ]
  },
  {
   "cell_type": "code",
   "execution_count": 18,
   "id": "4d5f79ed",
   "metadata": {},
   "outputs": [
    {
     "data": {
      "text/plain": [
       "23.034370243549347"
      ]
     },
     "execution_count": 18,
     "metadata": {},
     "output_type": "execute_result"
    }
   ],
   "source": [
    "from forecasting.item_forecasting import predict_sales\n",
    "\n",
    "#params 1: store, paras 2: item\n",
    "demand = predict_sales(6, 17)\n",
    "demand"
   ]
  },
  {
   "cell_type": "code",
   "execution_count": 19,
   "id": "a4f7e2e9",
   "metadata": {},
   "outputs": [],
   "source": [
    "#reorder\n",
    "\n",
    "def reorder_logic(predicted_demand, reorder_threshold= 50):\n",
    "    if predicted_demand > reorder_threshold:\n",
    "        return {\n",
    "            \"pred\": True,\n",
    "            \"quan\": predicted_demand\n",
    "        }\n",
    "    else:\n",
    "        return {\n",
    "            \"pred\": False,\n",
    "            \"quan\": None\n",
    "        }"
   ]
  },
  {
   "cell_type": "code",
   "execution_count": null,
   "id": "456866b1",
   "metadata": {},
   "outputs": [],
   "source": [
    "# predict demand(store, item) -> compare with reorder_threshold -> if true: automate email, send conformation to manager\n",
    "# else wait for some time, \n",
    "# check for arrival with qr logic.. if arrived, update with db\n",
    "# product update with billing system\n",
    "# inference per day for each order..\n",
    "# certain time rescheduler - completed\n",
    "# scheduler trigger\n",
    "2# user interface with streamlit or some other .."
   ]
  },
  {
   "cell_type": "code",
   "execution_count": 101,
   "id": "c4c3ef45",
   "metadata": {},
   "outputs": [],
   "source": [
    "def should_reorder(predicted_demand, current_stock, reorder_threshold):\n",
    "    return (predicted_demand >= reorder_threshold) and (current_stock <= reorder_threshold)"
   ]
  },
  {
   "cell_type": "code",
   "execution_count": 44,
   "id": "95b3ef29",
   "metadata": {},
   "outputs": [],
   "source": [
    "import os\n",
    "import sys\n",
    "\n",
    "sys.path.append(os.path.abspath(os.path.join(\"..\")))"
   ]
  },
  {
   "cell_type": "code",
   "execution_count": 93,
   "id": "bfdf7eb5",
   "metadata": {},
   "outputs": [],
   "source": [
    "import sqlite3"
   ]
  },
  {
   "cell_type": "code",
   "execution_count": 94,
   "id": "dfd194ea",
   "metadata": {},
   "outputs": [],
   "source": [
    "con = sqlite3.connect(\"A:/spark/database/products.db\")"
   ]
  },
  {
   "cell_type": "code",
   "execution_count": null,
   "id": "94abe274",
   "metadata": {},
   "outputs": [
    {
     "ename": "NameError",
     "evalue": "name '__file__' is not defined",
     "output_type": "error",
     "traceback": [
      "\u001b[1;31m---------------------------------------------------------------------------\u001b[0m",
      "\u001b[1;31mNameError\u001b[0m                                 Traceback (most recent call last)",
      "Cell \u001b[1;32mIn[2], line 4\u001b[0m\n\u001b[0;32m      1\u001b[0m \u001b[38;5;28;01mimport\u001b[39;00m \u001b[38;5;21;01mos\u001b[39;00m\n\u001b[0;32m      2\u001b[0m \u001b[38;5;28;01mimport\u001b[39;00m \u001b[38;5;21;01msys\u001b[39;00m\n\u001b[1;32m----> 4\u001b[0m sys\u001b[38;5;241m.\u001b[39mpath\u001b[38;5;241m.\u001b[39mappend(os\u001b[38;5;241m.\u001b[39mpath\u001b[38;5;241m.\u001b[39mabspath(os\u001b[38;5;241m.\u001b[39mpath\u001b[38;5;241m.\u001b[39mdirname(\u001b[38;5;18;43m__file__\u001b[39;49m)))\n\u001b[0;32m      6\u001b[0m \u001b[38;5;28;01mfrom\u001b[39;00m \u001b[38;5;21;01mdb_retrieval\u001b[39;00m \u001b[38;5;28;01mimport\u001b[39;00m product_retrieval\n\u001b[0;32m      8\u001b[0m \u001b[38;5;28mprint\u001b[39m(product_retrieval(\u001b[38;5;124m\"\u001b[39m\u001b[38;5;124mselect * from items\u001b[39m\u001b[38;5;124m\"\u001b[39m, \u001b[38;5;124m\"\u001b[39m\u001b[38;5;124mproducts\u001b[39m\u001b[38;5;124m\"\u001b[39m))\n",
      "\u001b[1;31mNameError\u001b[0m: name '__file__' is not defined"
     ]
    }
   ],
   "source": [
    "#dynamic retrieval\n",
    "import os\n",
    "import sys\n",
    "\n",
    "sys.path.append(os.path.abspath(os.path.dirname(__file__)))\n",
    "\n",
    "from db_retrieval import product_retrieval\n",
    "    \n",
    "print(product_retrieval(\"select * from items\", \"products\"))"
   ]
  },
  {
   "cell_type": "code",
   "execution_count": 95,
   "id": "4384ce8f",
   "metadata": {},
   "outputs": [],
   "source": [
    "cur = con.cursor()"
   ]
  },
  {
   "cell_type": "code",
   "execution_count": 79,
   "id": "f93cfa88",
   "metadata": {},
   "outputs": [
    {
     "data": {
      "text/plain": [
       "<sqlite3.Cursor at 0x220ab872740>"
      ]
     },
     "execution_count": 79,
     "metadata": {},
     "output_type": "execute_result"
    }
   ],
   "source": [
    "cur.execute(\"select * from items where id ='1'\")"
   ]
  },
  {
   "cell_type": "code",
   "execution_count": 83,
   "id": "0f4bd9a5",
   "metadata": {},
   "outputs": [
    {
     "data": {
      "text/plain": [
       "[]"
      ]
     },
     "execution_count": 83,
     "metadata": {},
     "output_type": "execute_result"
    }
   ],
   "source": [
    "cur.fetchall()"
   ]
  },
  {
   "cell_type": "code",
   "execution_count": null,
   "id": "8a71c730",
   "metadata": {},
   "outputs": [],
   "source": []
  }
 ],
 "metadata": {
  "kernelspec": {
   "display_name": "Python 3",
   "language": "python",
   "name": "python3"
  },
  "language_info": {
   "codemirror_mode": {
    "name": "ipython",
    "version": 3
   },
   "file_extension": ".py",
   "mimetype": "text/x-python",
   "name": "python",
   "nbconvert_exporter": "python",
   "pygments_lexer": "ipython3",
   "version": "3.12.6"
  }
 },
 "nbformat": 4,
 "nbformat_minor": 5
}
