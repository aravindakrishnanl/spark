{
 "cells": [
  {
   "cell_type": "code",
   "execution_count": 1,
   "id": "b5833fb6",
   "metadata": {},
   "outputs": [
    {
     "data": {
      "text/plain": [
       "'Siva Siva'"
      ]
     },
     "execution_count": 1,
     "metadata": {},
     "output_type": "execute_result"
    }
   ],
   "source": [
    "\"Siva Siva\""
   ]
  },
  {
   "cell_type": "code",
   "execution_count": 2,
   "id": "30a3e9cf",
   "metadata": {},
   "outputs": [],
   "source": [
    "#Reorder logic\n",
    "\n",
    "# def predict_demand():\n",
    "    #Predict demand should be initialized within in a certain time in a periodic interval, for now say 12.00\n",
    "\n",
    "    #the product from the predicted demand should be limited as it should be sufficient for a certain time interval, say for a 2 weeks.\n",
    "\n",
    "    #Predict demand from demand forecasting with product\n",
    "\n",
    "    #order from multiple model, say from neural prophet, bilstm + cnn\n",
    "\n",
    "    #then compare, if all these model say for reorder, then init the order..\n",
    "\n",
    "    #convert to call reorder function\n",
    "\n",
    "    #in reorder.. trigger the agent for mail automation\n",
    "\n",
    "    #an separate id each product to send the mail\n",
    "\n",
    "    #Message inference saver for real time check and inference"
   ]
  },
  {
   "cell_type": "code",
   "execution_count": 11,
   "id": "456866b1",
   "metadata": {},
   "outputs": [],
   "source": [
    "# predict demand(store, item) -> compare with reorder_threshold -> if true: automate email, send conformation to manager\n",
    "# else wait for some time, \n",
    "# check for arrival with qr logic.. if arrived, update with db\n",
    "# product update with billing system\n",
    "# inference per day for each order..\n",
    "# certain time rescheduler - completed\n",
    "# scheduler trigger\n",
    "# user interface with streamlit or some other .."
   ]
  },
  {
   "cell_type": "code",
   "execution_count": null,
   "id": "ae4d6331",
   "metadata": {},
   "outputs": [],
   "source": [
    "# db retrieval -> check for reorder -> retrieve_email -> sample.py"
   ]
  },
  {
   "cell_type": "code",
   "execution_count": 131,
   "id": "8457c971",
   "metadata": {},
   "outputs": [
    {
     "data": {
      "text/html": [
       "<div>\n",
       "<style scoped>\n",
       "    .dataframe tbody tr th:only-of-type {\n",
       "        vertical-align: middle;\n",
       "    }\n",
       "\n",
       "    .dataframe tbody tr th {\n",
       "        vertical-align: top;\n",
       "    }\n",
       "\n",
       "    .dataframe thead th {\n",
       "        text-align: right;\n",
       "    }\n",
       "</style>\n",
       "<table border=\"1\" class=\"dataframe\">\n",
       "  <thead>\n",
       "    <tr style=\"text-align: right;\">\n",
       "      <th></th>\n",
       "      <th>email_id</th>\n",
       "      <th>product_name</th>\n",
       "      <th>quantity</th>\n",
       "    </tr>\n",
       "  </thead>\n",
       "  <tbody>\n",
       "    <tr>\n",
       "      <th>0</th>\n",
       "      <td>aravindhnov05@gmail.com</td>\n",
       "      <td>Detergent Powder</td>\n",
       "      <td>[53]</td>\n",
       "    </tr>\n",
       "    <tr>\n",
       "      <th>1</th>\n",
       "      <td>gokulrajtvm05@gmail.com</td>\n",
       "      <td>Shampoo, Hand Sanitizer</td>\n",
       "      <td>[51, 51]</td>\n",
       "    </tr>\n",
       "    <tr>\n",
       "      <th>2</th>\n",
       "      <td>madhavan07vk@gmail.com</td>\n",
       "      <td>Face Wash, Detergent Bar</td>\n",
       "      <td>[57, 52]</td>\n",
       "    </tr>\n",
       "    <tr>\n",
       "      <th>3</th>\n",
       "      <td>madhavan86776@gmail.com</td>\n",
       "      <td>Toothpaste</td>\n",
       "      <td>[53]</td>\n",
       "    </tr>\n",
       "    <tr>\n",
       "      <th>4</th>\n",
       "      <td>siddharth.sulur@gmail.com</td>\n",
       "      <td>Soap, Toothbrush, Hair Oil</td>\n",
       "      <td>[52, 54, 55]</td>\n",
       "    </tr>\n",
       "    <tr>\n",
       "      <th>5</th>\n",
       "      <td>siddharthsridhar2006@gmail.com</td>\n",
       "      <td>Comb, Sanitary Napkins</td>\n",
       "      <td>[51, 58]</td>\n",
       "    </tr>\n",
       "  </tbody>\n",
       "</table>\n",
       "</div>"
      ],
      "text/plain": [
       "                         email_id                product_name      quantity\n",
       "0         aravindhnov05@gmail.com            Detergent Powder          [53]\n",
       "1         gokulrajtvm05@gmail.com     Shampoo, Hand Sanitizer      [51, 51]\n",
       "2          madhavan07vk@gmail.com    Face Wash, Detergent Bar      [57, 52]\n",
       "3         madhavan86776@gmail.com                  Toothpaste          [53]\n",
       "4       siddharth.sulur@gmail.com  Soap, Toothbrush, Hair Oil  [52, 54, 55]\n",
       "5  siddharthsridhar2006@gmail.com      Comb, Sanitary Napkins      [51, 58]"
      ]
     },
     "execution_count": 131,
     "metadata": {},
     "output_type": "execute_result"
    }
   ],
   "source": [
    "grouped_df"
   ]
  },
  {
   "cell_type": "code",
   "execution_count": 133,
   "id": "f94e9494",
   "metadata": {},
   "outputs": [
    {
     "name": "stdout",
     "output_type": "stream",
     "text": [
      "Send an email to aravindhnov05@gmail.com with subject 'Product Restock Request' and body:\n",
      "\n",
      "Dear Supplier,\n",
      "\n",
      "We would like to order the following products:\n",
      "- Detergent Powder: 53 units\n",
      "\n",
      "Please confirm availability and delivery timeline.\n",
      "\n",
      "Thanks,\n",
      "Inventory Team\n",
      "Send an email to gokulrajtvm05@gmail.com with subject 'Product Restock Request' and body:\n",
      "\n",
      "Dear Supplier,\n",
      "\n",
      "We would like to order the following products:\n",
      "- Shampoo: 51 units\n",
      "- Hand Sanitizer: 51 units\n",
      "\n",
      "Please confirm availability and delivery timeline.\n",
      "\n",
      "Thanks,\n",
      "Inventory Team\n",
      "Send an email to madhavan07vk@gmail.com with subject 'Product Restock Request' and body:\n",
      "\n",
      "Dear Supplier,\n",
      "\n",
      "We would like to order the following products:\n",
      "- Face Wash: 57 units\n",
      "- Detergent Bar: 52 units\n",
      "\n",
      "Please confirm availability and delivery timeline.\n",
      "\n",
      "Thanks,\n",
      "Inventory Team\n",
      "Send an email to madhavan86776@gmail.com with subject 'Product Restock Request' and body:\n",
      "\n",
      "Dear Supplier,\n",
      "\n",
      "We would like to order the following products:\n",
      "- Toothpaste: 53 units\n",
      "\n",
      "Please confirm availability and delivery timeline.\n",
      "\n",
      "Thanks,\n",
      "Inventory Team\n",
      "Send an email to siddharth.sulur@gmail.com with subject 'Product Restock Request' and body:\n",
      "\n",
      "Dear Supplier,\n",
      "\n",
      "We would like to order the following products:\n",
      "- Soap: 52 units\n",
      "- Toothbrush: 54 units\n",
      "- Hair Oil: 55 units\n",
      "\n",
      "Please confirm availability and delivery timeline.\n",
      "\n",
      "Thanks,\n",
      "Inventory Team\n",
      "Send an email to siddharthsridhar2006@gmail.com with subject 'Product Restock Request' and body:\n",
      "\n",
      "Dear Supplier,\n",
      "\n",
      "We would like to order the following products:\n",
      "- Comb: 51 units\n",
      "- Sanitary Napkins: 58 units\n",
      "\n",
      "Please confirm availability and delivery timeline.\n",
      "\n",
      "Thanks,\n",
      "Inventory Team\n"
     ]
    }
   ],
   "source": [
    "for _, row in grouped_df.iterrows():\n",
    "    products = [p.strip() for p in row['product_name'].split(',')]\n",
    "    quantities = eval(row['quantity']) if isinstance(row['quantity'], str) else row['quantity']\n",
    "\n",
    "    product_lines = [\n",
    "        f\"- {prod}: {qty} units\"\n",
    "        for prod, qty in zip(products, quantities)\n",
    "    ]\n",
    "    product_list_str = \"\\n\".join(product_lines)\n",
    "\n",
    "    instruction = (\n",
    "        f\"Send an email to {row['email_id']} with subject 'Product Restock Request' and body:\\n\\n\"\n",
    "        f\"Dear Supplier,\\n\\n\"\n",
    "        f\"We would like to order the following products:\\n\"\n",
    "        f\"{product_list_str}\\n\\n\"\n",
    "        f\"Please confirm availability and delivery timeline.\\n\\n\"\n",
    "        f\"Thanks,\\nInventory Team\"\n",
    "    )\n",
    "    print(instruction)"
   ]
  },
  {
   "cell_type": "code",
   "execution_count": 134,
   "id": "03a54e8c",
   "metadata": {},
   "outputs": [],
   "source": [
    "data = {\n",
    "    \"email_id\": [\n",
    "        \"aravindhnov05@gmail.com\",\n",
    "        \"gokulrajtvm05@gmail.com\",\n",
    "        \"madhavan07vk@gmail.com\",\n",
    "        \"madhavan86776@gmail.com\",\n",
    "        \"siddharth.sulur@gmail.com\",\n",
    "        \"siddharthsridhar2006@gmail.com\"\n",
    "    ],\n",
    "    \"product_name\": [\n",
    "        \"Detergent Powder\",\n",
    "        \"Shampoo, Hand Sanitizer\",\n",
    "        \"Face Wash, Detergent Bar\",\n",
    "        \"Toothpaste\",\n",
    "        \"Soap, Toothbrush, Hair Oil\",\n",
    "        \"Comb, Sanitary Napkins\"\n",
    "    ],\n",
    "    \"quantity\": [\n",
    "        [53],\n",
    "        [51, 51],\n",
    "        [57, 52],\n",
    "        [53],\n",
    "        [52, 54, 55],\n",
    "        [51, 58]\n",
    "    ]\n",
    "}\n",
    "\n",
    "df = pd.DataFrame(data)"
   ]
  },
  {
   "cell_type": "code",
   "execution_count": 135,
   "id": "1b773c0c",
   "metadata": {},
   "outputs": [
    {
     "name": "stdout",
     "output_type": "stream",
     "text": [
      "\n",
      "\n",
      "\u001b[1m> Entering new AgentExecutor chain...\u001b[0m\n",
      "\u001b[32;1m\u001b[1;3m<think>\n",
      "Okay, so the user wants me to send an email using the send_email function. Let me break down the requirements. The recipient's email is aravindhnov05@gmail.com, the subject is 'Product Restock Request', and the body needs to be formatted properly. \n",
      "\n",
      "First, I need to structure the body correctly. The user provided a template: \"Dear Supplier, We would like to order the following products: - Detergent Powder: 53 units Please confirm availability and delivery timeline.\" I should make sure the body is clear and includes all the necessary details.\n",
      "\n",
      "Next, I'll use the send_email tool. The function requires three parameters: recipient_name, subject, and body. I'll plug in the values accordingly. \n",
      "\n",
      "I should double-check that the body is properly formatted without any typos. Also, ensure that the subject is accurate and the recipient's email is correct. Once everything looks good, I'll execute the send_email function with the provided parameters.\n",
      "</think>\n",
      "\n",
      "The email has been sent with the specified details.\n",
      "\n",
      "Action:\n",
      "```json\n",
      "{\n",
      "  \"action\": \"send_email\",\n",
      "  \"action_input\": {\n",
      "    \"recipient_name\": \"aravindhnov05@gmail.com\",\n",
      "    \"subject\": \"Product Restock Request\",\n",
      "    \"body\": \"Dear Supplier,\\nWe would like to order the following products:\\n- Detergent Powder: 53 units\\nPlease confirm availability and delivery timeline.\"\n",
      "  }\n",
      "}\n",
      "```\n",
      "\u001b[0m\u001b[36;1m\u001b[1;3mSuccess\u001b[0m\u001b[32;1m\u001b[1;3m\n",
      "\n",
      "The email has been successfully sent to aravindhnov05@gmail.com with the subject 'Product Restock Request' and the specified body.\n",
      "\n",
      "Action:\n",
      "```json\n",
      "{\n",
      "  \"action\": \"Final Answer\",\n",
      "  \"action_input\": \"Email sent successfully.\"\n",
      "}\n",
      "```\u001b[0m\n",
      "\n",
      "\u001b[1m> Finished chain.\u001b[0m\n",
      "\n",
      "\n",
      "\u001b[1m> Entering new AgentExecutor chain...\u001b[0m\n",
      "\u001b[32;1m\u001b[1;3m<think>\n",
      "Okay, so the user wants me to send an email to gokulrajtvm05@gmail.com with a specific subject and body. Let me break this down.\n",
      "\n",
      "First, I need to identify the tool to use. The user mentioned the send_email function, which is available. So, I should use that.\n",
      "\n",
      "Next, I'll extract the parameters. The recipient_name is clearly the email address provided. The subject is 'Product Restock Request'. The body needs to be formatted correctly. The user provided the body content, so I'll make sure to include that exactly as specified, keeping the structure with the products listed.\n",
      "\n",
      "I should structure the JSON blob with the action as \"send_email\" and include the action_input with all the parameters. I'll double-check the syntax to ensure there are no errors.\n",
      "\n",
      "Finally, I'll present the JSON blob as the action. That should fulfill the user's request accurately.\n",
      "</think>\n",
      "\n",
      "I'll help you send the email using the send_email tool. Here's the formatted request:\n",
      "\n",
      "Action:\n",
      "```json\n",
      "{\n",
      "  \"action\": \"send_email\",\n",
      "  \"action_input\": {\n",
      "    \"recipient_name\": \"gokulrajtvm05@gmail.com\",\n",
      "    \"subject\": \"Product Restock Request\",\n",
      "    \"body\": \"Dear Supplier,\\n\\nWe would like to order the following products:\\n\\n- Shampoo: 51 units\\n- Hand Sanitizer: 51 units\\n\\nPlease confirm availability and delivery timeline.\"\n",
      "  }\n",
      "}\n",
      "```\n",
      "\u001b[0m"
     ]
    },
    {
     "ename": "KeyboardInterrupt",
     "evalue": "",
     "output_type": "error",
     "traceback": [
      "\u001b[1;31m---------------------------------------------------------------------------\u001b[0m",
      "\u001b[1;31mKeyboardInterrupt\u001b[0m                         Traceback (most recent call last)",
      "Cell \u001b[1;32mIn[135], line 3\u001b[0m\n\u001b[0;32m      1\u001b[0m \u001b[38;5;28;01mfrom\u001b[39;00m \u001b[38;5;21;01mfinal_email_1\u001b[39;00m \u001b[38;5;28;01mimport\u001b[39;00m automate_email\n\u001b[1;32m----> 3\u001b[0m \u001b[43mautomate_email\u001b[49m\u001b[43m(\u001b[49m\u001b[43mdf\u001b[49m\u001b[43m)\u001b[49m\n",
      "File \u001b[1;32ma:\\spark\\src\\final_email_1.py:55\u001b[0m, in \u001b[0;36mautomate_email\u001b[1;34m(df)\u001b[0m\n\u001b[0;32m     47\u001b[0m product_list_str \u001b[38;5;241m=\u001b[39m \u001b[38;5;124m\"\u001b[39m\u001b[38;5;130;01m\\n\u001b[39;00m\u001b[38;5;124m\"\u001b[39m\u001b[38;5;241m.\u001b[39mjoin(product_lines)\n\u001b[0;32m     49\u001b[0m instruction \u001b[38;5;241m=\u001b[39m (\n\u001b[0;32m     50\u001b[0m     \u001b[38;5;124mf\u001b[39m\u001b[38;5;124m\"\"\"\u001b[39m\u001b[38;5;124mSend an email to \u001b[39m\u001b[38;5;132;01m{\u001b[39;00mrow[\u001b[38;5;124m'\u001b[39m\u001b[38;5;124memail_id\u001b[39m\u001b[38;5;124m'\u001b[39m]\u001b[38;5;132;01m}\u001b[39;00m\u001b[38;5;124m with subject \u001b[39m\u001b[38;5;124m'\u001b[39m\u001b[38;5;124mProduct Restock Request\u001b[39m\u001b[38;5;124m'\u001b[39m\u001b[38;5;124m and body: as like these Dear Supplier, We would like to order the following products:\u001b[39m\n\u001b[0;32m     51\u001b[0m \u001b[38;5;124m    We would like to order the following products: \u001b[39m\u001b[38;5;132;01m{\u001b[39;00mproduct_list_str\u001b[38;5;132;01m}\u001b[39;00m\u001b[38;5;124mPlease confirm availability and delivery timeline. Make sure that this is formated and send to \u001b[39m\n\u001b[0;32m     52\u001b[0m \u001b[38;5;124m    send_email function.. the params are \u001b[39m\u001b[38;5;124m'\u001b[39m\u001b[38;5;124mrecipient_name\u001b[39m\u001b[38;5;124m'\u001b[39m\u001b[38;5;124m, \u001b[39m\u001b[38;5;124m'\u001b[39m\u001b[38;5;124msubject\u001b[39m\u001b[38;5;124m'\u001b[39m\u001b[38;5;124m, \u001b[39m\u001b[38;5;124m'\u001b[39m\u001b[38;5;124mbody\u001b[39m\u001b[38;5;124m'\u001b[39m\u001b[38;5;124m \u001b[39m\u001b[38;5;124m\"\"\"\u001b[39m\n\u001b[0;32m     53\u001b[0m )\n\u001b[1;32m---> 55\u001b[0m \u001b[43mexecutor\u001b[49m\u001b[38;5;241;43m.\u001b[39;49m\u001b[43minvoke\u001b[49m\u001b[43m(\u001b[49m\u001b[43m{\u001b[49m\u001b[38;5;124;43m\"\u001b[39;49m\u001b[38;5;124;43minput\u001b[39;49m\u001b[38;5;124;43m\"\u001b[39;49m\u001b[43m:\u001b[49m\u001b[43m \u001b[49m\u001b[43minstruction\u001b[49m\u001b[43m}\u001b[49m\u001b[43m)\u001b[49m\n",
      "File \u001b[1;32mc:\\Users\\aravi\\AppData\\Local\\Programs\\Python\\Python312\\Lib\\site-packages\\langchain\\chains\\base.py:167\u001b[0m, in \u001b[0;36mChain.invoke\u001b[1;34m(self, input, config, **kwargs)\u001b[0m\n\u001b[0;32m    165\u001b[0m \u001b[38;5;28;01mexcept\u001b[39;00m \u001b[38;5;167;01mBaseException\u001b[39;00m \u001b[38;5;28;01mas\u001b[39;00m e:\n\u001b[0;32m    166\u001b[0m     run_manager\u001b[38;5;241m.\u001b[39mon_chain_error(e)\n\u001b[1;32m--> 167\u001b[0m     \u001b[38;5;28;01mraise\u001b[39;00m e\n\u001b[0;32m    168\u001b[0m run_manager\u001b[38;5;241m.\u001b[39mon_chain_end(outputs)\n\u001b[0;32m    170\u001b[0m \u001b[38;5;28;01mif\u001b[39;00m include_run_info:\n",
      "File \u001b[1;32mc:\\Users\\aravi\\AppData\\Local\\Programs\\Python\\Python312\\Lib\\site-packages\\langchain\\chains\\base.py:157\u001b[0m, in \u001b[0;36mChain.invoke\u001b[1;34m(self, input, config, **kwargs)\u001b[0m\n\u001b[0;32m    154\u001b[0m \u001b[38;5;28;01mtry\u001b[39;00m:\n\u001b[0;32m    155\u001b[0m     \u001b[38;5;28mself\u001b[39m\u001b[38;5;241m.\u001b[39m_validate_inputs(inputs)\n\u001b[0;32m    156\u001b[0m     outputs \u001b[38;5;241m=\u001b[39m (\n\u001b[1;32m--> 157\u001b[0m         \u001b[38;5;28;43mself\u001b[39;49m\u001b[38;5;241;43m.\u001b[39;49m\u001b[43m_call\u001b[49m\u001b[43m(\u001b[49m\u001b[43minputs\u001b[49m\u001b[43m,\u001b[49m\u001b[43m \u001b[49m\u001b[43mrun_manager\u001b[49m\u001b[38;5;241;43m=\u001b[39;49m\u001b[43mrun_manager\u001b[49m\u001b[43m)\u001b[49m\n\u001b[0;32m    158\u001b[0m         \u001b[38;5;28;01mif\u001b[39;00m new_arg_supported\n\u001b[0;32m    159\u001b[0m         \u001b[38;5;28;01melse\u001b[39;00m \u001b[38;5;28mself\u001b[39m\u001b[38;5;241m.\u001b[39m_call(inputs)\n\u001b[0;32m    160\u001b[0m     )\n\u001b[0;32m    162\u001b[0m     final_outputs: \u001b[38;5;28mdict\u001b[39m[\u001b[38;5;28mstr\u001b[39m, Any] \u001b[38;5;241m=\u001b[39m \u001b[38;5;28mself\u001b[39m\u001b[38;5;241m.\u001b[39mprep_outputs(\n\u001b[0;32m    163\u001b[0m         inputs, outputs, return_only_outputs\n\u001b[0;32m    164\u001b[0m     )\n\u001b[0;32m    165\u001b[0m \u001b[38;5;28;01mexcept\u001b[39;00m \u001b[38;5;167;01mBaseException\u001b[39;00m \u001b[38;5;28;01mas\u001b[39;00m e:\n",
      "File \u001b[1;32mc:\\Users\\aravi\\AppData\\Local\\Programs\\Python\\Python312\\Lib\\site-packages\\langchain\\agents\\agent.py:1620\u001b[0m, in \u001b[0;36mAgentExecutor._call\u001b[1;34m(self, inputs, run_manager)\u001b[0m\n\u001b[0;32m   1618\u001b[0m \u001b[38;5;66;03m# We now enter the agent loop (until it returns something).\u001b[39;00m\n\u001b[0;32m   1619\u001b[0m \u001b[38;5;28;01mwhile\u001b[39;00m \u001b[38;5;28mself\u001b[39m\u001b[38;5;241m.\u001b[39m_should_continue(iterations, time_elapsed):\n\u001b[1;32m-> 1620\u001b[0m     next_step_output \u001b[38;5;241m=\u001b[39m \u001b[38;5;28;43mself\u001b[39;49m\u001b[38;5;241;43m.\u001b[39;49m\u001b[43m_take_next_step\u001b[49m\u001b[43m(\u001b[49m\n\u001b[0;32m   1621\u001b[0m \u001b[43m        \u001b[49m\u001b[43mname_to_tool_map\u001b[49m\u001b[43m,\u001b[49m\n\u001b[0;32m   1622\u001b[0m \u001b[43m        \u001b[49m\u001b[43mcolor_mapping\u001b[49m\u001b[43m,\u001b[49m\n\u001b[0;32m   1623\u001b[0m \u001b[43m        \u001b[49m\u001b[43minputs\u001b[49m\u001b[43m,\u001b[49m\n\u001b[0;32m   1624\u001b[0m \u001b[43m        \u001b[49m\u001b[43mintermediate_steps\u001b[49m\u001b[43m,\u001b[49m\n\u001b[0;32m   1625\u001b[0m \u001b[43m        \u001b[49m\u001b[43mrun_manager\u001b[49m\u001b[38;5;241;43m=\u001b[39;49m\u001b[43mrun_manager\u001b[49m\u001b[43m,\u001b[49m\n\u001b[0;32m   1626\u001b[0m \u001b[43m    \u001b[49m\u001b[43m)\u001b[49m\n\u001b[0;32m   1627\u001b[0m     \u001b[38;5;28;01mif\u001b[39;00m \u001b[38;5;28misinstance\u001b[39m(next_step_output, AgentFinish):\n\u001b[0;32m   1628\u001b[0m         \u001b[38;5;28;01mreturn\u001b[39;00m \u001b[38;5;28mself\u001b[39m\u001b[38;5;241m.\u001b[39m_return(\n\u001b[0;32m   1629\u001b[0m             next_step_output, intermediate_steps, run_manager\u001b[38;5;241m=\u001b[39mrun_manager\n\u001b[0;32m   1630\u001b[0m         )\n",
      "File \u001b[1;32mc:\\Users\\aravi\\AppData\\Local\\Programs\\Python\\Python312\\Lib\\site-packages\\langchain\\agents\\agent.py:1328\u001b[0m, in \u001b[0;36mAgentExecutor._take_next_step\u001b[1;34m(self, name_to_tool_map, color_mapping, inputs, intermediate_steps, run_manager)\u001b[0m\n\u001b[0;32m   1317\u001b[0m \u001b[38;5;28;01mdef\u001b[39;00m \u001b[38;5;21m_take_next_step\u001b[39m(\n\u001b[0;32m   1318\u001b[0m     \u001b[38;5;28mself\u001b[39m,\n\u001b[0;32m   1319\u001b[0m     name_to_tool_map: \u001b[38;5;28mdict\u001b[39m[\u001b[38;5;28mstr\u001b[39m, BaseTool],\n\u001b[1;32m   (...)\u001b[0m\n\u001b[0;32m   1323\u001b[0m     run_manager: Optional[CallbackManagerForChainRun] \u001b[38;5;241m=\u001b[39m \u001b[38;5;28;01mNone\u001b[39;00m,\n\u001b[0;32m   1324\u001b[0m ) \u001b[38;5;241m-\u001b[39m\u001b[38;5;241m>\u001b[39m Union[AgentFinish, \u001b[38;5;28mlist\u001b[39m[\u001b[38;5;28mtuple\u001b[39m[AgentAction, \u001b[38;5;28mstr\u001b[39m]]]:\n\u001b[0;32m   1325\u001b[0m     \u001b[38;5;28;01mreturn\u001b[39;00m \u001b[38;5;28mself\u001b[39m\u001b[38;5;241m.\u001b[39m_consume_next_step(\n\u001b[0;32m   1326\u001b[0m         [\n\u001b[0;32m   1327\u001b[0m             a\n\u001b[1;32m-> 1328\u001b[0m             \u001b[38;5;28;01mfor\u001b[39;00m a \u001b[38;5;129;01min\u001b[39;00m \u001b[38;5;28mself\u001b[39m\u001b[38;5;241m.\u001b[39m_iter_next_step(\n\u001b[0;32m   1329\u001b[0m                 name_to_tool_map,\n\u001b[0;32m   1330\u001b[0m                 color_mapping,\n\u001b[0;32m   1331\u001b[0m                 inputs,\n\u001b[0;32m   1332\u001b[0m                 intermediate_steps,\n\u001b[0;32m   1333\u001b[0m                 run_manager,\n\u001b[0;32m   1334\u001b[0m             )\n\u001b[0;32m   1335\u001b[0m         ]\n\u001b[0;32m   1336\u001b[0m     )\n",
      "File \u001b[1;32mc:\\Users\\aravi\\AppData\\Local\\Programs\\Python\\Python312\\Lib\\site-packages\\langchain\\agents\\agent.py:1411\u001b[0m, in \u001b[0;36mAgentExecutor._iter_next_step\u001b[1;34m(self, name_to_tool_map, color_mapping, inputs, intermediate_steps, run_manager)\u001b[0m\n\u001b[0;32m   1409\u001b[0m     \u001b[38;5;28;01myield\u001b[39;00m agent_action\n\u001b[0;32m   1410\u001b[0m \u001b[38;5;28;01mfor\u001b[39;00m agent_action \u001b[38;5;129;01min\u001b[39;00m actions:\n\u001b[1;32m-> 1411\u001b[0m     \u001b[38;5;28;01myield\u001b[39;00m \u001b[38;5;28;43mself\u001b[39;49m\u001b[38;5;241;43m.\u001b[39;49m\u001b[43m_perform_agent_action\u001b[49m\u001b[43m(\u001b[49m\n\u001b[0;32m   1412\u001b[0m \u001b[43m        \u001b[49m\u001b[43mname_to_tool_map\u001b[49m\u001b[43m,\u001b[49m\u001b[43m \u001b[49m\u001b[43mcolor_mapping\u001b[49m\u001b[43m,\u001b[49m\u001b[43m \u001b[49m\u001b[43magent_action\u001b[49m\u001b[43m,\u001b[49m\u001b[43m \u001b[49m\u001b[43mrun_manager\u001b[49m\n\u001b[0;32m   1413\u001b[0m \u001b[43m    \u001b[49m\u001b[43m)\u001b[49m\n",
      "File \u001b[1;32mc:\\Users\\aravi\\AppData\\Local\\Programs\\Python\\Python312\\Lib\\site-packages\\langchain\\agents\\agent.py:1433\u001b[0m, in \u001b[0;36mAgentExecutor._perform_agent_action\u001b[1;34m(self, name_to_tool_map, color_mapping, agent_action, run_manager)\u001b[0m\n\u001b[0;32m   1431\u001b[0m         tool_run_kwargs[\u001b[38;5;124m\"\u001b[39m\u001b[38;5;124mllm_prefix\u001b[39m\u001b[38;5;124m\"\u001b[39m] \u001b[38;5;241m=\u001b[39m \u001b[38;5;124m\"\u001b[39m\u001b[38;5;124m\"\u001b[39m\n\u001b[0;32m   1432\u001b[0m     \u001b[38;5;66;03m# We then call the tool on the tool input to get an observation\u001b[39;00m\n\u001b[1;32m-> 1433\u001b[0m     observation \u001b[38;5;241m=\u001b[39m \u001b[43mtool\u001b[49m\u001b[38;5;241;43m.\u001b[39;49m\u001b[43mrun\u001b[49m\u001b[43m(\u001b[49m\n\u001b[0;32m   1434\u001b[0m \u001b[43m        \u001b[49m\u001b[43magent_action\u001b[49m\u001b[38;5;241;43m.\u001b[39;49m\u001b[43mtool_input\u001b[49m\u001b[43m,\u001b[49m\n\u001b[0;32m   1435\u001b[0m \u001b[43m        \u001b[49m\u001b[43mverbose\u001b[49m\u001b[38;5;241;43m=\u001b[39;49m\u001b[38;5;28;43mself\u001b[39;49m\u001b[38;5;241;43m.\u001b[39;49m\u001b[43mverbose\u001b[49m\u001b[43m,\u001b[49m\n\u001b[0;32m   1436\u001b[0m \u001b[43m        \u001b[49m\u001b[43mcolor\u001b[49m\u001b[38;5;241;43m=\u001b[39;49m\u001b[43mcolor\u001b[49m\u001b[43m,\u001b[49m\n\u001b[0;32m   1437\u001b[0m \u001b[43m        \u001b[49m\u001b[43mcallbacks\u001b[49m\u001b[38;5;241;43m=\u001b[39;49m\u001b[43mrun_manager\u001b[49m\u001b[38;5;241;43m.\u001b[39;49m\u001b[43mget_child\u001b[49m\u001b[43m(\u001b[49m\u001b[43m)\u001b[49m\u001b[43m \u001b[49m\u001b[38;5;28;43;01mif\u001b[39;49;00m\u001b[43m \u001b[49m\u001b[43mrun_manager\u001b[49m\u001b[43m \u001b[49m\u001b[38;5;28;43;01melse\u001b[39;49;00m\u001b[43m \u001b[49m\u001b[38;5;28;43;01mNone\u001b[39;49;00m\u001b[43m,\u001b[49m\n\u001b[0;32m   1438\u001b[0m \u001b[43m        \u001b[49m\u001b[38;5;241;43m*\u001b[39;49m\u001b[38;5;241;43m*\u001b[39;49m\u001b[43mtool_run_kwargs\u001b[49m\u001b[43m,\u001b[49m\n\u001b[0;32m   1439\u001b[0m \u001b[43m    \u001b[49m\u001b[43m)\u001b[49m\n\u001b[0;32m   1440\u001b[0m \u001b[38;5;28;01melse\u001b[39;00m:\n\u001b[0;32m   1441\u001b[0m     tool_run_kwargs \u001b[38;5;241m=\u001b[39m \u001b[38;5;28mself\u001b[39m\u001b[38;5;241m.\u001b[39m_action_agent\u001b[38;5;241m.\u001b[39mtool_run_logging_kwargs()\n",
      "File \u001b[1;32mc:\\Users\\aravi\\AppData\\Local\\Programs\\Python\\Python312\\Lib\\site-packages\\langchain_core\\tools\\base.py:883\u001b[0m, in \u001b[0;36mBaseTool.run\u001b[1;34m(self, tool_input, verbose, start_color, color, callbacks, tags, metadata, run_name, run_id, config, tool_call_id, **kwargs)\u001b[0m\n\u001b[0;32m    881\u001b[0m \u001b[38;5;28;01mif\u001b[39;00m error_to_raise:\n\u001b[0;32m    882\u001b[0m     run_manager\u001b[38;5;241m.\u001b[39mon_tool_error(error_to_raise)\n\u001b[1;32m--> 883\u001b[0m     \u001b[38;5;28;01mraise\u001b[39;00m error_to_raise\n\u001b[0;32m    884\u001b[0m output \u001b[38;5;241m=\u001b[39m _format_output(content, artifact, tool_call_id, \u001b[38;5;28mself\u001b[39m\u001b[38;5;241m.\u001b[39mname, status)\n\u001b[0;32m    885\u001b[0m run_manager\u001b[38;5;241m.\u001b[39mon_tool_end(output, color\u001b[38;5;241m=\u001b[39mcolor, name\u001b[38;5;241m=\u001b[39m\u001b[38;5;28mself\u001b[39m\u001b[38;5;241m.\u001b[39mname, \u001b[38;5;241m*\u001b[39m\u001b[38;5;241m*\u001b[39mkwargs)\n",
      "File \u001b[1;32mc:\\Users\\aravi\\AppData\\Local\\Programs\\Python\\Python312\\Lib\\site-packages\\langchain_core\\tools\\base.py:852\u001b[0m, in \u001b[0;36mBaseTool.run\u001b[1;34m(self, tool_input, verbose, start_color, color, callbacks, tags, metadata, run_name, run_id, config, tool_call_id, **kwargs)\u001b[0m\n\u001b[0;32m    850\u001b[0m     \u001b[38;5;28;01mif\u001b[39;00m config_param \u001b[38;5;241m:=\u001b[39m _get_runnable_config_param(\u001b[38;5;28mself\u001b[39m\u001b[38;5;241m.\u001b[39m_run):\n\u001b[0;32m    851\u001b[0m         tool_kwargs \u001b[38;5;241m=\u001b[39m tool_kwargs \u001b[38;5;241m|\u001b[39m {config_param: config}\n\u001b[1;32m--> 852\u001b[0m     response \u001b[38;5;241m=\u001b[39m \u001b[43mcontext\u001b[49m\u001b[38;5;241;43m.\u001b[39;49m\u001b[43mrun\u001b[49m\u001b[43m(\u001b[49m\u001b[38;5;28;43mself\u001b[39;49m\u001b[38;5;241;43m.\u001b[39;49m\u001b[43m_run\u001b[49m\u001b[43m,\u001b[49m\u001b[43m \u001b[49m\u001b[38;5;241;43m*\u001b[39;49m\u001b[43mtool_args\u001b[49m\u001b[43m,\u001b[49m\u001b[43m \u001b[49m\u001b[38;5;241;43m*\u001b[39;49m\u001b[38;5;241;43m*\u001b[39;49m\u001b[43mtool_kwargs\u001b[49m\u001b[43m)\u001b[49m\n\u001b[0;32m    853\u001b[0m \u001b[38;5;28;01mif\u001b[39;00m \u001b[38;5;28mself\u001b[39m\u001b[38;5;241m.\u001b[39mresponse_format \u001b[38;5;241m==\u001b[39m \u001b[38;5;124m\"\u001b[39m\u001b[38;5;124mcontent_and_artifact\u001b[39m\u001b[38;5;124m\"\u001b[39m:\n\u001b[0;32m    854\u001b[0m     \u001b[38;5;28;01mif\u001b[39;00m \u001b[38;5;129;01mnot\u001b[39;00m \u001b[38;5;28misinstance\u001b[39m(response, \u001b[38;5;28mtuple\u001b[39m) \u001b[38;5;129;01mor\u001b[39;00m \u001b[38;5;28mlen\u001b[39m(response) \u001b[38;5;241m!=\u001b[39m \u001b[38;5;241m2\u001b[39m:\n",
      "File \u001b[1;32mc:\\Users\\aravi\\AppData\\Local\\Programs\\Python\\Python312\\Lib\\site-packages\\langchain_core\\tools\\structured.py:93\u001b[0m, in \u001b[0;36mStructuredTool._run\u001b[1;34m(self, config, run_manager, *args, **kwargs)\u001b[0m\n\u001b[0;32m     91\u001b[0m     \u001b[38;5;28;01mif\u001b[39;00m config_param \u001b[38;5;241m:=\u001b[39m _get_runnable_config_param(\u001b[38;5;28mself\u001b[39m\u001b[38;5;241m.\u001b[39mfunc):\n\u001b[0;32m     92\u001b[0m         kwargs[config_param] \u001b[38;5;241m=\u001b[39m config\n\u001b[1;32m---> 93\u001b[0m     \u001b[38;5;28;01mreturn\u001b[39;00m \u001b[38;5;28;43mself\u001b[39;49m\u001b[38;5;241;43m.\u001b[39;49m\u001b[43mfunc\u001b[49m\u001b[43m(\u001b[49m\u001b[38;5;241;43m*\u001b[39;49m\u001b[43margs\u001b[49m\u001b[43m,\u001b[49m\u001b[43m \u001b[49m\u001b[38;5;241;43m*\u001b[39;49m\u001b[38;5;241;43m*\u001b[39;49m\u001b[43mkwargs\u001b[49m\u001b[43m)\u001b[49m\n\u001b[0;32m     94\u001b[0m msg \u001b[38;5;241m=\u001b[39m \u001b[38;5;124m\"\u001b[39m\u001b[38;5;124mStructuredTool does not support sync invocation.\u001b[39m\u001b[38;5;124m\"\u001b[39m\n\u001b[0;32m     95\u001b[0m \u001b[38;5;28;01mraise\u001b[39;00m \u001b[38;5;167;01mNotImplementedError\u001b[39;00m(msg)\n",
      "File \u001b[1;32ma:\\spark\\src\\email_setup.py:38\u001b[0m, in \u001b[0;36msend_email\u001b[1;34m(recipient_name, subject, body)\u001b[0m\n\u001b[0;32m     36\u001b[0m \u001b[38;5;28;01mwith\u001b[39;00m smtplib\u001b[38;5;241m.\u001b[39mSMTP(SMTP_SERVER, SMTP_PORT) \u001b[38;5;28;01mas\u001b[39;00m server:\n\u001b[0;32m     37\u001b[0m     server\u001b[38;5;241m.\u001b[39mstarttls()\n\u001b[1;32m---> 38\u001b[0m     \u001b[43mserver\u001b[49m\u001b[38;5;241;43m.\u001b[39;49m\u001b[43mlogin\u001b[49m\u001b[43m(\u001b[49m\u001b[43memail_client\u001b[49m\u001b[43m,\u001b[49m\u001b[43m \u001b[49m\u001b[43memail_pwd\u001b[49m\u001b[43m)\u001b[49m\n\u001b[0;32m     39\u001b[0m     server\u001b[38;5;241m.\u001b[39msendmail(email_client, recipient_name, msg\u001b[38;5;241m.\u001b[39mas_string())\n\u001b[0;32m     40\u001b[0m \u001b[38;5;28;01mreturn\u001b[39;00m \u001b[38;5;124m\"\u001b[39m\u001b[38;5;124mSuccess\u001b[39m\u001b[38;5;124m\"\u001b[39m                \n",
      "File \u001b[1;32mc:\\Users\\aravi\\AppData\\Local\\Programs\\Python\\Python312\\Lib\\smtplib.py:714\u001b[0m, in \u001b[0;36mSMTP.login\u001b[1;34m(self, user, password, initial_response_ok)\u001b[0m\n\u001b[0;32m    686\u001b[0m \u001b[38;5;28;01mdef\u001b[39;00m \u001b[38;5;21mlogin\u001b[39m(\u001b[38;5;28mself\u001b[39m, user, password, \u001b[38;5;241m*\u001b[39m, initial_response_ok\u001b[38;5;241m=\u001b[39m\u001b[38;5;28;01mTrue\u001b[39;00m):\n\u001b[0;32m    687\u001b[0m \u001b[38;5;250m    \u001b[39m\u001b[38;5;124;03m\"\"\"Log in on an SMTP server that requires authentication.\u001b[39;00m\n\u001b[0;32m    688\u001b[0m \n\u001b[0;32m    689\u001b[0m \u001b[38;5;124;03m    The arguments are:\u001b[39;00m\n\u001b[1;32m   (...)\u001b[0m\n\u001b[0;32m    711\u001b[0m \u001b[38;5;124;03m                              found.\u001b[39;00m\n\u001b[0;32m    712\u001b[0m \u001b[38;5;124;03m    \"\"\"\u001b[39;00m\n\u001b[1;32m--> 714\u001b[0m     \u001b[38;5;28;43mself\u001b[39;49m\u001b[38;5;241;43m.\u001b[39;49m\u001b[43mehlo_or_helo_if_needed\u001b[49m\u001b[43m(\u001b[49m\u001b[43m)\u001b[49m\n\u001b[0;32m    715\u001b[0m     \u001b[38;5;28;01mif\u001b[39;00m \u001b[38;5;129;01mnot\u001b[39;00m \u001b[38;5;28mself\u001b[39m\u001b[38;5;241m.\u001b[39mhas_extn(\u001b[38;5;124m\"\u001b[39m\u001b[38;5;124mauth\u001b[39m\u001b[38;5;124m\"\u001b[39m):\n\u001b[0;32m    716\u001b[0m         \u001b[38;5;28;01mraise\u001b[39;00m SMTPNotSupportedError(\n\u001b[0;32m    717\u001b[0m             \u001b[38;5;124m\"\u001b[39m\u001b[38;5;124mSMTP AUTH extension not supported by server.\u001b[39m\u001b[38;5;124m\"\u001b[39m)\n",
      "File \u001b[1;32mc:\\Users\\aravi\\AppData\\Local\\Programs\\Python\\Python312\\Lib\\smtplib.py:611\u001b[0m, in \u001b[0;36mSMTP.ehlo_or_helo_if_needed\u001b[1;34m(self)\u001b[0m\n\u001b[0;32m    600\u001b[0m \u001b[38;5;250m\u001b[39m\u001b[38;5;124;03m\"\"\"Call self.ehlo() and/or self.helo() if needed.\u001b[39;00m\n\u001b[0;32m    601\u001b[0m \n\u001b[0;32m    602\u001b[0m \u001b[38;5;124;03mIf there has been no previous EHLO or HELO command this session, this\u001b[39;00m\n\u001b[1;32m   (...)\u001b[0m\n\u001b[0;32m    608\u001b[0m \u001b[38;5;124;03m                          the helo greeting.\u001b[39;00m\n\u001b[0;32m    609\u001b[0m \u001b[38;5;124;03m\"\"\"\u001b[39;00m\n\u001b[0;32m    610\u001b[0m \u001b[38;5;28;01mif\u001b[39;00m \u001b[38;5;28mself\u001b[39m\u001b[38;5;241m.\u001b[39mhelo_resp \u001b[38;5;129;01mis\u001b[39;00m \u001b[38;5;28;01mNone\u001b[39;00m \u001b[38;5;129;01mand\u001b[39;00m \u001b[38;5;28mself\u001b[39m\u001b[38;5;241m.\u001b[39mehlo_resp \u001b[38;5;129;01mis\u001b[39;00m \u001b[38;5;28;01mNone\u001b[39;00m:\n\u001b[1;32m--> 611\u001b[0m     \u001b[38;5;28;01mif\u001b[39;00m \u001b[38;5;129;01mnot\u001b[39;00m (\u001b[38;5;241m200\u001b[39m \u001b[38;5;241m<\u001b[39m\u001b[38;5;241m=\u001b[39m \u001b[38;5;28;43mself\u001b[39;49m\u001b[38;5;241;43m.\u001b[39;49m\u001b[43mehlo\u001b[49m\u001b[43m(\u001b[49m\u001b[43m)\u001b[49m[\u001b[38;5;241m0\u001b[39m] \u001b[38;5;241m<\u001b[39m\u001b[38;5;241m=\u001b[39m \u001b[38;5;241m299\u001b[39m):\n\u001b[0;32m    612\u001b[0m         (code, resp) \u001b[38;5;241m=\u001b[39m \u001b[38;5;28mself\u001b[39m\u001b[38;5;241m.\u001b[39mhelo()\n\u001b[0;32m    613\u001b[0m         \u001b[38;5;28;01mif\u001b[39;00m \u001b[38;5;129;01mnot\u001b[39;00m (\u001b[38;5;241m200\u001b[39m \u001b[38;5;241m<\u001b[39m\u001b[38;5;241m=\u001b[39m code \u001b[38;5;241m<\u001b[39m\u001b[38;5;241m=\u001b[39m \u001b[38;5;241m299\u001b[39m):\n",
      "File \u001b[1;32mc:\\Users\\aravi\\AppData\\Local\\Programs\\Python\\Python312\\Lib\\smtplib.py:452\u001b[0m, in \u001b[0;36mSMTP.ehlo\u001b[1;34m(self, name)\u001b[0m\n\u001b[0;32m    450\u001b[0m \u001b[38;5;28mself\u001b[39m\u001b[38;5;241m.\u001b[39mesmtp_features \u001b[38;5;241m=\u001b[39m {}\n\u001b[0;32m    451\u001b[0m \u001b[38;5;28mself\u001b[39m\u001b[38;5;241m.\u001b[39mputcmd(\u001b[38;5;28mself\u001b[39m\u001b[38;5;241m.\u001b[39mehlo_msg, name \u001b[38;5;129;01mor\u001b[39;00m \u001b[38;5;28mself\u001b[39m\u001b[38;5;241m.\u001b[39mlocal_hostname)\n\u001b[1;32m--> 452\u001b[0m (code, msg) \u001b[38;5;241m=\u001b[39m \u001b[38;5;28;43mself\u001b[39;49m\u001b[38;5;241;43m.\u001b[39;49m\u001b[43mgetreply\u001b[49m\u001b[43m(\u001b[49m\u001b[43m)\u001b[49m\n\u001b[0;32m    453\u001b[0m \u001b[38;5;66;03m# According to RFC1869 some (badly written)\u001b[39;00m\n\u001b[0;32m    454\u001b[0m \u001b[38;5;66;03m# MTA's will disconnect on an ehlo. Toss an exception if\u001b[39;00m\n\u001b[0;32m    455\u001b[0m \u001b[38;5;66;03m# that happens -ddm\u001b[39;00m\n\u001b[0;32m    456\u001b[0m \u001b[38;5;28;01mif\u001b[39;00m code \u001b[38;5;241m==\u001b[39m \u001b[38;5;241m-\u001b[39m\u001b[38;5;241m1\u001b[39m \u001b[38;5;129;01mand\u001b[39;00m \u001b[38;5;28mlen\u001b[39m(msg) \u001b[38;5;241m==\u001b[39m \u001b[38;5;241m0\u001b[39m:\n",
      "File \u001b[1;32mc:\\Users\\aravi\\AppData\\Local\\Programs\\Python\\Python312\\Lib\\smtplib.py:398\u001b[0m, in \u001b[0;36mSMTP.getreply\u001b[1;34m(self)\u001b[0m\n\u001b[0;32m    396\u001b[0m \u001b[38;5;28;01mwhile\u001b[39;00m \u001b[38;5;241m1\u001b[39m:\n\u001b[0;32m    397\u001b[0m     \u001b[38;5;28;01mtry\u001b[39;00m:\n\u001b[1;32m--> 398\u001b[0m         line \u001b[38;5;241m=\u001b[39m \u001b[38;5;28;43mself\u001b[39;49m\u001b[38;5;241;43m.\u001b[39;49m\u001b[43mfile\u001b[49m\u001b[38;5;241;43m.\u001b[39;49m\u001b[43mreadline\u001b[49m\u001b[43m(\u001b[49m\u001b[43m_MAXLINE\u001b[49m\u001b[43m \u001b[49m\u001b[38;5;241;43m+\u001b[39;49m\u001b[43m \u001b[49m\u001b[38;5;241;43m1\u001b[39;49m\u001b[43m)\u001b[49m\n\u001b[0;32m    399\u001b[0m     \u001b[38;5;28;01mexcept\u001b[39;00m \u001b[38;5;167;01mOSError\u001b[39;00m \u001b[38;5;28;01mas\u001b[39;00m e:\n\u001b[0;32m    400\u001b[0m         \u001b[38;5;28mself\u001b[39m\u001b[38;5;241m.\u001b[39mclose()\n",
      "File \u001b[1;32mc:\\Users\\aravi\\AppData\\Local\\Programs\\Python\\Python312\\Lib\\socket.py:720\u001b[0m, in \u001b[0;36mSocketIO.readinto\u001b[1;34m(self, b)\u001b[0m\n\u001b[0;32m    718\u001b[0m \u001b[38;5;28;01mwhile\u001b[39;00m \u001b[38;5;28;01mTrue\u001b[39;00m:\n\u001b[0;32m    719\u001b[0m     \u001b[38;5;28;01mtry\u001b[39;00m:\n\u001b[1;32m--> 720\u001b[0m         \u001b[38;5;28;01mreturn\u001b[39;00m \u001b[38;5;28;43mself\u001b[39;49m\u001b[38;5;241;43m.\u001b[39;49m\u001b[43m_sock\u001b[49m\u001b[38;5;241;43m.\u001b[39;49m\u001b[43mrecv_into\u001b[49m\u001b[43m(\u001b[49m\u001b[43mb\u001b[49m\u001b[43m)\u001b[49m\n\u001b[0;32m    721\u001b[0m     \u001b[38;5;28;01mexcept\u001b[39;00m timeout:\n\u001b[0;32m    722\u001b[0m         \u001b[38;5;28mself\u001b[39m\u001b[38;5;241m.\u001b[39m_timeout_occurred \u001b[38;5;241m=\u001b[39m \u001b[38;5;28;01mTrue\u001b[39;00m\n",
      "File \u001b[1;32mc:\\Users\\aravi\\AppData\\Local\\Programs\\Python\\Python312\\Lib\\ssl.py:1251\u001b[0m, in \u001b[0;36mSSLSocket.recv_into\u001b[1;34m(self, buffer, nbytes, flags)\u001b[0m\n\u001b[0;32m   1247\u001b[0m     \u001b[38;5;28;01mif\u001b[39;00m flags \u001b[38;5;241m!=\u001b[39m \u001b[38;5;241m0\u001b[39m:\n\u001b[0;32m   1248\u001b[0m         \u001b[38;5;28;01mraise\u001b[39;00m \u001b[38;5;167;01mValueError\u001b[39;00m(\n\u001b[0;32m   1249\u001b[0m           \u001b[38;5;124m\"\u001b[39m\u001b[38;5;124mnon-zero flags not allowed in calls to recv_into() on \u001b[39m\u001b[38;5;132;01m%s\u001b[39;00m\u001b[38;5;124m\"\u001b[39m \u001b[38;5;241m%\u001b[39m\n\u001b[0;32m   1250\u001b[0m           \u001b[38;5;28mself\u001b[39m\u001b[38;5;241m.\u001b[39m\u001b[38;5;18m__class__\u001b[39m)\n\u001b[1;32m-> 1251\u001b[0m     \u001b[38;5;28;01mreturn\u001b[39;00m \u001b[38;5;28;43mself\u001b[39;49m\u001b[38;5;241;43m.\u001b[39;49m\u001b[43mread\u001b[49m\u001b[43m(\u001b[49m\u001b[43mnbytes\u001b[49m\u001b[43m,\u001b[49m\u001b[43m \u001b[49m\u001b[43mbuffer\u001b[49m\u001b[43m)\u001b[49m\n\u001b[0;32m   1252\u001b[0m \u001b[38;5;28;01melse\u001b[39;00m:\n\u001b[0;32m   1253\u001b[0m     \u001b[38;5;28;01mreturn\u001b[39;00m \u001b[38;5;28msuper\u001b[39m()\u001b[38;5;241m.\u001b[39mrecv_into(buffer, nbytes, flags)\n",
      "File \u001b[1;32mc:\\Users\\aravi\\AppData\\Local\\Programs\\Python\\Python312\\Lib\\ssl.py:1103\u001b[0m, in \u001b[0;36mSSLSocket.read\u001b[1;34m(self, len, buffer)\u001b[0m\n\u001b[0;32m   1101\u001b[0m \u001b[38;5;28;01mtry\u001b[39;00m:\n\u001b[0;32m   1102\u001b[0m     \u001b[38;5;28;01mif\u001b[39;00m buffer \u001b[38;5;129;01mis\u001b[39;00m \u001b[38;5;129;01mnot\u001b[39;00m \u001b[38;5;28;01mNone\u001b[39;00m:\n\u001b[1;32m-> 1103\u001b[0m         \u001b[38;5;28;01mreturn\u001b[39;00m \u001b[38;5;28;43mself\u001b[39;49m\u001b[38;5;241;43m.\u001b[39;49m\u001b[43m_sslobj\u001b[49m\u001b[38;5;241;43m.\u001b[39;49m\u001b[43mread\u001b[49m\u001b[43m(\u001b[49m\u001b[38;5;28;43mlen\u001b[39;49m\u001b[43m,\u001b[49m\u001b[43m \u001b[49m\u001b[43mbuffer\u001b[49m\u001b[43m)\u001b[49m\n\u001b[0;32m   1104\u001b[0m     \u001b[38;5;28;01melse\u001b[39;00m:\n\u001b[0;32m   1105\u001b[0m         \u001b[38;5;28;01mreturn\u001b[39;00m \u001b[38;5;28mself\u001b[39m\u001b[38;5;241m.\u001b[39m_sslobj\u001b[38;5;241m.\u001b[39mread(\u001b[38;5;28mlen\u001b[39m)\n",
      "\u001b[1;31mKeyboardInterrupt\u001b[0m: "
     ]
    }
   ],
   "source": [
    "from final_email_1 import automate_email\n",
    "\n",
    "automate_email(df)"
   ]
  },
  {
   "cell_type": "code",
   "execution_count": 1,
   "id": "da8a5466",
   "metadata": {},
   "outputs": [],
   "source": [
    "import cv2"
   ]
  },
  {
   "cell_type": "code",
   "execution_count": null,
   "id": "befa3b13",
   "metadata": {},
   "outputs": [],
   "source": [
    "from stock_in.qr_generator import generate_order_qr\n",
    "from stock_in.qr_scanner import scan_qr"
   ]
  },
  {
   "cell_type": "code",
   "execution_count": 4,
   "id": "ff500e30",
   "metadata": {},
   "outputs": [
    {
     "name": "stdout",
     "output_type": "stream",
     "text": [
      "Scanning for QR... Press Q to quit.\n",
      "Detected Order ID: {\"order_id\": \"050\", \"products\": \"sugar\", \"manufacturer\": \"NeuraVision\", \"warehouse_location\": \"05\", \"timestamp\": \"2025-07-11T18:31:33.875199\"}\n",
      "Backend Response: {'detail': [{'type': 'missing', 'loc': ['body', 'products'], 'msg': 'Field required', 'input': {'order_id': '{\"order_id\": \"050\", \"products\": \"sugar\", \"manufacturer\": \"NeuraVision\", \"warehouse_location\": \"05\", \"timestamp\": \"2025-07-11T18:31:33.875199\"}'}}, {'type': 'missing', 'loc': ['body', 'manufacturer'], 'msg': 'Field required', 'input': {'order_id': '{\"order_id\": \"050\", \"products\": \"sugar\", \"manufacturer\": \"NeuraVision\", \"warehouse_location\": \"05\", \"timestamp\": \"2025-07-11T18:31:33.875199\"}'}}, {'type': 'missing', 'loc': ['body', 'warehouse_location'], 'msg': 'Field required', 'input': {'order_id': '{\"order_id\": \"050\", \"products\": \"sugar\", \"manufacturer\": \"NeuraVision\", \"warehouse_location\": \"05\", \"timestamp\": \"2025-07-11T18:31:33.875199\"}'}}, {'type': 'missing', 'loc': ['body', 'timestamp'], 'msg': 'Field required', 'input': {'order_id': '{\"order_id\": \"050\", \"products\": \"sugar\", \"manufacturer\": \"NeuraVision\", \"warehouse_location\": \"05\", \"timestamp\": \"2025-07-11T18:31:33.875199\"}'}}]}\n"
     ]
    }
   ],
   "source": [
    "njb = scan_qr()"
   ]
  },
  {
   "cell_type": "code",
   "execution_count": 3,
   "id": "cb8c4c23",
   "metadata": {},
   "outputs": [
    {
     "name": "stdout",
     "output_type": "stream",
     "text": [
      "QR Code saved at: qr_generator/050.png\n"
     ]
    },
    {
     "data": {
      "text/plain": [
       "'qr_generator/050.png'"
      ]
     },
     "execution_count": 3,
     "metadata": {},
     "output_type": "execute_result"
    }
   ],
   "source": [
    "generate_order_qr(manufacturer= \"NeuraVision\", order_id= \"050\", products= \"sugar\", warehouse= \"05\")"
   ]
  },
  {
   "cell_type": "code",
   "execution_count": 3,
   "id": "cf1323c1",
   "metadata": {},
   "outputs": [
    {
     "name": "stdout",
     "output_type": "stream",
     "text": [
      "[[2, 52], [6, 51], [7, 53], [8, 75], [10, 66], [11, 65], [12, 64], [13, 76], [14, 52], [15, 79], [18, 73], [22, 75], [24, 56], [25, 76], [28, 79], [29, 64], [30, 51], [31, 54], [33, 60], [35, 60], [36, 74], [38, 77], [45, 77], [46, 54], [50, 57]]\n"
     ]
    }
   ],
   "source": [
    "import os\n",
    "import sys\n",
    "from retrieve_email import retrieve_email_name\n",
    "from check_for_reorder import check_for_reorder\n",
    "from automate_email import send_email\n",
    "from forecasting.item_forecasting import predict_sales\n",
    "\n",
    "sample_shop = 2\n",
    "sample_product = 1\n",
    "\n",
    "reorder_list = check_for_reorder(sample_shop)\n",
    "retrieved_email = retrieve_email_name(reorder_list)"
   ]
  },
  {
   "cell_type": "code",
   "execution_count": 5,
   "id": "b8ff2485",
   "metadata": {},
   "outputs": [
    {
     "data": {
      "text/plain": [
       "[[2, 52, 'siddharth.sulur@gmail.com', 'Soap'],\n",
       " [6, 51, 'gokulrajtvm05@gmail.com', 'Shampoo'],\n",
       " [7, 53, 'madhavan86776@gmail.com', 'Toothpaste'],\n",
       " [8, 75, 'siddharth.sulur@gmail.com', 'Toothbrush'],\n",
       " [10, 66, 'madhavan07vk@gmail.com', 'Face Wash'],\n",
       " [11, 65, 'siddharth.sulur@gmail.com', 'Hair Oil'],\n",
       " [12, 64, 'siddharthsridhar2006@gmail.com', 'Comb'],\n",
       " [13, 76, 'siddharthsridhar2006@gmail.com', 'Sanitary Napkins'],\n",
       " [14, 52, 'gokulrajtvm05@gmail.com', 'Hand Sanitizer'],\n",
       " [15, 79, 'aravindhnov05@gmail.com', 'Detergent Powder'],\n",
       " [18, 73, 'madhavan07vk@gmail.com', 'Detergent Bar'],\n",
       " [22, 75, 'laravindakrishnan@gmail.com', 'Dishwash Liquid'],\n",
       " [24, 56, 'arav302005@gmail.com', 'Bleach'],\n",
       " [25, 76, 'siddharthsridhar2006@gmail.com', 'Phenyl'],\n",
       " [28, 79, 'arav302005@gmail.com', 'Room Freshener'],\n",
       " [29, 64, 'siddharth.sulur@gmail.com', 'Rice (5kg)'],\n",
       " [30, 51, 'siddharth.sulur@gmail.com', 'Wheat Flour (5kg)'],\n",
       " [31, 54, 'gokulrajtvm05@gmail.com', 'Sugar (1kg)'],\n",
       " [33, 60, 'gokulrajtvm05@gmail.com', 'Salt (1kg)'],\n",
       " [35, 60, 'laravindakrishnan@gmail.com', 'Turmeric Powder'],\n",
       " [36, 74, 'laravindakrishnan@gmail.com', 'Red Chili Powder'],\n",
       " [38, 77, 'aravindhnov05@gmail.com', 'Coriander Powder'],\n",
       " [45, 77, 'arav302005@gmail.com', 'Tea Powder'],\n",
       " [46, 54, 'siddharth.sulur@gmail.com', 'Coffee Powder'],\n",
       " [50, 57, 'siddharthsridhar2006@gmail.com', 'Milk Powder']]"
      ]
     },
     "execution_count": 5,
     "metadata": {},
     "output_type": "execute_result"
    }
   ],
   "source": [
    "retrieved_email"
   ]
  },
  {
   "cell_type": "code",
   "execution_count": 9,
   "id": "5906fafa",
   "metadata": {},
   "outputs": [],
   "source": [
    "import pandas as pd\n",
    "\n",
    "grouped_df = pd.DataFrame(retrieved_email, columns = [\"id\", \"Quantity\", \"email_id\", \"product_name\"])"
   ]
  },
  {
   "cell_type": "code",
   "execution_count": 10,
   "id": "633cc8fc",
   "metadata": {},
   "outputs": [
    {
     "data": {
      "text/html": [
       "<div>\n",
       "<style scoped>\n",
       "    .dataframe tbody tr th:only-of-type {\n",
       "        vertical-align: middle;\n",
       "    }\n",
       "\n",
       "    .dataframe tbody tr th {\n",
       "        vertical-align: top;\n",
       "    }\n",
       "\n",
       "    .dataframe thead th {\n",
       "        text-align: right;\n",
       "    }\n",
       "</style>\n",
       "<table border=\"1\" class=\"dataframe\">\n",
       "  <thead>\n",
       "    <tr style=\"text-align: right;\">\n",
       "      <th></th>\n",
       "      <th>id</th>\n",
       "      <th>Quantity</th>\n",
       "      <th>email_id</th>\n",
       "      <th>product_name</th>\n",
       "    </tr>\n",
       "  </thead>\n",
       "  <tbody>\n",
       "    <tr>\n",
       "      <th>0</th>\n",
       "      <td>2</td>\n",
       "      <td>52</td>\n",
       "      <td>siddharth.sulur@gmail.com</td>\n",
       "      <td>Soap</td>\n",
       "    </tr>\n",
       "    <tr>\n",
       "      <th>1</th>\n",
       "      <td>6</td>\n",
       "      <td>51</td>\n",
       "      <td>gokulrajtvm05@gmail.com</td>\n",
       "      <td>Shampoo</td>\n",
       "    </tr>\n",
       "    <tr>\n",
       "      <th>2</th>\n",
       "      <td>7</td>\n",
       "      <td>53</td>\n",
       "      <td>madhavan86776@gmail.com</td>\n",
       "      <td>Toothpaste</td>\n",
       "    </tr>\n",
       "    <tr>\n",
       "      <th>3</th>\n",
       "      <td>8</td>\n",
       "      <td>75</td>\n",
       "      <td>siddharth.sulur@gmail.com</td>\n",
       "      <td>Toothbrush</td>\n",
       "    </tr>\n",
       "    <tr>\n",
       "      <th>4</th>\n",
       "      <td>10</td>\n",
       "      <td>66</td>\n",
       "      <td>madhavan07vk@gmail.com</td>\n",
       "      <td>Face Wash</td>\n",
       "    </tr>\n",
       "  </tbody>\n",
       "</table>\n",
       "</div>"
      ],
      "text/plain": [
       "   id  Quantity                   email_id product_name\n",
       "0   2        52  siddharth.sulur@gmail.com         Soap\n",
       "1   6        51    gokulrajtvm05@gmail.com      Shampoo\n",
       "2   7        53    madhavan86776@gmail.com   Toothpaste\n",
       "3   8        75  siddharth.sulur@gmail.com   Toothbrush\n",
       "4  10        66     madhavan07vk@gmail.com    Face Wash"
      ]
     },
     "execution_count": 10,
     "metadata": {},
     "output_type": "execute_result"
    }
   ],
   "source": [
    "grouped_df.head()"
   ]
  },
  {
   "cell_type": "code",
   "execution_count": null,
   "id": "c3f5d033",
   "metadata": {},
   "outputs": [],
   "source": []
  }
 ],
 "metadata": {
  "kernelspec": {
   "display_name": "Python 3",
   "language": "python",
   "name": "python3"
  },
  "language_info": {
   "codemirror_mode": {
    "name": "ipython",
    "version": 3
   },
   "file_extension": ".py",
   "mimetype": "text/x-python",
   "name": "python",
   "nbconvert_exporter": "python",
   "pygments_lexer": "ipython3",
   "version": "3.12.6"
  }
 },
 "nbformat": 4,
 "nbformat_minor": 5
}
