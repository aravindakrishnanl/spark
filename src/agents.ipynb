{
 "cells": [
  {
   "cell_type": "code",
   "execution_count": 3,
   "id": "b5833fb6",
   "metadata": {},
   "outputs": [
    {
     "data": {
      "text/plain": [
       "'Siva Siva'"
      ]
     },
     "execution_count": 3,
     "metadata": {},
     "output_type": "execute_result"
    }
   ],
   "source": [
    "\"Siva Siva\""
   ]
  },
  {
   "cell_type": "code",
   "execution_count": null,
   "id": "30a3e9cf",
   "metadata": {},
   "outputs": [],
   "source": [
    "#Reorder logic\n",
    "\n",
    "# def predict_demand():\n",
    "    #Predict demand should be initialized within in a certain time in a periodic interval, for now say 12.00\n",
    "\n",
    "    #the product from the predicted demand should be limited as it should be sufficient for a certain time interval, say for a 2 weeks.\n",
    "\n",
    "    #Predict demand from demand forecasting with product\n",
    "\n",
    "    #order from multiple model, say from neural prophet, bilstm + cnn\n",
    "\n",
    "    #then compare, if all these model say for reorder, then init the order..\n",
    "\n",
    "    #convert to call reorder function\n",
    "\n",
    "    #in reorder.. trigger the agent for mail automation\n",
    "\n",
    "    #an separate id each product to send the mail\n",
    "\n",
    "    #Message inference saver for real time check and inference"
   ]
  },
  {
   "cell_type": "code",
   "execution_count": 1,
   "id": "307a3e60",
   "metadata": {},
   "outputs": [],
   "source": [
    "import datetime\n",
    "# from models import predict_with_neuralprophet, predict_with_bilstm_cnn\n",
    "# from notification import send_reorder_mail\n",
    "\n",
    "def predict_with_neuralprophet(product_id, days):\n",
    "    return {\n",
    "        \"reorder\": True,  \n",
    "        \"demand\": 120  \n",
    "    }\n",
    "\n",
    "def predict_with_bilstm_cnn(product_id, days):\n",
    "    return {\n",
    "        \"reorder\": True,  \n",
    "        \"demand\": 115 \n",
    "    }\n",
    "\n",
    "# Constants\n",
    "REORDER_CHECK_TIME = datetime.time(hour=12, minute=0)\n",
    "REORDER_WINDOW_DAYS = 7  \n",
    "\n",
    "def should_check_reorder():\n",
    "    now = datetime.datetime.now().time()\n",
    "    return now.hour == REORDER_CHECK_TIME.hour and now.minute == REORDER_CHECK_TIME.minute\n",
    "\n",
    "def predict_demand_for_product(product_id):\n",
    "    pred1 = predict_with_neuralprophet(product_id, days=REORDER_WINDOW_DAYS)\n",
    "    pred2 = predict_with_bilstm_cnn(product_id, days=REORDER_WINDOW_DAYS)\n",
    "\n",
    "    print(f\"[INFO] Model predictions: NeuralProphet={pred1}, BiLSTM+CNN={pred2}\")\n",
    "    \n",
    "    if pred1['reorder'] and pred2['reorder']:\n",
    "        return True, (pred1['demand'], pred2['demand'])\n",
    "    return False, (pred1['demand'], pred2['demand'])\n",
    "def send_reorder_mail(product_id, demand_values):\n",
    "    message = f\"Reorder needed for product {product_id}. Predicted demand: {demand_values}\"\n",
    "    print(f\"[EMAIL] {message}\")\n",
    "\n",
    "def reorder(product_id, predicted_demand):\n",
    "    send_reorder_mail(product_id, predicted_demand)\n",
    "    print(f\"[ACTION] Reorder mail triggered for {product_id} with demand: {predicted_demand}\")\n",
    "\n",
    "def run_reorder_process(products):\n",
    "    if not should_check_reorder():\n",
    "        print(\"[SKIP] Not the time to check reorder.\")\n",
    "        return\n",
    "\n",
    "    for product_id in products:\n",
    "        reorder_needed, demand_values = predict_demand_for_product(product_id)\n",
    "        if reorder_needed:\n",
    "            reorder(product_id, demand_values)\n",
    "        else:\n",
    "            print(f\"[INFO] No reorder needed for product {product_id}\")"
   ]
  },
  {
   "cell_type": "code",
   "execution_count": 2,
   "id": "9557c873",
   "metadata": {},
   "outputs": [],
   "source": [
    "def predict_with_neuralprophet(product_id, days):\n",
    "    return {\n",
    "        \"reorder\": True,  # Or False\n",
    "        \"demand\": 120  # Dummy value\n",
    "    }\n",
    "\n",
    "def predict_with_bilstm_cnn(product_id, days):\n",
    "    # Real implementation should load model + data\n",
    "    return {\n",
    "        \"reorder\": True,  # Or False\n",
    "        \"demand\": 115  # Dummy value\n",
    "    }\n"
   ]
  },
  {
   "cell_type": "code",
   "execution_count": 3,
   "id": "ab4d8d13",
   "metadata": {},
   "outputs": [],
   "source": [
    "def send_reorder_mail(product_id, demand_values):\n",
    "    message = f\"Reorder needed for product {product_id}. Predicted demand: {demand_values}\"\n",
    "    print(f\"[EMAIL] {message}\")\n"
   ]
  },
  {
   "cell_type": "code",
   "execution_count": 4,
   "id": "cb14be32",
   "metadata": {},
   "outputs": [],
   "source": [
    "# [Sales Data] → [Preprocessing] → [NeuralProphet | BiLSTM+CNN]\n",
    "#                                     ↓\n",
    "#                       [Demand Predictions (with confidence)]\n",
    "#                                     ↓\n",
    "#           [Reorder Decision Engine (ensemble logic + stock + lead time)]\n",
    "#                                     ↓\n",
    "#              [Budget Constraint Check + Prioritization (optional)]\n",
    "#                                     ↓\n",
    "#                   [Reorder Trigger → Mail/Agent → Optional Payment]\n",
    "#                                     ↓\n",
    "#                  [Inference Log / Dashboard / Admin Approval]\n"
   ]
  },
  {
   "cell_type": "code",
   "execution_count": null,
   "id": "b7119c37",
   "metadata": {},
   "outputs": [],
   "source": []
  }
 ],
 "metadata": {
  "kernelspec": {
   "display_name": "Python 3",
   "language": "python",
   "name": "python3"
  },
  "language_info": {
   "codemirror_mode": {
    "name": "ipython",
    "version": 3
   },
   "file_extension": ".py",
   "mimetype": "text/x-python",
   "name": "python",
   "nbconvert_exporter": "python",
   "pygments_lexer": "ipython3",
   "version": "3.12.6"
  }
 },
 "nbformat": 4,
 "nbformat_minor": 5
}
