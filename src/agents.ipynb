{
 "cells": [
  {
   "cell_type": "code",
   "execution_count": 3,
   "id": "b5833fb6",
   "metadata": {},
   "outputs": [
    {
     "data": {
      "text/plain": [
       "'Siva Siva'"
      ]
     },
     "execution_count": 3,
     "metadata": {},
     "output_type": "execute_result"
    }
   ],
   "source": [
    "\"Siva Siva\""
   ]
  },
  {
   "cell_type": "code",
   "execution_count": null,
   "id": "30a3e9cf",
   "metadata": {},
   "outputs": [],
   "source": [
    "#Reorder logic\n",
    "\n",
    "# def predict_demand():\n",
    "    #Predict demand should be initialized within in a certain time in a periodic interval, for now say 12.00\n",
    "\n",
    "    #the product from the predicted demand should be limited as it should be sufficient for a certain time interval, say for a 2 weeks.\n",
    "\n",
    "    #Predict demand from demand forecasting with product\n",
    "\n",
    "    #order from multiple model, say from neural prophet, bilstm + cnn\n",
    "\n",
    "    #then compare, if all these model say for reorder, then init the order..\n",
    "\n",
    "    #convert to call reorder function\n",
    "\n",
    "    #in reorder.. trigger the agent for mail automation\n",
    "\n",
    "    #an separate id each product to send the mail\n",
    "\n",
    "    #Message inference saver for real time check and inference"
   ]
  },
  {
   "cell_type": "code",
   "execution_count": 1,
   "id": "307a3e60",
   "metadata": {},
   "outputs": [],
   "source": [
    "import datetime\n",
    "# from models import predict_with_neuralprophet, predict_with_bilstm_cnn\n",
    "# from notification import send_reorder_mail\n",
    "\n",
    "def predict_with_neuralprophet(product_id, days):\n",
    "    return {\n",
    "        \"reorder\": True,  \n",
    "        \"demand\": 120  \n",
    "    }\n",
    "\n",
    "def predict_with_bilstm_cnn(product_id, days):\n",
    "    return {\n",
    "        \"reorder\": True,  \n",
    "        \"demand\": 115 \n",
    "    }\n",
    "\n",
    "# Constants\n",
    "REORDER_CHECK_TIME = datetime.time(hour=12, minute=0)\n",
    "REORDER_WINDOW_DAYS = 7  \n",
    "\n",
    "def should_check_reorder():\n",
    "    now = datetime.datetime.now().time()\n",
    "    return now.hour == REORDER_CHECK_TIME.hour and now.minute == REORDER_CHECK_TIME.minute\n",
    "\n",
    "def predict_demand_for_product(product_id):\n",
    "    pred1 = predict_with_neuralprophet(product_id, days=REORDER_WINDOW_DAYS)\n",
    "    pred2 = predict_with_bilstm_cnn(product_id, days=REORDER_WINDOW_DAYS)\n",
    "\n",
    "    print(f\"[INFO] Model predictions: NeuralProphet={pred1}, BiLSTM+CNN={pred2}\")\n",
    "    \n",
    "    if pred1['reorder'] and pred2['reorder']:\n",
    "        return True, (pred1['demand'], pred2['demand'])\n",
    "    return False, (pred1['demand'], pred2['demand'])\n",
    "def send_reorder_mail(product_id, demand_values):\n",
    "    message = f\"Reorder needed for product {product_id}. Predicted demand: {demand_values}\"\n",
    "    print(f\"[EMAIL] {message}\")\n",
    "\n",
    "def reorder(product_id, predicted_demand):\n",
    "    send_reorder_mail(product_id, predicted_demand)\n",
    "    print(f\"[ACTION] Reorder mail triggered for {product_id} with demand: {predicted_demand}\")\n",
    "\n",
    "def run_reorder_process(products):\n",
    "    if not should_check_reorder():\n",
    "        print(\"[SKIP] Not the time to check reorder.\")\n",
    "        return\n",
    "\n",
    "    for product_id in products:\n",
    "        reorder_needed, demand_values = predict_demand_for_product(product_id)\n",
    "        if reorder_needed:\n",
    "            reorder(product_id, demand_values)\n",
    "        else:\n",
    "            print(f\"[INFO] No reorder needed for product {product_id}\")"
   ]
  },
  {
   "cell_type": "code",
   "execution_count": 2,
   "id": "9557c873",
   "metadata": {},
   "outputs": [],
   "source": [
    "def predict_with_neuralprophet(product_id, days):\n",
    "    return {\n",
    "        \"reorder\": True,  # Or False\n",
    "        \"demand\": 120  # Dummy value\n",
    "    }\n",
    "\n",
    "def predict_with_bilstm_cnn(product_id, days):\n",
    "    # Real implementation should load model + data\n",
    "    return {\n",
    "        \"reorder\": True,  # Or False\n",
    "        \"demand\": 115  # Dummy value\n",
    "    }\n"
   ]
  },
  {
   "cell_type": "code",
   "execution_count": 3,
   "id": "ab4d8d13",
   "metadata": {},
   "outputs": [],
   "source": [
    "def send_reorder_mail(product_id, demand_values):\n",
    "    message = f\"Reorder needed for product {product_id}. Predicted demand: {demand_values}\"\n",
    "    print(f\"[EMAIL] {message}\")\n"
   ]
  },
  {
   "cell_type": "code",
   "execution_count": 4,
   "id": "cb14be32",
   "metadata": {},
   "outputs": [],
   "source": [
    "# [Sales Data] → [Preprocessing] → [NeuralProphet | BiLSTM+CNN]\n",
    "#                                     ↓\n",
    "#                       [Demand Predictions (with confidence)]\n",
    "#                                     ↓\n",
    "#           [Reorder Decision Engine (ensemble logic + stock + lead time)]\n",
    "#                                     ↓\n",
    "#              [Budget Constraint Check + Prioritization (optional)]\n",
    "#                                     ↓\n",
    "#                   [Reorder Trigger → Mail/Agent → Optional Payment]\n",
    "#                                     ↓\n",
    "#                  [Inference Log / Dashboard / Admin Approval]\n"
   ]
  },
  {
   "cell_type": "code",
   "execution_count": 3,
   "id": "b7119c37",
   "metadata": {},
   "outputs": [],
   "source": [
    "import sys\n",
    "import os\n",
    "\n",
    "sys.path.append(os.path.abspath(os.path.join(\"..\")))"
   ]
  },
  {
   "cell_type": "code",
   "execution_count": 21,
   "id": "4d5f79ed",
   "metadata": {},
   "outputs": [
    {
     "data": {
      "text/plain": [
       "37.4847506582737"
      ]
     },
     "execution_count": 21,
     "metadata": {},
     "output_type": "execute_result"
    }
   ],
   "source": [
    "from forecasting.item_forecasting import predict_sales\n",
    "\n",
    "#params 1: store, paras 2: item\n",
    "demand = predict_sales(6, 50)\n",
    "demand"
   ]
  },
  {
   "cell_type": "code",
   "execution_count": 13,
   "id": "e6ec4714",
   "metadata": {},
   "outputs": [],
   "source": [
    "import pandas as pd\n",
    "\n",
    "df = pd.read_csv(\"A:/spark_data/train.csv\")"
   ]
  },
  {
   "cell_type": "code",
   "execution_count": 14,
   "id": "1eebabab",
   "metadata": {},
   "outputs": [
    {
     "data": {
      "text/plain": [
       "Index(['date', 'store', 'item', 'sales'], dtype='object')"
      ]
     },
     "execution_count": 14,
     "metadata": {},
     "output_type": "execute_result"
    }
   ],
   "source": [
    "df.columns"
   ]
  },
  {
   "cell_type": "code",
   "execution_count": 15,
   "id": "ed5173ea",
   "metadata": {},
   "outputs": [
    {
     "data": {
      "text/plain": [
       "<bound method IndexOpsMixin.value_counts of 0          1\n",
       "1          1\n",
       "2          1\n",
       "3          1\n",
       "4          1\n",
       "          ..\n",
       "912995    10\n",
       "912996    10\n",
       "912997    10\n",
       "912998    10\n",
       "912999    10\n",
       "Name: store, Length: 913000, dtype: int64>"
      ]
     },
     "execution_count": 15,
     "metadata": {},
     "output_type": "execute_result"
    }
   ],
   "source": [
    "df['store'].value_counts"
   ]
  },
  {
   "cell_type": "code",
   "execution_count": 32,
   "id": "896ef515",
   "metadata": {},
   "outputs": [],
   "source": [
    "import sqlite3"
   ]
  },
  {
   "cell_type": "code",
   "execution_count": 33,
   "id": "d7a9cb86",
   "metadata": {},
   "outputs": [],
   "source": [
    "con = sqlite3.connect(\"products.db\")"
   ]
  },
  {
   "cell_type": "code",
   "execution_count": 34,
   "id": "a0f99db7",
   "metadata": {},
   "outputs": [],
   "source": [
    "cur = con.cursor()"
   ]
  },
  {
   "cell_type": "code",
   "execution_count": 38,
   "id": "bd655c4e",
   "metadata": {},
   "outputs": [
    {
     "data": {
      "text/plain": [
       "<sqlite3.Cursor at 0x21bbb657ac0>"
      ]
     },
     "execution_count": 38,
     "metadata": {},
     "output_type": "execute_result"
    }
   ],
   "source": [
    "cur.execute(\"select * from items\")"
   ]
  },
  {
   "cell_type": "code",
   "execution_count": 39,
   "id": "3a669403",
   "metadata": {},
   "outputs": [
    {
     "data": {
      "text/plain": [
       "[('1', 'Soap', 'Personal Care'),\n",
       " ('2', 'Shampoo', 'Personal Care'),\n",
       " ('3', 'Toothpaste', 'Personal Care'),\n",
       " ('4', 'Toothbrush', 'Personal Care'),\n",
       " ('5', 'Face Wash', 'Personal Care'),\n",
       " ('6', 'Hair Oil', 'Personal Care'),\n",
       " ('7', 'Comb', 'Personal Care'),\n",
       " ('8', 'Sanitary Napkins', 'Hygiene'),\n",
       " ('9', 'Hand Sanitizer', 'Hygiene'),\n",
       " ('10', 'Detergent Powder', 'Cleaning'),\n",
       " ('11', 'Detergent Bar', 'Cleaning'),\n",
       " ('12', 'Dishwash Liquid', 'Cleaning'),\n",
       " ('13', 'Bleach', 'Cleaning'),\n",
       " ('14', 'Phenyl', 'Cleaning'),\n",
       " ('15', 'Room Freshener', 'Cleaning'),\n",
       " ('16', 'Rice (5kg)', 'Grocery'),\n",
       " ('17', 'Wheat Flour (5kg)', 'Grocery'),\n",
       " ('18', 'Sugar (1kg)', 'Grocery'),\n",
       " ('19', 'Salt (1kg)', 'Grocery'),\n",
       " ('20', 'Turmeric Powder', 'Spices'),\n",
       " ('21', 'Red Chili Powder', 'Spices'),\n",
       " ('22', 'Coriander Powder', 'Spices'),\n",
       " ('23', 'Tea Powder', 'Beverages'),\n",
       " ('24', 'Coffee Powder', 'Beverages'),\n",
       " ('25', 'Milk Powder', 'Dairy'),\n",
       " ('26', 'Ghee', 'Dairy'),\n",
       " ('27', 'Biscuits', 'Snacks'),\n",
       " ('28', 'Chips', 'Snacks'),\n",
       " ('29', 'Noodles', 'Snacks'),\n",
       " ('30', 'Soft Drinks', 'Beverages'),\n",
       " ('31', 'Juice', 'Beverages'),\n",
       " ('32', 'Water Bottle (1L)', 'Beverages'),\n",
       " ('33', 'Cooking Oil (1L)', 'Grocery'),\n",
       " ('34', 'Mustard Oil (1L)', 'Grocery'),\n",
       " ('35', 'Matchbox', 'Misc'),\n",
       " ('36', 'Candle', 'Misc'),\n",
       " ('37', 'Notebook', 'Stationery'),\n",
       " ('38', 'Pen', 'Stationery'),\n",
       " ('39', 'Pencil', 'Stationery'),\n",
       " ('40', 'Eraser', 'Stationery'),\n",
       " ('41', 'Razor', 'Personal Care'),\n",
       " ('42', 'Shaving Cream', 'Personal Care'),\n",
       " ('43', 'Towel', 'Home'),\n",
       " ('44', 'Napkin', 'Home'),\n",
       " ('45', 'Toilet Paper', 'Hygiene'),\n",
       " ('46', 'Mosquito Coil', 'Health'),\n",
       " ('47', 'Insect Spray', 'Health'),\n",
       " ('48', 'Band-Aid', 'Health'),\n",
       " ('49', 'Cotton', 'Health'),\n",
       " ('50', 'Thermometer', 'Health')]"
      ]
     },
     "execution_count": 39,
     "metadata": {},
     "output_type": "execute_result"
    }
   ],
   "source": [
    "cur.fetchall()"
   ]
  },
  {
   "cell_type": "code",
   "execution_count": 42,
   "id": "709a189c",
   "metadata": {},
   "outputs": [
    {
     "data": {
      "text/plain": [
       "<sqlite3.Cursor at 0x21bbb657ac0>"
      ]
     },
     "execution_count": 42,
     "metadata": {},
     "output_type": "execute_result"
    }
   ],
   "source": [
    "cur.execute(\"select category from items where name == 'Soap'\")"
   ]
  },
  {
   "cell_type": "code",
   "execution_count": 43,
   "id": "5e26c823",
   "metadata": {},
   "outputs": [
    {
     "data": {
      "text/plain": [
       "[('Personal Care',)]"
      ]
     },
     "execution_count": 43,
     "metadata": {},
     "output_type": "execute_result"
    }
   ],
   "source": [
    "cur.fetchall()"
   ]
  },
  {
   "cell_type": "code",
   "execution_count": 1,
   "id": "747b54d0",
   "metadata": {},
   "outputs": [
    {
     "data": {
      "text/plain": [
       "[('1', 13, 76),\n",
       " ('2', 36, 85),\n",
       " ('3', 13, 79),\n",
       " ('4', 47, 69),\n",
       " ('5', 21, 20),\n",
       " ('6', 12, 23),\n",
       " ('7', 34, 54),\n",
       " ('8', 24, 86),\n",
       " ('9', 7, 25),\n",
       " ('10', 24, 38),\n",
       " ('11', 24, 47),\n",
       " ('12', 37, 75),\n",
       " ('13', 6, 64),\n",
       " ('14', 1, 29),\n",
       " ('15', 12, 62),\n",
       " ('16', 8, 67),\n",
       " ('17', 17, 90),\n",
       " ('18', 1, 54),\n",
       " ('19', 29, 25),\n",
       " ('20', 17, 39),\n",
       " ('21', 35, 20),\n",
       " ('22', 10, 7),\n",
       " ('23', 20, 76),\n",
       " ('24', 23, 30),\n",
       " ('25', 22, 94),\n",
       " ('26', 43, 11),\n",
       " ('27', 4, 59),\n",
       " ('28', 17, 1),\n",
       " ('29', 38, 72),\n",
       " ('30', 29, 5),\n",
       " ('31', 25, 24),\n",
       " ('32', 36, 39),\n",
       " ('33', 23, 42),\n",
       " ('34', 4, 29),\n",
       " ('35', 45, 85),\n",
       " ('36', 32, 66),\n",
       " ('37', 16, 62),\n",
       " ('38', 25, 94),\n",
       " ('39', 20, 16),\n",
       " ('40', 13, 50),\n",
       " ('41', 22, 47),\n",
       " ('42', 48, 24),\n",
       " ('43', 50, 70),\n",
       " ('44', 17, 68),\n",
       " ('45', 14, 83),\n",
       " ('46', 30, 28),\n",
       " ('47', 47, 8),\n",
       " ('48', 2, 27),\n",
       " ('49', 33, 82),\n",
       " ('50', 11, 57)]"
      ]
     },
     "execution_count": 1,
     "metadata": {},
     "output_type": "execute_result"
    }
   ],
   "source": [
    "import random\n",
    "lst = []\n",
    "for i in range(1, 51):\n",
    "    lst.append((str(i), random.randint(1, 50), random.randint(1, 100)))\n",
    "lst"
   ]
  },
  {
   "cell_type": "code",
   "execution_count": 2,
   "id": "6972268c",
   "metadata": {},
   "outputs": [],
   "source": [
    "import sqlite3"
   ]
  },
  {
   "cell_type": "code",
   "execution_count": 3,
   "id": "68fbbcdc",
   "metadata": {},
   "outputs": [],
   "source": [
    "con = sqlite3.connect(\"stock_level.db\")"
   ]
  },
  {
   "cell_type": "code",
   "execution_count": 4,
   "id": "8cfb10d3",
   "metadata": {},
   "outputs": [],
   "source": [
    "cur = con.cursor()"
   ]
  },
  {
   "cell_type": "code",
   "execution_count": 5,
   "id": "34a41712",
   "metadata": {},
   "outputs": [
    {
     "data": {
      "text/plain": [
       "<sqlite3.Cursor at 0x144ecb69e40>"
      ]
     },
     "execution_count": 5,
     "metadata": {},
     "output_type": "execute_result"
    }
   ],
   "source": [
    "cur.execute(\"\"\"\n",
    "    create table stocks (\n",
    "        id TEXT PRIMARY KEY,\n",
    "        stock_level int,\n",
    "        price int\n",
    ")\n",
    "\"\"\")"
   ]
  },
  {
   "cell_type": "code",
   "execution_count": 6,
   "id": "a2581b35",
   "metadata": {},
   "outputs": [
    {
     "data": {
      "text/plain": [
       "<sqlite3.Cursor at 0x144ecb69e40>"
      ]
     },
     "execution_count": 6,
     "metadata": {},
     "output_type": "execute_result"
    }
   ],
   "source": [
    "cur.executemany(\"\"\"\n",
    "INSERT OR REPLACE INTO stocks (id, stock_level, price)\n",
    "VALUES (?, ?, ?)\n",
    "\"\"\", lst)"
   ]
  },
  {
   "cell_type": "code",
   "execution_count": null,
   "id": "a4f7e2e9",
   "metadata": {},
   "outputs": [],
   "source": []
  }
 ],
 "metadata": {
  "kernelspec": {
   "display_name": "Python 3",
   "language": "python",
   "name": "python3"
  },
  "language_info": {
   "codemirror_mode": {
    "name": "ipython",
    "version": 3
   },
   "file_extension": ".py",
   "mimetype": "text/x-python",
   "name": "python",
   "nbconvert_exporter": "python",
   "pygments_lexer": "ipython3",
   "version": "3.12.6"
  }
 },
 "nbformat": 4,
 "nbformat_minor": 5
}
