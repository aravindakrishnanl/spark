{
 "cells": [
  {
   "cell_type": "code",
   "execution_count": 1,
   "id": "b5833fb6",
   "metadata": {},
   "outputs": [
    {
     "data": {
      "text/plain": [
       "'Siva Siva'"
      ]
     },
     "execution_count": 1,
     "metadata": {},
     "output_type": "execute_result"
    }
   ],
   "source": [
    "\"Siva Siva\""
   ]
  },
  {
   "cell_type": "code",
   "execution_count": null,
   "id": "30a3e9cf",
   "metadata": {},
   "outputs": [],
   "source": [
    "#Reorder logic\n",
    "\n",
    "def predict_demand():\n",
    "    #Predict demand from demand forecasting with product\n",
    "    pass"
   ]
  }
 ],
 "metadata": {
  "kernelspec": {
   "display_name": "Python 3",
   "language": "python",
   "name": "python3"
  },
  "language_info": {
   "codemirror_mode": {
    "name": "ipython",
    "version": 3
   },
   "file_extension": ".py",
   "mimetype": "text/x-python",
   "name": "python",
   "nbconvert_exporter": "python",
   "pygments_lexer": "ipython3",
   "version": "3.12.6"
  }
 },
 "nbformat": 4,
 "nbformat_minor": 5
}
