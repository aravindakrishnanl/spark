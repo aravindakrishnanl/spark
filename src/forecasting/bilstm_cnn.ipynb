{
 "cells": [
  {
   "cell_type": "code",
   "execution_count": null,
   "id": "290db5a9",
   "metadata": {},
   "outputs": [],
   "source": [
    "import torch\n",
    "import torch.nn as nn\n",
    "import pandas as pd\n",
    "import numpy as np\n",
    "from sklearn.preprocessing import MinMaxScaler\n",
    "from sklearn.model_selection import train_test_split\n",
    "from torch.utils.data import Dataset\n",
    "from torch.utils.data import DataLoader"
   ]
  },
  {
   "cell_type": "code",
   "execution_count": 7,
   "id": "5ed5b046",
   "metadata": {},
   "outputs": [],
   "source": [
    "df = pd.read_csv(\"A:/spark_data/train.csv\")"
   ]
  },
  {
   "cell_type": "code",
   "execution_count": 9,
   "id": "46588b75",
   "metadata": {},
   "outputs": [],
   "source": [
    "sequence_length = 14 \n",
    "\n",
    "\n",
    "def create_sequences(data, seq_len):\n",
    "    xs, ys = [], []\n",
    "    for i in range(len(data) - seq_len):\n",
    "        x = data[i:i+seq_len]\n",
    "        y = data[i+seq_len]\n",
    "        xs.append(x)\n",
    "        ys.append(y)\n",
    "    return np.array(xs), np.array(ys)\n",
    "\n",
    "all_X, all_y = [], []\n",
    "\n",
    "for (store, item), group in df.groupby(['store', 'item']):\n",
    "    group = group.sort_values('date')\n",
    "    \n",
    "    sales = group['sales'].values.reshape(-1, 1) \n",
    "\n",
    "    max_val = sales.max()\n",
    "    if max_val == 0:\n",
    "        continue  \n",
    "    sales = sales / max_val  \n",
    "\n",
    "    X_seq, y_seq = create_sequences(sales, sequence_length)\n",
    "    all_X.append(X_seq)\n",
    "    all_y.append(y_seq)\n",
    "\n",
    "X_all = np.vstack(all_X)  # shape: (total_samples, seq_len, 1)\n",
    "y_all = np.concatenate(all_y)  # shape: (total_samples,)\n",
    "\n",
    "x_train_tensor = torch.tensor(X_all, dtype=torch.float32)\n",
    "y_train_tensor = torch.tensor(y_all, dtype=torch.float32).view(-1, 1)\n"
   ]
  },
  {
   "cell_type": "code",
   "execution_count": 10,
   "id": "3ad8ae70",
   "metadata": {},
   "outputs": [],
   "source": [
    "class BiLSTM_CNN_Model(nn.Module):\n",
    "    def __init__(self, input_size, sequence_length, hidden_size=64, lstm_layers=2, kernel_size=3, cnn_out_channels=32):\n",
    "        super(BiLSTM_CNN_Model, self).__init__()\n",
    "        self.sequence_length = sequence_length\n",
    "\n",
    "        self.bilstm = nn.LSTM(input_size=input_size,\n",
    "                              hidden_size=hidden_size,\n",
    "                              num_layers=lstm_layers,\n",
    "                              batch_first=True,\n",
    "                              bidirectional=True)\n",
    "\n",
    "        self.cnn = nn.Conv1d(in_channels=2*hidden_size,\n",
    "                             out_channels=cnn_out_channels,\n",
    "                             kernel_size=kernel_size)\n",
    "\n",
    "        self.relu = nn.ReLU()\n",
    "        cnn_output_seq_len = sequence_length - kernel_size + 1\n",
    "        self.flatten = nn.Flatten()\n",
    "        self.fc = nn.Linear(cnn_out_channels * cnn_output_seq_len, 1)\n",
    "\n",
    "    def forward(self, x):\n",
    "        lstm_out, _ = self.bilstm(x)  # [B, T, F]\n",
    "        lstm_out = lstm_out.permute(0, 2, 1)  # [B, F, T]\n",
    "        cnn_out = self.relu(self.cnn(lstm_out))  # [B, C, T']\n",
    "        out = self.flatten(cnn_out)\n",
    "        return self.fc(out)\n"
   ]
  },
  {
   "cell_type": "code",
   "execution_count": null,
   "id": "9bd5d9df",
   "metadata": {},
   "outputs": [],
   "source": [
    "class SalesSequenceDataset(Dataset):\n",
    "    def __init__(self, df, sequence_length=14):\n",
    "        self.sequence_length = sequence_length\n",
    "        self.samples = []\n",
    "        self.max_vals = []\n",
    "\n",
    "        for (store, item), group in df.groupby(['store', 'item']):\n",
    "            group = group.sort_values('date')\n",
    "            sales = group['sales'].values.reshape(-1, 1)\n",
    "\n",
    "            if len(sales) < sequence_length + 1:\n",
    "                continue\n",
    "\n",
    "            max_val = sales.max()\n",
    "            if max_val == 0:\n",
    "                continue\n",
    "\n",
    "            sales = sales / max_val  # normalize\n",
    "\n",
    "            for i in range(len(sales) - sequence_length):\n",
    "                x_seq = sales[i:i + sequence_length]\n",
    "                y = sales[i + sequence_length]\n",
    "                self.samples.append((x_seq, y))\n",
    "\n",
    "    def __len__(self):\n",
    "        return len(self.samples)\n",
    "\n",
    "    def __getitem__(self, idx):\n",
    "        x, y = self.samples[idx]\n",
    "        return torch.tensor(x, dtype=torch.float32), torch.tensor(y, dtype=torch.float32)\n"
   ]
  },
  {
   "cell_type": "code",
   "execution_count": null,
   "id": "f16fc3d6",
   "metadata": {},
   "outputs": [],
   "source": [
    "dataset = SalesSequenceDataset(df, sequence_length=14)\n",
    "dataloader = DataLoader(dataset, batch_size=64, shuffle=True)"
   ]
  },
  {
   "cell_type": "code",
   "execution_count": 14,
   "id": "1939b05d",
   "metadata": {},
   "outputs": [
    {
     "name": "stdout",
     "output_type": "stream",
     "text": [
      "Epoch 1, Loss: 110.6767\n",
      "Epoch 2, Loss: 100.5794\n",
      "Epoch 3, Loss: 99.5177\n",
      "Epoch 4, Loss: 99.1150\n",
      "Epoch 5, Loss: 98.8482\n",
      "Epoch 6, Loss: 98.6670\n",
      "Epoch 7, Loss: 98.5471\n",
      "Epoch 8, Loss: 98.3768\n",
      "Epoch 9, Loss: 98.2864\n",
      "Epoch 10, Loss: 98.1845\n"
     ]
    }
   ],
   "source": [
    "model = BiLSTM_CNN_Model(input_size=1, sequence_length=14)\n",
    "criterion = torch.nn.MSELoss()\n",
    "optimizer = torch.optim.Adam(model.parameters(), lr=0.001)\n",
    "\n",
    "for epoch in range(10):\n",
    "    model.train()\n",
    "    total_loss = 0\n",
    "    for x_batch, y_batch in dataloader:\n",
    "        optimizer.zero_grad()\n",
    "        output = model(x_batch)\n",
    "        loss = criterion(output, y_batch.view(-1, 1))\n",
    "        loss.backward()\n",
    "        optimizer.step()\n",
    "        total_loss += loss.item()\n",
    "\n",
    "    print(f\"Epoch {epoch+1}, Loss: {total_loss:.4f}\")\n"
   ]
  },
  {
   "cell_type": "code",
   "execution_count": 15,
   "id": "a34a8684",
   "metadata": {},
   "outputs": [],
   "source": [
    "torch.save(model.state_dict(), \"bilstm_cnn_model.pth\")"
   ]
  },
  {
   "cell_type": "code",
   "execution_count": 16,
   "id": "ab4e8e8c",
   "metadata": {},
   "outputs": [
    {
     "data": {
      "text/plain": [
       "BiLSTM_CNN_Model(\n",
       "  (bilstm): LSTM(1, 64, num_layers=2, batch_first=True, bidirectional=True)\n",
       "  (cnn): Conv1d(128, 32, kernel_size=(3,), stride=(1,))\n",
       "  (relu): ReLU()\n",
       "  (flatten): Flatten(start_dim=1, end_dim=-1)\n",
       "  (fc): Linear(in_features=384, out_features=1, bias=True)\n",
       ")"
      ]
     },
     "execution_count": 16,
     "metadata": {},
     "output_type": "execute_result"
    }
   ],
   "source": [
    "model = BiLSTM_CNN_Model(input_size=1, sequence_length=14)\n",
    "\n",
    "model.load_state_dict(torch.load(\"bilstm_cnn_model.pth\"))\n",
    "\n",
    "model.eval()\n"
   ]
  },
  {
   "cell_type": "code",
   "execution_count": 17,
   "id": "4ca4e0e7",
   "metadata": {},
   "outputs": [],
   "source": [
    "torch.save({\n",
    "    'model_state_dict': model.state_dict(),\n",
    "    'input_size': 1,\n",
    "    'sequence_length': 14\n",
    "}, \"bilstm_cnn_full.pth\")\n"
   ]
  },
  {
   "cell_type": "code",
   "execution_count": null,
   "id": "6652e65c",
   "metadata": {},
   "outputs": [],
   "source": []
  }
 ],
 "metadata": {
  "kernelspec": {
   "display_name": "cudagpt",
   "language": "python",
   "name": "cuda"
  },
  "language_info": {
   "codemirror_mode": {
    "name": "ipython",
    "version": 3
   },
   "file_extension": ".py",
   "mimetype": "text/x-python",
   "name": "python",
   "nbconvert_exporter": "python",
   "pygments_lexer": "ipython3",
   "version": "3.12.6"
  }
 },
 "nbformat": 4,
 "nbformat_minor": 5
}
