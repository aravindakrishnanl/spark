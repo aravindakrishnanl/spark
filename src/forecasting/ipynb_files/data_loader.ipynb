{
 "cells": [
  {
   "cell_type": "markdown",
   "id": "4c96f2e7",
   "metadata": {},
   "source": [
    "Import libraries"
   ]
  },
  {
   "cell_type": "code",
   "execution_count": 2,
   "id": "f2ff047f",
   "metadata": {},
   "outputs": [],
   "source": [
    "import numpy as np\n",
    "import pandas as pd\n",
    "import matplotlib.pyplot as plt \n",
    "import torch\n",
    "import torch.nn as nn\n",
    "from torch.nn import Sequential, LSTM, Conv1d, MaxPool1d, Flatten\n",
    "from sklearn.model_selection import train_test_split\n",
    "from sklearn.preprocessing import MinMaxScaler"
   ]
  },
  {
   "cell_type": "code",
   "execution_count": 3,
   "id": "99ee3a69",
   "metadata": {},
   "outputs": [],
   "source": [
    "df = pd.read_csv(\"A:/spark_data/train.csv\")"
   ]
  },
  {
   "cell_type": "code",
   "execution_count": 4,
   "id": "44f47ea3",
   "metadata": {},
   "outputs": [],
   "source": [
    "df['date'] = pd.to_datetime(df['date'], format= '%Y-%m-%d')"
   ]
  },
  {
   "cell_type": "code",
   "execution_count": 5,
   "id": "68923c1f",
   "metadata": {},
   "outputs": [
    {
     "data": {
      "text/html": [
       "<div>\n",
       "<style scoped>\n",
       "    .dataframe tbody tr th:only-of-type {\n",
       "        vertical-align: middle;\n",
       "    }\n",
       "\n",
       "    .dataframe tbody tr th {\n",
       "        vertical-align: top;\n",
       "    }\n",
       "\n",
       "    .dataframe thead th {\n",
       "        text-align: right;\n",
       "    }\n",
       "</style>\n",
       "<table border=\"1\" class=\"dataframe\">\n",
       "  <thead>\n",
       "    <tr style=\"text-align: right;\">\n",
       "      <th></th>\n",
       "      <th>date</th>\n",
       "      <th>store</th>\n",
       "      <th>item</th>\n",
       "      <th>sales</th>\n",
       "    </tr>\n",
       "  </thead>\n",
       "  <tbody>\n",
       "    <tr>\n",
       "      <th>date</th>\n",
       "      <td>1.000000e+00</td>\n",
       "      <td>-5.771650e-15</td>\n",
       "      <td>-3.095024e-13</td>\n",
       "      <td>0.195909</td>\n",
       "    </tr>\n",
       "    <tr>\n",
       "      <th>store</th>\n",
       "      <td>-5.771650e-15</td>\n",
       "      <td>1.000000e+00</td>\n",
       "      <td>7.276042e-15</td>\n",
       "      <td>-0.008170</td>\n",
       "    </tr>\n",
       "    <tr>\n",
       "      <th>item</th>\n",
       "      <td>-3.095024e-13</td>\n",
       "      <td>7.276042e-15</td>\n",
       "      <td>1.000000e+00</td>\n",
       "      <td>-0.055998</td>\n",
       "    </tr>\n",
       "    <tr>\n",
       "      <th>sales</th>\n",
       "      <td>1.959089e-01</td>\n",
       "      <td>-8.170361e-03</td>\n",
       "      <td>-5.599807e-02</td>\n",
       "      <td>1.000000</td>\n",
       "    </tr>\n",
       "  </tbody>\n",
       "</table>\n",
       "</div>"
      ],
      "text/plain": [
       "               date         store          item     sales\n",
       "date   1.000000e+00 -5.771650e-15 -3.095024e-13  0.195909\n",
       "store -5.771650e-15  1.000000e+00  7.276042e-15 -0.008170\n",
       "item  -3.095024e-13  7.276042e-15  1.000000e+00 -0.055998\n",
       "sales  1.959089e-01 -8.170361e-03 -5.599807e-02  1.000000"
      ]
     },
     "execution_count": 5,
     "metadata": {},
     "output_type": "execute_result"
    }
   ],
   "source": [
    "corr = df.corr()\n",
    "corr"
   ]
  },
  {
   "cell_type": "code",
   "execution_count": 6,
   "id": "4f96be06",
   "metadata": {},
   "outputs": [],
   "source": [
    "df = df.sort_values(by= 'date')"
   ]
  },
  {
   "cell_type": "code",
   "execution_count": 7,
   "id": "77745a95",
   "metadata": {},
   "outputs": [],
   "source": [
    "y = pd.read_csv('A:/spark_data/test.csv')\n",
    "X = df\n",
    "y['sales'] = np.NaN\n",
    "X = X.reset_index(drop= True)\n",
    "y = y.reset_index(drop=True)"
   ]
  },
  {
   "cell_type": "code",
   "execution_count": 8,
   "id": "1a686f64",
   "metadata": {},
   "outputs": [],
   "source": [
    "X['year'] = X['date'].dt.year"
   ]
  },
  {
   "cell_type": "code",
   "execution_count": 9,
   "id": "32ba93d8",
   "metadata": {},
   "outputs": [
    {
     "data": {
      "image/png": "[encoded data removed]",
      "text/plain": [
       "<Figure size 640x480 with 1 Axes>"
      ]
     },
     "metadata": {},
     "output_type": "display_data"
    }
   ],
   "source": [
    "num_train = X.shape[0]\n",
    "num_test = y.shape[0]\n",
    "\n",
    "plt.bar(['Training Set', 'Test Set'], [num_train, num_test])\n",
    "\n",
    "plt.title('Number of Data Values in Each Set')\n",
    "plt.xlabel('Set')\n",
    "plt.ylabel('Number of Data Values')\n",
    "\n",
    "plt.show()"
   ]
  }
 ],
 "metadata": {
  "kernelspec": {
   "display_name": "cudagpt",
   "language": "python",
   "name": "cuda"
  },
  "language_info": {
   "codemirror_mode": {
    "name": "ipython",
    "version": 3
   },
   "file_extension": ".py",
   "mimetype": "text/x-python",
   "name": "python",
   "nbconvert_exporter": "python",
   "pygments_lexer": "ipython3",
   "version": "3.12.6"
  }
 },
 "nbformat": 4,
 "nbformat_minor": 5
}
