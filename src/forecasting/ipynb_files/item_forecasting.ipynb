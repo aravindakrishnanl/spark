{
 "cells": [
  {
   "cell_type": "code",
   "execution_count": 17,
   "id": "2012c41b",
   "metadata": {},
   "outputs": [],
   "source": [
    "import torch\n",
    "import torch.nn as nn\n",
    "import pandas as pd"
   ]
  },
  {
   "cell_type": "code",
   "execution_count": null,
   "id": "d85f9489",
   "metadata": {},
   "outputs": [],
   "source": [
    "df = pd.read_csv(\"A:/spark_data/train.csv\")"
   ]
  },
  {
   "cell_type": "code",
   "execution_count": 8,
   "id": "9e2a3a19",
   "metadata": {},
   "outputs": [],
   "source": [
    "def get_last_sequence(df, store, item, sequence_length):\n",
    "    group = df[(df['store'] == store) & (df['item'] == item)]\n",
    "    group = group.sort_values('date')\n",
    "    \n",
    "    sales = group['sales'].values\n",
    "\n",
    "    if len(sales) < sequence_length:\n",
    "        raise ValueError(\"Not enough data for prediction\")\n",
    "\n",
    "    max_val = sales.max()\n",
    "    if max_val == 0:\n",
    "        return None  # no prediction for zero sales\n",
    "\n",
    "    sales = sales / max_val  # normalize\n",
    "\n",
    "    last_seq = sales[-sequence_length:]\n",
    "    return torch.tensor(last_seq.reshape(1, sequence_length, 1), dtype=torch.float32), max_val\n"
   ]
  },
  {
   "cell_type": "code",
   "execution_count": null,
   "id": "32818797",
   "metadata": {},
   "outputs": [],
   "source": [
    "def predict_sales(model, df, store, item, sequence_length):\n",
    "    try:\n",
    "        x_tensor, max_val = get_last_sequence(df, store, item, sequence_length)\n",
    "        model.eval()\n",
    "        with torch.no_grad():\n",
    "            pred = model(x_tensor).item()\n",
    "        return pred * max_val  # reverse normalization\n",
    "    except ValueError as e:\n",
    "        print(f\"{e} for ({store}, {item})\")\n",
    "        return None\n"
   ]
  },
  {
   "cell_type": "code",
   "execution_count": 10,
   "id": "5c7a6734",
   "metadata": {},
   "outputs": [],
   "source": [
    "class BiLSTM_CNN_Model(nn.Module):\n",
    "    def __init__(self, input_size, sequence_length, hidden_size=64, lstm_layers=2, kernel_size=3, cnn_out_channels=32):\n",
    "        super(BiLSTM_CNN_Model, self).__init__()\n",
    "        self.sequence_length = sequence_length\n",
    "\n",
    "        self.bilstm = nn.LSTM(input_size=input_size,\n",
    "                              hidden_size=hidden_size,\n",
    "                              num_layers=lstm_layers,\n",
    "                              batch_first=True,\n",
    "                              bidirectional=True)\n",
    "\n",
    "        self.cnn = nn.Conv1d(in_channels=2*hidden_size,\n",
    "                             out_channels=cnn_out_channels,\n",
    "                             kernel_size=kernel_size)\n",
    "\n",
    "        self.relu = nn.ReLU()\n",
    "        cnn_output_seq_len = sequence_length - kernel_size + 1\n",
    "        self.flatten = nn.Flatten()\n",
    "        self.fc = nn.Linear(cnn_out_channels * cnn_output_seq_len, 1)\n",
    "\n",
    "    def forward(self, x):\n",
    "        lstm_out, _ = self.bilstm(x)  # [B, T, F]\n",
    "        lstm_out = lstm_out.permute(0, 2, 1)  # [B, F, T]\n",
    "        cnn_out = self.relu(self.cnn(lstm_out))  # [B, C, T']\n",
    "        out = self.flatten(cnn_out)\n",
    "        return self.fc(out)\n"
   ]
  },
  {
   "cell_type": "code",
   "execution_count": 39,
   "id": "132e4b30",
   "metadata": {},
   "outputs": [
    {
     "data": {
      "text/plain": [
       "BiLSTM_CNN_Model(\n",
       "  (bilstm): LSTM(1, 64, num_layers=2, batch_first=True, bidirectional=True)\n",
       "  (cnn): Conv1d(128, 32, kernel_size=(3,), stride=(1,))\n",
       "  (relu): ReLU()\n",
       "  (flatten): Flatten(start_dim=1, end_dim=-1)\n",
       "  (fc): Linear(in_features=384, out_features=1, bias=True)\n",
       ")"
      ]
     },
     "execution_count": 39,
     "metadata": {},
     "output_type": "execute_result"
    }
   ],
   "source": [
    "# Recreate the exact model manually\n",
    "model = BiLSTM_CNN_Model(input_size=1, sequence_length=14)\n",
    "model.load_state_dict(torch.load('A:/spark/model/bilstm_cnn_model.pth'))\n",
    "model.eval()"
   ]
  },
  {
   "cell_type": "code",
   "execution_count": null,
   "id": "4492e65d",
   "metadata": {},
   "outputs": [
    {
     "name": "stdout",
     "output_type": "stream",
     "text": [
      "Predicted sales for 2-14 tomorrow: 51.92\n"
     ]
    }
   ],
   "source": [
    "store = 2\n",
    "item = 14\n",
    "predicted_sales = predict_sales(store, item, model= model,  df= df,sequence_length= 14)\n",
    "\n",
    "if predicted_sales is not None:\n",
    "    print(f\"Predicted sales for {store}-{item} tomorrow: {predicted_sales:.2f}\")\n"
   ]
  }
 ],
 "metadata": {
  "kernelspec": {
   "display_name": "cudagpt",
   "language": "python",
   "name": "cuda"
  },
  "language_info": {
   "codemirror_mode": {
    "name": "ipython",
    "version": 3
   },
   "file_extension": ".py",
   "mimetype": "text/x-python",
   "name": "python",
   "nbconvert_exporter": "python",
   "pygments_lexer": "ipython3",
   "version": "3.12.6"
  }
 },
 "nbformat": 4,
 "nbformat_minor": 5
}
