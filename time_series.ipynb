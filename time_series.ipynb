{
 "cells": [
  {
   "cell_type": "code",
   "execution_count": 2,
   "id": "43d88d51",
   "metadata": {},
   "outputs": [
    {
     "data": {
      "text/plain": [
       "'Siva Siva'"
      ]
     },
     "execution_count": 2,
     "metadata": {},
     "output_type": "execute_result"
    }
   ],
   "source": [
    "'Siva Siva'"
   ]
  },
  {
   "cell_type": "code",
   "execution_count": 3,
   "id": "f3a542c5",
   "metadata": {},
   "outputs": [],
   "source": [
    "import pandas as pd\n",
    "import numpy as np\n",
    "import random\n",
    "from prophet import Prophet\n",
    "from datetime import datetime, timedelta"
   ]
  },
  {
   "cell_type": "code",
   "execution_count": 4,
   "id": "732c3fae",
   "metadata": {},
   "outputs": [],
   "source": [
    "start_date = datetime(2023, 1, 1)\n",
    "end_date = datetime(2024, 12, 31)"
   ]
  },
  {
   "cell_type": "code",
   "execution_count": 5,
   "id": "379bb10e",
   "metadata": {},
   "outputs": [],
   "source": [
    "\n",
    "products = [\n",
    "    \"Basmati Rice\",\"Whole Wheat Flour\",\"Granulated Sugar\",\"Iodized Salt\",\"Sunflower Cooking Oil\",\"Instant Noodles\",\"Breakfast Cereal\",\"Peanut Butter\",\n",
    "    \"Green Tea\",\"Instant Coffee\",\"Whole Milk\",\"Orange Juice\",\"Coca-Cola (Can)\",\"Bottled Water (1L)\",\"Flavored Yogurt\",\"Toothpaste\",\"Shampoo\",\n",
    "    \"Bar Soap\",\"Body Lotion\",\"Shaving Cream\",\"Laundry Detergent\",\"Toilet Paper (Rolls)\",\"Dishwashing Liquid\",\"Garbage Bags\",\"Air Freshener\",\"Diapers (Pack of 20)\",\"Baby Wipes\",\"Baby Powder\",\n",
    "    \"Baby Cereal\",\"Formula Milk\",\"Men's T-shirt\",\"Women's Jeans\",\"Kids' Shorts\",\"Socks (Pack of 3)\",\"Cotton Towels\",\"AA Batteries (Pack)\",\"USB Charging Cable\",\n",
    "    \"LED Light Bulb\",\"Bluetooth Earphones\",\"Power Strip\",\"Chocolate Cookies\",\"Salted Chips\",\"Trail Mix\",\"Protein Bars\",\"Microwave Popcorn\",\"Notebook\",\"Ballpoint Pens\",\n",
    "    \"Sticky Notes\", \"Gift Wrap\",\"Hand Sanitizer\"\n",
    "]"
   ]
  },
  {
   "cell_type": "code",
   "execution_count": 6,
   "id": "db7a7772",
   "metadata": {},
   "outputs": [
    {
     "data": {
      "text/plain": [
       "'walmart.csv'"
      ]
     },
     "execution_count": 6,
     "metadata": {},
     "output_type": "execute_result"
    }
   ],
   "source": [
    "dates = pd.date_range(start=start_date, end=end_date, freq='D')\n",
    "\n",
    "base_demand = np.random.randint(10, 60, size=50)  \n",
    "initial_stock = np.random.randint(300, 1000, size=50)  \n",
    "\n",
    "stock_levels = dict(zip(products, initial_stock))\n",
    "data = []\n",
    "\n",
    "for date in dates:\n",
    "    for product_idx, product in enumerate(products):\n",
    "        base = base_demand[product_idx]\n",
    "\n",
    "        day_of_week = date.weekday()\n",
    "        weekend_multiplier = 1.2 if day_of_week in [5, 6] else 1.0\n",
    "        seasonal_effect = 0.1 * np.sin(2 * np.pi * date.timetuple().tm_yday / 365)\n",
    "        daily_demand = int(base * weekend_multiplier * (1 + seasonal_effect) + np.random.normal(0, 2))\n",
    "        daily_demand = max(0, daily_demand)\n",
    "\n",
    "        stock = stock_levels[product]\n",
    "        item_sold = min(daily_demand, stock)\n",
    "        stock -= item_sold\n",
    "\n",
    "        new_arrival = 0\n",
    "        if date.day == 1 and np.random.rand() < 0.4:\n",
    "            new_arrival = np.random.randint(200, 600)\n",
    "            stock += new_arrival\n",
    "\n",
    "        sale_time = datetime.combine(date, datetime.min.time()) + timedelta(hours=np.random.randint(9, 21))\n",
    "\n",
    "        data.append([\n",
    "            date.strftime(\"%Y-%m-%d\"),\n",
    "            product,\n",
    "            sale_time.strftime(\"%H:%M:%S\"),\n",
    "            item_sold,\n",
    "            stock,\n",
    "            new_arrival\n",
    "        ])\n",
    "\n",
    "        stock_levels[product] = stock\n",
    "\n",
    "df_merged_stock = pd.DataFrame(data, columns=[\n",
    "    \"date\", \"product\", \"time\", \"item_sold\",\n",
    "    \"total_product_available\", \"new_arrival\"\n",
    "])\n",
    "\n",
    "walmart_like_csv = \"walmart.csv\"\n",
    "df_merged_stock.to_csv(walmart_like_csv, index=False)\n",
    "\n",
    "walmart_like_csv\n"
   ]
  },
  {
   "cell_type": "code",
   "execution_count": 8,
   "id": "2f60259e",
   "metadata": {},
   "outputs": [],
   "source": [
    "df = pd.read_csv(\"walmart.csv\")"
   ]
  },
  {
   "cell_type": "code",
   "execution_count": null,
   "id": "6ec0184b",
   "metadata": {},
   "outputs": [],
   "source": [
    "train = df.rename(columns= {'date': 'ds', 'item_sold': 'y'})"
   ]
  },
  {
   "cell_type": "code",
   "execution_count": 11,
   "id": "36ab52e8",
   "metadata": {},
   "outputs": [
    {
     "name": "stderr",
     "output_type": "stream",
     "text": [
      "22:16:44 - cmdstanpy - INFO - Chain [1] start processing\n",
      "22:17:00 - cmdstanpy - INFO - Chain [1] done processing\n"
     ]
    },
    {
     "data": {
      "text/plain": [
       "<prophet.forecaster.Prophet at 0x294e5e630b0>"
      ]
     },
     "execution_count": 11,
     "metadata": {},
     "output_type": "execute_result"
    }
   ],
   "source": [
    "m = Prophet()\n",
    "m.fit(train)"
   ]
  },
  {
   "cell_type": "code",
   "execution_count": null,
   "id": "856f470e",
   "metadata": {},
   "outputs": [],
   "source": []
  }
 ],
 "metadata": {
  "kernelspec": {
   "display_name": "Python 3",
   "language": "python",
   "name": "python3"
  },
  "language_info": {
   "codemirror_mode": {
    "name": "ipython",
    "version": 3
   },
   "file_extension": ".py",
   "mimetype": "text/x-python",
   "name": "python",
   "nbconvert_exporter": "python",
   "pygments_lexer": "ipython3",
   "version": "3.12.6"
  }
 },
 "nbformat": 4,
 "nbformat_minor": 5
}
