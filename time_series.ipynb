{
 "cells": [
  {
   "cell_type": "code",
   "execution_count": 1,
   "id": "43d88d51",
   "metadata": {},
   "outputs": [
    {
     "data": {
      "text/plain": [
       "'Siva Siva'"
      ]
     },
     "execution_count": 1,
     "metadata": {},
     "output_type": "execute_result"
    }
   ],
   "source": [
    "'Siva Siva'"
   ]
  },
  {
   "cell_type": "code",
   "execution_count": 1,
   "id": "f3a542c5",
   "metadata": {},
   "outputs": [],
   "source": [
    "import pandas as pd\n",
    "import numpy as np\n",
    "import random\n",
    "from datetime import datetime, timedelta"
   ]
  },
  {
   "cell_type": "code",
   "execution_count": null,
   "id": "4f4fef8c",
   "metadata": {},
   "outputs": [
    {
     "data": {
      "text/plain": [
       "'time_series.csv'"
      ]
     },
     "execution_count": 1,
     "metadata": {},
     "output_type": "execute_result"
    }
   ],
   "source": [
    "random.seed(42)\n",
    "np.random.seed(42)\n",
    "\n",
    "num_days = 365  \n",
    "num_items = 10\n",
    "start_date = datetime(2024, 1, 1)\n",
    "dates = [start_date + timedelta(days=i) for i in range(num_days)]\n",
    "\n",
    "item_names = [\n",
    "    \"Rice\", \"Wheat Flour\", \"Sugar\", \"Salt\", \"Cooking Oil\", \"Toothpaste\",\n",
    "    \"Shampoo\", \"Soap\", \"Milk\", \"Tea\"\n",
    "]\n",
    "categories = [\n",
    "    \"Grocery\", \"Grocery\", \"Grocery\", \"Grocery\", \"Grocery\",\n",
    "    \"Personal Care\", \"Personal Care\", \"Personal Care\", \"Dairy\", \"Beverage\"\n",
    "]\n",
    "\n",
    "data = []\n",
    "\n",
    "for date in dates:\n",
    "    for item_id, (item_name, category) in enumerate(zip(item_names, categories)):\n",
    "        stock_sold = max(0, int(np.random.normal(loc=50, scale=15)))  \n",
    "        price = round(np.random.uniform(10, 100), 2)  \n",
    "        promo = random.choice([0, 1]) \n",
    "        replaced = random.choice([0, 1]) if random.random() < 0.05 else 0\n",
    "        new_arrival = 1 if date.day == 1 and random.random() < 0.3 else 0\n",
    "\n",
    "        data.append([\n",
    "            date.strftime(\"%Y-%m-%d\"),\n",
    "            item_id,\n",
    "            item_name,\n",
    "            category,\n",
    "            stock_sold,\n",
    "            price,\n",
    "            promo,\n",
    "            replaced,\n",
    "            new_arrival\n",
    "        ])\n",
    "\n",
    "df = pd.DataFrame(data, columns=[\n",
    "    \"date\", \"item_id\", \"item_name\", \"category\", \"stock_sold\",\n",
    "    \"price\", \"promo\", \"item_replaced\", \"new_item_added\"\n",
    "])\n",
    "\n",
    "df = df.sample(frac=1).reset_index(drop=True)\n",
    "\n",
    "csv_path = \"time_series.csv\"\n",
    "df.to_csv(csv_path, index=False)\n",
    "\n",
    "csv_path\n"
   ]
  },
  {
   "cell_type": "code",
   "execution_count": 2,
   "id": "4fb0dc31",
   "metadata": {},
   "outputs": [
    {
     "name": "stderr",
     "output_type": "stream",
     "text": [
      "C:\\Users\\aravi\\AppData\\Local\\Temp\\ipykernel_10884\\1369756723.py:2: DtypeWarning: Columns (23) have mixed types. Specify dtype option on import or set low_memory=False.\n",
      "  df = pd.read_csv(\"data/Amazon Sale Report.csv\")\n"
     ]
    }
   ],
   "source": [
    "import pandas as pd\n",
    "df = pd.read_csv(\"data/Amazon Sale Report.csv\")"
   ]
  },
  {
   "cell_type": "code",
   "execution_count": 6,
   "id": "ded1606d",
   "metadata": {},
   "outputs": [
    {
     "data": {
      "text/plain": [
       "Index(['index', 'Order ID', 'Date', 'Status', 'Fulfilment', 'Sales Channel ',\n",
       "       'ship-service-level', 'Style', 'SKU', 'Category', 'Size', 'ASIN',\n",
       "       'Courier Status', 'Qty', 'currency', 'Amount', 'ship-city',\n",
       "       'ship-state', 'ship-postal-code', 'ship-country', 'promotion-ids',\n",
       "       'B2B', 'fulfilled-by', 'Unnamed: 22'],\n",
       "      dtype='object')"
      ]
     },
     "execution_count": 6,
     "metadata": {},
     "output_type": "execute_result"
    }
   ],
   "source": [
    "col = df.columns\n",
    "col"
   ]
  },
  {
   "cell_type": "code",
   "execution_count": 31,
   "id": "f8f230f6",
   "metadata": {},
   "outputs": [
    {
     "name": "stdout",
     "output_type": "stream",
     "text": [
      "📊 E-commerce Sales Trend Analysis\n",
      "==================================================\n",
      "🎯 Objective: Predict sales trends across multiple e-commerce platforms\n",
      "📅 Analysis Date: 2025-06-25\n",
      "\n",
      "🔍 STEP 1: DATA LOADING & EXPLORATION\n",
      "----------------------------------------\n",
      "✅ All datasets loaded successfully!\n",
      "completed\n",
      "\n",
      "📋 Dataset Overview:\n",
      "  Amazon Sales: 128,975 rows × 24 columns\n",
      "  International Sales: 37,432 rows × 10 columns\n",
      "  May 2022 Pricing: 1,330 rows × 17 columns\n",
      "  P&L March 2021: 1,330 rows × 18 columns\n",
      "  Sale Report: 9,271 rows × 7 columns\n",
      "\n",
      "🧹 STEP 2: DATA PREPROCESSING & CLEANING\n",
      "----------------------------------------\n",
      "\n",
      "📊 Missing Values Analysis - Amazon Sales:\n",
      "                  Missing Count  Missing Percentage\n",
      "fulfilled-by              89698           69.546811\n",
      "promotion-ids             49153           38.110487\n",
      "Unnamed: 22               49050           38.030626\n",
      "currency                   7795            6.043807\n",
      "Amount                     7795            6.043807\n",
      "Courier Status             6872            5.328164\n",
      "ship-country                 33            0.025586\n",
      "ship-city                    33            0.025586\n",
      "ship-state                   33            0.025586\n",
      "ship-postal-code             33            0.025586\n",
      "\n",
      "📊 Missing Values Analysis - International Sales:\n",
      "           Missing Count  Missing Percentage\n",
      "SKU                 2474            6.609318\n",
      "CUSTOMER            1040            2.778371\n",
      "RATE                1040            2.778371\n",
      "PCS                 1040            2.778371\n",
      "Style               1040            2.778371\n",
      "Size                1040            2.778371\n",
      "GROSS AMT           1040            2.778371\n",
      "Months                25            0.066788\n",
      "DATE                   1            0.002672\n",
      "\n",
      "📊 Missing Values Analysis - May 2022 Pricing:\n",
      "Empty DataFrame\n",
      "Columns: [Missing Count, Missing Percentage]\n",
      "Index: []\n",
      "\n",
      "📊 Missing Values Analysis - P&L March 2021:\n",
      "Empty DataFrame\n",
      "Columns: [Missing Count, Missing Percentage]\n",
      "Index: []\n",
      "\n",
      "📊 Missing Values Analysis - Sale Report:\n",
      "            Missing Count  Missing Percentage\n",
      "SKU Code               83            0.895265\n",
      "Color                  45            0.485385\n",
      "Category               45            0.485385\n",
      "Stock                  36            0.388308\n",
      "Design No.             36            0.388308\n",
      "Size                   36            0.388308\n",
      "\n",
      "🔧 Cleaning Amazon Sales Data...\n",
      "Original Amazon dataset shape: (128975, 24)\n",
      "Removed 7795 rows with missing critical data\n",
      "Final cleaned Amazon dataset shape: (121180, 24)\n",
      "\n",
      "🔧 Cleaning May 2022 Pricing Data...\n",
      "May 2022 pricing data shape: (1330, 17)\n",
      "\n",
      "⚙️ STEP 3: FEATURE ENGINEERING\n",
      "----------------------------------------\n",
      "✅ Date-based features created\n",
      "✅ Revenue and unit price features created\n",
      "✅ Category features cleaned\n",
      "✅ Platform pricing features created\n",
      "\n",
      "📈 STEP 4: EXPLORATORY DATA ANALYSIS\n",
      "----------------------------------------\n",
      "📊 Amazon Sales - Summary Statistics:\n",
      "Total Revenue: ₹78,592,678.30\n",
      "Average Order Value: ₹648.56\n",
      "Median Order Value: ₹605.00\n",
      "Total Quantity Sold: 116,482\n",
      "Average Quantity per Order: 0.96\n",
      "\n",
      "Date Range: 2022-03-31 00:00:00 to 2022-06-29 00:00:00\n",
      "Total Orders: 121,180\n",
      "\n",
      "📊 Top 10 Categories by Revenue:\n",
      "               Amount                         Qty\n",
      "                count          sum    mean    sum\n",
      "Category_Clean                                   \n",
      "Set             47042  39204124.03  833.39  45225\n",
      "Kurta           46717  21299546.70  455.93  44970\n",
      "Western Dress   14704  11216072.69  762.79  13939\n",
      "Top             10165   5347792.30  526.10   9899\n",
      "Ethnic Dress     1093    791217.66  723.90   1053\n",
      "Blouse            881    458408.18  520.33    844\n",
      "Bottom            420    150667.98  358.73    397\n",
      "Saree             155    123933.76  799.57    152\n",
      "Dupatta             3       915.00  305.00      3\n",
      "\n",
      "💰 Platform Pricing Analysis (May 2022):\n",
      "                       Mean  Median    Min     Max   Count\n",
      "Amazon MRP      2247.789211  2097.0  199.0  5997.0  1293.0\n",
      "Amazon FBA MRP  2247.789211  2097.0  199.0  5997.0  1293.0\n",
      "Flipkart MRP    2243.120224  2097.0  199.0  5997.0  1293.0\n",
      "Limeroad MRP    2242.974826  2095.0  199.0  5997.0  1293.0\n",
      "Ajio MRP        2241.264076  2095.0  199.0  5997.0  1293.0\n",
      "Snapdeal MRP    2239.726566  2095.0  199.0  5997.0  1293.0\n",
      "Paytm MRP       2238.489134  2095.0  199.0  5997.0  1293.0\n",
      "Myntra MRP      2232.519207  2097.0  199.0  5997.0  1299.0\n",
      "\n",
      "📊 STEP 5: DATA VISUALIZATIONS\n",
      "----------------------------------------\n"
     ]
    },
    {
     "data": {
      "image/png": "[encoded data removed]",
      "text/plain": [
       "<Figure size 2000x1500 with 4 Axes>"
      ]
     },
     "metadata": {},
     "output_type": "display_data"
    },
    {
     "name": "stdout",
     "output_type": "stream",
     "text": [
      "\n",
      "🎨 Creating Advanced Visualizations...\n"
     ]
    },
    {
     "data": {
      "application/vnd.plotly.v1+json": {
       "config": {
        "plotlyServerURL": "https://plot.ly"
       },
       "data": [
        {
         "line": {
          "color": "blue",
          "width": 1
         },
         "mode": "lines",
         "name": "Daily Sales",
         "type": "scatter",
         "x": [
          "2022-03-31T00:00:00",
          "2022-04-01T00:00:00",
          "2022-04-02T00:00:00",
          "2022-04-03T00:00:00",
          "2022-04-04T00:00:00",
          "2022-04-05T00:00:00",
          "2022-04-06T00:00:00",
          "2022-04-07T00:00:00",
          "2022-04-08T00:00:00",
          "2022-04-09T00:00:00",
          "2022-04-10T00:00:00",
          "2022-04-11T00:00:00",
          "2022-04-12T00:00:00",
          "2022-04-13T00:00:00",
          "2022-04-14T00:00:00",
          "2022-04-15T00:00:00",
          "2022-04-16T00:00:00",
          "2022-04-17T00:00:00",
          "2022-04-18T00:00:00",
          "2022-04-19T00:00:00",
          "2022-04-20T00:00:00",
          "2022-04-21T00:00:00",
          "2022-04-22T00:00:00",
          "2022-04-23T00:00:00",
          "2022-04-24T00:00:00",
          "2022-04-25T00:00:00",
          "2022-04-26T00:00:00",
          "2022-04-27T00:00:00",
          "2022-04-28T00:00:00",
          "2022-04-29T00:00:00",
          "2022-04-30T00:00:00",
          "2022-05-01T00:00:00",
          "2022-05-02T00:00:00",
          "2022-05-03T00:00:00",
          "2022-05-04T00:00:00",
          "2022-05-05T00:00:00",
          "2022-05-06T00:00:00",
          "2022-05-07T00:00:00",
          "2022-05-08T00:00:00",
          "2022-05-09T00:00:00",
          "2022-05-10T00:00:00",
          "2022-05-11T00:00:00",
          "2022-05-12T00:00:00",
          "2022-05-13T00:00:00",
          "2022-05-14T00:00:00",
          "2022-05-15T00:00:00",
          "2022-05-16T00:00:00",
          "2022-05-17T00:00:00",
          "2022-05-18T00:00:00",
          "2022-05-19T00:00:00",
          "2022-05-20T00:00:00",
          "2022-05-21T00:00:00",
          "2022-05-22T00:00:00",
          "2022-05-23T00:00:00",
          "2022-05-24T00:00:00",
          "2022-05-25T00:00:00",
          "2022-05-26T00:00:00",
          "2022-05-27T00:00:00",
          "2022-05-28T00:00:00",
          "2022-05-29T00:00:00",
          "2022-05-30T00:00:00",
          "2022-05-31T00:00:00",
          "2022-06-01T00:00:00",
          "2022-06-02T00:00:00",
          "2022-06-03T00:00:00",
          "2022-06-04T00:00:00",
          "2022-06-05T00:00:00",
          "2022-06-06T00:00:00",
          "2022-06-07T00:00:00",
          "2022-06-08T00:00:00",
          "2022-06-09T00:00:00",
          "2022-06-10T00:00:00",
          "2022-06-11T00:00:00",
          "2022-06-12T00:00:00",
          "2022-06-13T00:00:00",
          "2022-06-14T00:00:00",
          "2022-06-15T00:00:00",
          "2022-06-16T00:00:00",
          "2022-06-17T00:00:00",
          "2022-06-18T00:00:00",
          "2022-06-19T00:00:00",
          "2022-06-20T00:00:00",
          "2022-06-21T00:00:00",
          "2022-06-22T00:00:00",
          "2022-06-23T00:00:00",
          "2022-06-24T00:00:00",
          "2022-06-25T00:00:00",
          "2022-06-26T00:00:00",
          "2022-06-27T00:00:00",
          "2022-06-28T00:00:00",
          "2022-06-29T00:00:00"
         ],
         "y": {
          "bdata": "mpmZmT3T+EAzMzMzjWkqQfYoXA+b3StBKVyPwmbgLkFxPQpXFusqQZqZmRkgAi1BUrgehZIRK0EzMzOzlsQrQYXrUTjzFS9BXI/C9ViqLUF7FK4HImgwQaRwPYpu+ixB9ihcDzQTK0GamZmZ8tAtQfYoXI+P/TBBKVyPQjxEL0Fcj8J1ENMuQc3MzMxXtixBuB6F6zYFK0GF61G4bkwtQY/C9WhWqTBBj8L1KH2pLUHXo3A949gtQexRuJ6grzBBMzMz83OEMEEpXI/CydYtQexRuJ47yytBj8L1KOn1KUHhehQutJUpQc3MzEzNnylBw/Uo3ESXLUFSuB6FlXowQfYoXA9n4zFBcT0KlxArMkG4HoUrFHQyQXE9ClfgTStBKVyPQrTBK0FSuB6Fm9IrQexRuB46iCtBexSux4O/KEEpXI/CQRUmQaRwPQpXmCZBw/Uo3IspJUFSuB6Fw3omQc3MzMxXcSdBcT0KV2tNK0EfhevRFUonQSlcj0LtVydBj8L1KMxWKEEAAACAVL4nQVK4HgUYgyVB16NwPX1LJUGPwvWoobonQexRuB61ESdBexSux0QtJ0HhehSuLAIpQTMzMzMHbSdBPQrXIy3SKEEzMzMzVfgpQa5H4frI7ihBpHA9im/yKEHhehQuOo8rQbgehWsMjCxBPQrXo0FdK0EUrkdhHIcmQTMzMzN4PCtB9ihcD0ovLkEpXI9CGCctQVK4HoVqdy1B4XoULsB2LUHhehQunkUtQRSuR+GZYChB4XoUrmhcKkE9Ctej3SYtQbgehevUyCpBUrgeBURxK0E9CtejgvUnQQAAAAB7xCdBMzMzM6rOJkEpXI/CVKMmQTMzMzPhRSZBH4Xr0TkYJ0EUrkfh7IwoQexRuJ5GxSdBXI/C9RL7I0FI4XqUmjwjQY/C9Sg19yNBpHA9CtSbJ0FxPQpXGcslQfYoXA/rjydBpHA9CiseGUE=",
          "dtype": "f8"
         }
        },
        {
         "line": {
          "color": "red",
          "width": 2
         },
         "mode": "lines",
         "name": "7-Day MA",
         "type": "scatter",
         "x": [
          "2022-03-31T00:00:00",
          "2022-04-01T00:00:00",
          "2022-04-02T00:00:00",
          "2022-04-03T00:00:00",
          "2022-04-04T00:00:00",
          "2022-04-05T00:00:00",
          "2022-04-06T00:00:00",
          "2022-04-07T00:00:00",
          "2022-04-08T00:00:00",
          "2022-04-09T00:00:00",
          "2022-04-10T00:00:00",
          "2022-04-11T00:00:00",
          "2022-04-12T00:00:00",
          "2022-04-13T00:00:00",
          "2022-04-14T00:00:00",
          "2022-04-15T00:00:00",
          "2022-04-16T00:00:00",
          "2022-04-17T00:00:00",
          "2022-04-18T00:00:00",
          "2022-04-19T00:00:00",
          "2022-04-20T00:00:00",
          "2022-04-21T00:00:00",
          "2022-04-22T00:00:00",
          "2022-04-23T00:00:00",
          "2022-04-24T00:00:00",
          "2022-04-25T00:00:00",
          "2022-04-26T00:00:00",
          "2022-04-27T00:00:00",
          "2022-04-28T00:00:00",
          "2022-04-29T00:00:00",
          "2022-04-30T00:00:00",
          "2022-05-01T00:00:00",
          "2022-05-02T00:00:00",
          "2022-05-03T00:00:00",
          "2022-05-04T00:00:00",
          "2022-05-05T00:00:00",
          "2022-05-06T00:00:00",
          "2022-05-07T00:00:00",
          "2022-05-08T00:00:00",
          "2022-05-09T00:00:00",
          "2022-05-10T00:00:00",
          "2022-05-11T00:00:00",
          "2022-05-12T00:00:00",
          "2022-05-13T00:00:00",
          "2022-05-14T00:00:00",
          "2022-05-15T00:00:00",
          "2022-05-16T00:00:00",
          "2022-05-17T00:00:00",
          "2022-05-18T00:00:00",
          "2022-05-19T00:00:00",
          "2022-05-20T00:00:00",
          "2022-05-21T00:00:00",
          "2022-05-22T00:00:00",
          "2022-05-23T00:00:00",
          "2022-05-24T00:00:00",
          "2022-05-25T00:00:00",
          "2022-05-26T00:00:00",
          "2022-05-27T00:00:00",
          "2022-05-28T00:00:00",
          "2022-05-29T00:00:00",
          "2022-05-30T00:00:00",
          "2022-05-31T00:00:00",
          "2022-06-01T00:00:00",
          "2022-06-02T00:00:00",
          "2022-06-03T00:00:00",
          "2022-06-04T00:00:00",
          "2022-06-05T00:00:00",
          "2022-06-06T00:00:00",
          "2022-06-07T00:00:00",
          "2022-06-08T00:00:00",
          "2022-06-09T00:00:00",
          "2022-06-10T00:00:00",
          "2022-06-11T00:00:00",
          "2022-06-12T00:00:00",
          "2022-06-13T00:00:00",
          "2022-06-14T00:00:00",
          "2022-06-15T00:00:00",
          "2022-06-16T00:00:00",
          "2022-06-17T00:00:00",
          "2022-06-18T00:00:00",
          "2022-06-19T00:00:00",
          "2022-06-20T00:00:00",
          "2022-06-21T00:00:00",
          "2022-06-22T00:00:00",
          "2022-06-23T00:00:00",
          "2022-06-24T00:00:00",
          "2022-06-25T00:00:00",
          "2022-06-26T00:00:00",
          "2022-06-27T00:00:00",
          "2022-06-28T00:00:00",
          "2022-06-29T00:00:00"
         ],
         "y": {
          "bdata": "AAAAAAAA+H8AAAAAAAD4fwAAAAAAAPh/AAAAAAAA+H8AAAAAAAD4fwAAAAAAAPh/aci5z/Z2KEEhNpWG/fwrQQd1UIfnpyxBhTqog7npLEF7xVf8jzAtQTqog7rley1BbSoNuTE1LUF3AbEprZktQWsqDTnlfC5B8hVf8YGDLkHNzMxM5a0uQetRuB7oFy5Bymp5403QLUECYlNpnyEuQRZf8ZXeoS5BUrgeBewDLkFGMNHfA9AtQeqgDmovLS5BAAAAAETLLkHHCCb6WDIvQfo7Wa1R+y5BwUR/JxHuLUHxFV9x9FgtQcsbI5iDvixBEUz09zo0LEGHTaUhaTEsQe0CYlOOCi1BEJtKQ/hCLkFVGnJuStMvQaK/kxUWCTBBcu6zSxQwMEEP6qAOvw8wQSir5Y0SWS9BGBCbyr7FLUG1C4hNerwrQSlcj0ITsSlBNuTc53TQKEEXX/EVdw8oQXA9CtdIbydBqYM6KOJmJ0GbSkNOiTEnQZtKQ86hXydBmejvZGmfJ0EyMzMzz/0nQQ/qoI5t2idB7VG4nuCLJ0E599mFMQknQejvZLUjASdBPQrXowv7JkElSZIkhxMnQVEHddDpBydBu4DY1OyAJ0E2lYYc5ysoQTuog7rsVyhBC4hNpZmcKEGtljdG4TwpQROuR2FKvilBOqiDulJOKkE15NzndPopQVktbwzDKCpBYgQTfdXoKkHAk9VypIIrQdAuIDZiyCtBaBcQm+npK0HIuc+urS8sQYAnq+VRcyxB4XoUrk9TLEGhv5NViS0sQW3btm3t1itBbtu27eeMK0Exgon+lcMqQe0CYtNH+ilB8RVfcdzAKUEgNpUGtTgpQY1goj8jPShBdwGxqTG2J0Hbtm1bbkwnQfV3slqKRSdBldXyxg27JkEpXI9CeTgmQclqeeO91iVBI5job5cHJkGd++yCANglQeF6FK7bsyVBXkBsqtQZJEE=",
          "dtype": "f8"
         }
        },
        {
         "line": {
          "color": "green",
          "width": 2
         },
         "mode": "lines",
         "name": "30-Day MA",
         "type": "scatter",
         "x": [
          "2022-03-31T00:00:00",
          "2022-04-01T00:00:00",
          "2022-04-02T00:00:00",
          "2022-04-03T00:00:00",
          "2022-04-04T00:00:00",
          "2022-04-05T00:00:00",
          "2022-04-06T00:00:00",
          "2022-04-07T00:00:00",
          "2022-04-08T00:00:00",
          "2022-04-09T00:00:00",
          "2022-04-10T00:00:00",
          "2022-04-11T00:00:00",
          "2022-04-12T00:00:00",
          "2022-04-13T00:00:00",
          "2022-04-14T00:00:00",
          "2022-04-15T00:00:00",
          "2022-04-16T00:00:00",
          "2022-04-17T00:00:00",
          "2022-04-18T00:00:00",
          "2022-04-19T00:00:00",
          "2022-04-20T00:00:00",
          "2022-04-21T00:00:00",
          "2022-04-22T00:00:00",
          "2022-04-23T00:00:00",
          "2022-04-24T00:00:00",
          "2022-04-25T00:00:00",
          "2022-04-26T00:00:00",
          "2022-04-27T00:00:00",
          "2022-04-28T00:00:00",
          "2022-04-29T00:00:00",
          "2022-04-30T00:00:00",
          "2022-05-01T00:00:00",
          "2022-05-02T00:00:00",
          "2022-05-03T00:00:00",
          "2022-05-04T00:00:00",
          "2022-05-05T00:00:00",
          "2022-05-06T00:00:00",
          "2022-05-07T00:00:00",
          "2022-05-08T00:00:00",
          "2022-05-09T00:00:00",
          "2022-05-10T00:00:00",
          "2022-05-11T00:00:00",
          "2022-05-12T00:00:00",
          "2022-05-13T00:00:00",
          "2022-05-14T00:00:00",
          "2022-05-15T00:00:00",
          "2022-05-16T00:00:00",
          "2022-05-17T00:00:00",
          "2022-05-18T00:00:00",
          "2022-05-19T00:00:00",
          "2022-05-20T00:00:00",
          "2022-05-21T00:00:00",
          "2022-05-22T00:00:00",
          "2022-05-23T00:00:00",
          "2022-05-24T00:00:00",
          "2022-05-25T00:00:00",
          "2022-05-26T00:00:00",
          "2022-05-27T00:00:00",
          "2022-05-28T00:00:00",
          "2022-05-29T00:00:00",
          "2022-05-30T00:00:00",
          "2022-05-31T00:00:00",
          "2022-06-01T00:00:00",
          "2022-06-02T00:00:00",
          "2022-06-03T00:00:00",
          "2022-06-04T00:00:00",
          "2022-06-05T00:00:00",
          "2022-06-06T00:00:00",
          "2022-06-07T00:00:00",
          "2022-06-08T00:00:00",
          "2022-06-09T00:00:00",
          "2022-06-10T00:00:00",
          "2022-06-11T00:00:00",
          "2022-06-12T00:00:00",
          "2022-06-13T00:00:00",
          "2022-06-14T00:00:00",
          "2022-06-15T00:00:00",
          "2022-06-16T00:00:00",
          "2022-06-17T00:00:00",
          "2022-06-18T00:00:00",
          "2022-06-19T00:00:00",
          "2022-06-20T00:00:00",
          "2022-06-21T00:00:00",
          "2022-06-22T00:00:00",
          "2022-06-23T00:00:00",
          "2022-06-24T00:00:00",
          "2022-06-25T00:00:00",
          "2022-06-26T00:00:00",
          "2022-06-27T00:00:00",
          "2022-06-28T00:00:00",
          "2022-06-29T00:00:00"
         ],
         "y": {
          "bdata": "AAAAAAAA+H8AAAAAAAD4fwAAAAAAAPh/AAAAAAAA+H8AAAAAAAD4fwAAAAAAAPh/AAAAAAAA+H8AAAAAAAD4fwAAAAAAAPh/AAAAAAAA+H8AAAAAAAD4fwAAAAAAAPh/AAAAAAAA+H8AAAAAAAD4fwAAAAAAAPh/AAAAAAAA+H8AAAAAAAD4fwAAAAAAAPh/AAAAAAAA+H8AAAAAAAD4fwAAAAAAAPh/AAAAAAAA+H8AAAAAAAD4fwAAAAAAAPh/AAAAAAAA+H8AAAAAAAD4fwAAAAAAAPh/AAAAAAAA+H8AAAAAAAD4fx8+wy4NdCxBeqL+jRRWLUGXtTom740tQTn78Nlw0S1Bg8DKIQgALkHZFSB3RFUuQee0gc65Ri5BXrpJzJhMLkE0peJsEE0uQa+5kHS9Li5B2/l+ascELkGQe81FNqktQZF7zQW+ci1B7QqQe0lALUEDnTZQrgEtQYMH80TBpyxBfIZdge2FLEHx0k3ioEUsQbnXXIjQFyxBhDJ6G+8ALEFVVVXVh9ErQbSBTpu+bCtBjd6WNVglK0Et+cXSIvEqQT7DrsA3mSpB2RUgtxhFKkGsY4JH4BsqQaTi7EOa9ilBXrpJzODsKUFQjZduKvApQc/3U+ND6ilBo7dlLaPCKUE/fIadkpQpQUW2833hVilB65jggVEKKUHwYJ7onY8oQbsC5F4JjyhB001ikMGjKEFJUyoOG68oQRq9LaucvyhBDElTatrnKEF5ME/UMiUpQeuY4EFoNClB0pSK88RgKUF9hl3BtJkpQQNWDu04tilBcq+50Gq3KUF8zYWkIb0pQUcoo/e/wClBslbHxK2zKUFOYhDYPqopQURERAS9sClBYOXQohjAKUFLfrEkG8cpQVyPwnUXzSlBuddciNGxKUERyujtkIApQXNoke0JYylBmSfqn7FYKUEi2/l+DTUpQVCNl25bKSlBTak4O6W/KEE=",
          "dtype": "f8"
         }
        }
       ],
       "layout": {
        "template": {
         "data": {
          "bar": [
           {
            "error_x": {
             "color": "#2a3f5f"
            },
            "error_y": {
             "color": "#2a3f5f"
            },
            "marker": {
             "line": {
              "color": "#E5ECF6",
              "width": 0.5
             },
             "pattern": {
              "fillmode": "overlay",
              "size": 10,
              "solidity": 0.2
             }
            },
            "type": "bar"
           }
          ],
          "barpolar": [
           {
            "marker": {
             "line": {
              "color": "#E5ECF6",
              "width": 0.5
             },
             "pattern": {
              "fillmode": "overlay",
              "size": 10,
              "solidity": 0.2
             }
            },
            "type": "barpolar"
           }
          ],
          "carpet": [
           {
            "aaxis": {
             "endlinecolor": "#2a3f5f",
             "gridcolor": "white",
             "linecolor": "white",
             "minorgridcolor": "white",
             "startlinecolor": "#2a3f5f"
            },
            "baxis": {
             "endlinecolor": "#2a3f5f",
             "gridcolor": "white",
             "linecolor": "white",
             "minorgridcolor": "white",
             "startlinecolor": "#2a3f5f"
            },
            "type": "carpet"
           }
          ],
          "choropleth": [
           {
            "colorbar": {
             "outlinewidth": 0,
             "ticks": ""
            },
            "type": "choropleth"
           }
          ],
          "contour": [
           {
            "colorbar": {
             "outlinewidth": 0,
             "ticks": ""
            },
            "colorscale": [
             [
              0,
              "#0d0887"
             ],
             [
              0.1111111111111111,
              "#46039f"
             ],
             [
              0.2222222222222222,
              "#7201a8"
             ],
             [
              0.3333333333333333,
              "#9c179e"
             ],
             [
              0.4444444444444444,
              "#bd3786"
             ],
             [
              0.5555555555555556,
              "#d8576b"
             ],
             [
              0.6666666666666666,
              "#ed7953"
             ],
             [
              0.7777777777777778,
              "#fb9f3a"
             ],
             [
              0.8888888888888888,
              "#fdca26"
             ],
             [
              1,
              "#f0f921"
             ]
            ],
            "type": "contour"
           }
          ],
          "contourcarpet": [
           {
            "colorbar": {
             "outlinewidth": 0,
             "ticks": ""
            },
            "type": "contourcarpet"
           }
          ],
          "heatmap": [
           {
            "colorbar": {
             "outlinewidth": 0,
             "ticks": ""
            },
            "colorscale": [
             [
              0,
              "#0d0887"
             ],
             [
              0.1111111111111111,
              "#46039f"
             ],
             [
              0.2222222222222222,
              "#7201a8"
             ],
             [
              0.3333333333333333,
              "#9c179e"
             ],
             [
              0.4444444444444444,
              "#bd3786"
             ],
             [
              0.5555555555555556,
              "#d8576b"
             ],
             [
              0.6666666666666666,
              "#ed7953"
             ],
             [
              0.7777777777777778,
              "#fb9f3a"
             ],
             [
              0.8888888888888888,
              "#fdca26"
             ],
             [
              1,
              "#f0f921"
             ]
            ],
            "type": "heatmap"
           }
          ],
          "histogram": [
           {
            "marker": {
             "pattern": {
              "fillmode": "overlay",
              "size": 10,
              "solidity": 0.2
             }
            },
            "type": "histogram"
           }
          ],
          "histogram2d": [
           {
            "colorbar": {
             "outlinewidth": 0,
             "ticks": ""
            },
            "colorscale": [
             [
              0,
              "#0d0887"
             ],
             [
              0.1111111111111111,
              "#46039f"
             ],
             [
              0.2222222222222222,
              "#7201a8"
             ],
             [
              0.3333333333333333,
              "#9c179e"
             ],
             [
              0.4444444444444444,
              "#bd3786"
             ],
             [
              0.5555555555555556,
              "#d8576b"
             ],
             [
              0.6666666666666666,
              "#ed7953"
             ],
             [
              0.7777777777777778,
              "#fb9f3a"
             ],
             [
              0.8888888888888888,
              "#fdca26"
             ],
             [
              1,
              "#f0f921"
             ]
            ],
            "type": "histogram2d"
           }
          ],
          "histogram2dcontour": [
           {
            "colorbar": {
             "outlinewidth": 0,
             "ticks": ""
            },
            "colorscale": [
             [
              0,
              "#0d0887"
             ],
             [
              0.1111111111111111,
              "#46039f"
             ],
             [
              0.2222222222222222,
              "#7201a8"
             ],
             [
              0.3333333333333333,
              "#9c179e"
             ],
             [
              0.4444444444444444,
              "#bd3786"
             ],
             [
              0.5555555555555556,
              "#d8576b"
             ],
             [
              0.6666666666666666,
              "#ed7953"
             ],
             [
              0.7777777777777778,
              "#fb9f3a"
             ],
             [
              0.8888888888888888,
              "#fdca26"
             ],
             [
              1,
              "#f0f921"
             ]
            ],
            "type": "histogram2dcontour"
           }
          ],
          "mesh3d": [
           {
            "colorbar": {
             "outlinewidth": 0,
             "ticks": ""
            },
            "type": "mesh3d"
           }
          ],
          "parcoords": [
           {
            "line": {
             "colorbar": {
              "outlinewidth": 0,
              "ticks": ""
             }
            },
            "type": "parcoords"
           }
          ],
          "pie": [
           {
            "automargin": true,
            "type": "pie"
           }
          ],
          "scatter": [
           {
            "fillpattern": {
             "fillmode": "overlay",
             "size": 10,
             "solidity": 0.2
            },
            "type": "scatter"
           }
          ],
          "scatter3d": [
           {
            "line": {
             "colorbar": {
              "outlinewidth": 0,
              "ticks": ""
             }
            },
            "marker": {
             "colorbar": {
              "outlinewidth": 0,
              "ticks": ""
             }
            },
            "type": "scatter3d"
           }
          ],
          "scattercarpet": [
           {
            "marker": {
             "colorbar": {
              "outlinewidth": 0,
              "ticks": ""
             }
            },
            "type": "scattercarpet"
           }
          ],
          "scattergeo": [
           {
            "marker": {
             "colorbar": {
              "outlinewidth": 0,
              "ticks": ""
             }
            },
            "type": "scattergeo"
           }
          ],
          "scattergl": [
           {
            "marker": {
             "colorbar": {
              "outlinewidth": 0,
              "ticks": ""
             }
            },
            "type": "scattergl"
           }
          ],
          "scattermap": [
           {
            "marker": {
             "colorbar": {
              "outlinewidth": 0,
              "ticks": ""
             }
            },
            "type": "scattermap"
           }
          ],
          "scattermapbox": [
           {
            "marker": {
             "colorbar": {
              "outlinewidth": 0,
              "ticks": ""
             }
            },
            "type": "scattermapbox"
           }
          ],
          "scatterpolar": [
           {
            "marker": {
             "colorbar": {
              "outlinewidth": 0,
              "ticks": ""
             }
            },
            "type": "scatterpolar"
           }
          ],
          "scatterpolargl": [
           {
            "marker": {
             "colorbar": {
              "outlinewidth": 0,
              "ticks": ""
             }
            },
            "type": "scatterpolargl"
           }
          ],
          "scatterternary": [
           {
            "marker": {
             "colorbar": {
              "outlinewidth": 0,
              "ticks": ""
             }
            },
            "type": "scatterternary"
           }
          ],
          "surface": [
           {
            "colorbar": {
             "outlinewidth": 0,
             "ticks": ""
            },
            "colorscale": [
             [
              0,
              "#0d0887"
             ],
             [
              0.1111111111111111,
              "#46039f"
             ],
             [
              0.2222222222222222,
              "#7201a8"
             ],
             [
              0.3333333333333333,
              "#9c179e"
             ],
             [
              0.4444444444444444,
              "#bd3786"
             ],
             [
              0.5555555555555556,
              "#d8576b"
             ],
             [
              0.6666666666666666,
              "#ed7953"
             ],
             [
              0.7777777777777778,
              "#fb9f3a"
             ],
             [
              0.8888888888888888,
              "#fdca26"
             ],
             [
              1,
              "#f0f921"
             ]
            ],
            "type": "surface"
           }
          ],
          "table": [
           {
            "cells": {
             "fill": {
              "color": "#EBF0F8"
             },
             "line": {
              "color": "white"
             }
            },
            "header": {
             "fill": {
              "color": "#C8D4E3"
             },
             "line": {
              "color": "white"
             }
            },
            "type": "table"
           }
          ]
         },
         "layout": {
          "annotationdefaults": {
           "arrowcolor": "#2a3f5f",
           "arrowhead": 0,
           "arrowwidth": 1
          },
          "autotypenumbers": "strict",
          "coloraxis": {
           "colorbar": {
            "outlinewidth": 0,
            "ticks": ""
           }
          },
          "colorscale": {
           "diverging": [
            [
             0,
             "#8e0152"
            ],
            [
             0.1,
             "#c51b7d"
            ],
            [
             0.2,
             "#de77ae"
            ],
            [
             0.3,
             "#f1b6da"
            ],
            [
             0.4,
             "#fde0ef"
            ],
            [
             0.5,
             "#f7f7f7"
            ],
            [
             0.6,
             "#e6f5d0"
            ],
            [
             0.7,
             "#b8e186"
            ],
            [
             0.8,
             "#7fbc41"
            ],
            [
             0.9,
             "#4d9221"
            ],
            [
             1,
             "#276419"
            ]
           ],
           "sequential": [
            [
             0,
             "#0d0887"
            ],
            [
             0.1111111111111111,
             "#46039f"
            ],
            [
             0.2222222222222222,
             "#7201a8"
            ],
            [
             0.3333333333333333,
             "#9c179e"
            ],
            [
             0.4444444444444444,
             "#bd3786"
            ],
            [
             0.5555555555555556,
             "#d8576b"
            ],
            [
             0.6666666666666666,
             "#ed7953"
            ],
            [
             0.7777777777777778,
             "#fb9f3a"
            ],
            [
             0.8888888888888888,
             "#fdca26"
            ],
            [
             1,
             "#f0f921"
            ]
           ],
           "sequentialminus": [
            [
             0,
             "#0d0887"
            ],
            [
             0.1111111111111111,
             "#46039f"
            ],
            [
             0.2222222222222222,
             "#7201a8"
            ],
            [
             0.3333333333333333,
             "#9c179e"
            ],
            [
             0.4444444444444444,
             "#bd3786"
            ],
            [
             0.5555555555555556,
             "#d8576b"
            ],
            [
             0.6666666666666666,
             "#ed7953"
            ],
            [
             0.7777777777777778,
             "#fb9f3a"
            ],
            [
             0.8888888888888888,
             "#fdca26"
            ],
            [
             1,
             "#f0f921"
            ]
           ]
          },
          "colorway": [
           "#636efa",
           "#EF553B",
           "#00cc96",
           "#ab63fa",
           "#FFA15A",
           "#19d3f3",
           "#FF6692",
           "#B6E880",
           "#FF97FF",
           "#FECB52"
          ],
          "font": {
           "color": "#2a3f5f"
          },
          "geo": {
           "bgcolor": "white",
           "lakecolor": "white",
           "landcolor": "#E5ECF6",
           "showlakes": true,
           "showland": true,
           "subunitcolor": "white"
          },
          "hoverlabel": {
           "align": "left"
          },
          "hovermode": "closest",
          "mapbox": {
           "style": "light"
          },
          "paper_bgcolor": "white",
          "plot_bgcolor": "#E5ECF6",
          "polar": {
           "angularaxis": {
            "gridcolor": "white",
            "linecolor": "white",
            "ticks": ""
           },
           "bgcolor": "#E5ECF6",
           "radialaxis": {
            "gridcolor": "white",
            "linecolor": "white",
            "ticks": ""
           }
          },
          "scene": {
           "xaxis": {
            "backgroundcolor": "#E5ECF6",
            "gridcolor": "white",
            "gridwidth": 2,
            "linecolor": "white",
            "showbackground": true,
            "ticks": "",
            "zerolinecolor": "white"
           },
           "yaxis": {
            "backgroundcolor": "#E5ECF6",
            "gridcolor": "white",
            "gridwidth": 2,
            "linecolor": "white",
            "showbackground": true,
            "ticks": "",
            "zerolinecolor": "white"
           },
           "zaxis": {
            "backgroundcolor": "#E5ECF6",
            "gridcolor": "white",
            "gridwidth": 2,
            "linecolor": "white",
            "showbackground": true,
            "ticks": "",
            "zerolinecolor": "white"
           }
          },
          "shapedefaults": {
           "line": {
            "color": "#2a3f5f"
           }
          },
          "ternary": {
           "aaxis": {
            "gridcolor": "white",
            "linecolor": "white",
            "ticks": ""
           },
           "baxis": {
            "gridcolor": "white",
            "linecolor": "white",
            "ticks": ""
           },
           "bgcolor": "#E5ECF6",
           "caxis": {
            "gridcolor": "white",
            "linecolor": "white",
            "ticks": ""
           }
          },
          "title": {
           "x": 0.05
          },
          "xaxis": {
           "automargin": true,
           "gridcolor": "white",
           "linecolor": "white",
           "ticks": "",
           "title": {
            "standoff": 15
           },
           "zerolinecolor": "white",
           "zerolinewidth": 2
          },
          "yaxis": {
           "automargin": true,
           "gridcolor": "white",
           "linecolor": "white",
           "ticks": "",
           "title": {
            "standoff": 15
           },
           "zerolinecolor": "white",
           "zerolinewidth": 2
          }
         }
        },
        "title": {
         "text": "Sales Trend with Moving Averages"
        },
        "xaxis": {
         "title": {
          "text": "Date"
         }
        },
        "yaxis": {
         "title": {
          "text": "Sales Amount (₹)"
         }
        }
       }
      }
     },
     "metadata": {},
     "output_type": "display_data"
    },
    {
     "name": "stdout",
     "output_type": "stream",
     "text": [
      "\n",
      "🔍 STEP 6: OUTLIER DETECTION & HANDLING\n",
      "----------------------------------------\n",
      "Amount outliers detected: 3600 (3.0%)\n",
      "Amount range (non-outliers): ₹-59.50 to ₹1296.50\n"
     ]
    },
    {
     "data": {
      "image/png": "[encoded data removed]",
      "text/plain": [
       "<Figure size 1500x500 with 3 Axes>"
      ]
     },
     "metadata": {},
     "output_type": "display_data"
    },
    {
     "name": "stdout",
     "output_type": "stream",
     "text": [
      "\n",
      "🔍 STEP 7: PATTERNS & TRENDS IDENTIFICATION\n",
      "----------------------------------------\n",
      "📅 Seasonal Sales Patterns:\n",
      "            Amount                   Qty\n",
      "               sum    mean  count    sum\n",
      "Month                                   \n",
      "3        101683.85  627.68    162    156\n",
      "4      28838708.32  626.00  46068  44111\n",
      "5      26226476.75  663.36  39536  37970\n",
      "6      23425809.38  661.48  35414  34245\n",
      "\n",
      "🔥 Peak sales month: 4 (₹28,838,708.32)\n",
      "📉 Lowest sales month: 3 (₹101,683.85)\n",
      "\n",
      "📊 Weekday Sales Patterns:\n",
      "Weekday\n",
      "Sunday       12029441.30\n",
      "Tuesday      11491626.07\n",
      "Saturday     11339357.57\n",
      "Monday       11318441.14\n",
      "Wednesday    11249823.35\n",
      "Friday       10805394.60\n",
      "Thursday     10358594.27\n",
      "Name: Amount, dtype: float64\n",
      "\n",
      "💰 Platform Pricing Insights:\n",
      "🏷️ Cheapest platform: Myntra MRP (₹2232.52)\n",
      "💎 Most expensive platform: Amazon MRP (₹2247.79)\n",
      "📊 Price difference: ₹15.27\n",
      "\n",
      "🏆 Top Categories by Performance:\n",
      "                     Amount                   Qty Revenue_per_Item\n",
      "                        sum    mean  count    sum                 \n",
      "Category_Clean                                                    \n",
      "Set             39204124.03  833.39  47042  45225       866.868414\n",
      "Kurta           21299546.70  455.93  46717  44970       473.639019\n",
      "Western Dress   11216072.69  762.79  14704  13939       804.654042\n",
      "Top              5347792.30  526.10  10165   9899       540.235610\n",
      "Ethnic Dress      791217.66  723.90   1093   1053       751.393789\n",
      "\n",
      "💡 STEP 8: BUSINESS INSIGHTS & RECOMMENDATIONS\n",
      "----------------------------------------\n",
      "🎯 KEY BUSINESS INSIGHTS:\n",
      "1. 📈 Average daily revenue: ₹873,251.98\n",
      "2. 💰 Average product price: ₹646.40\n",
      "3. 🔄 Price variation across platforms: ₹15.27\n",
      "\n",
      "🚀 RECOMMENDATIONS:\n",
      "1. 📊 Focus marketing efforts on peak sales months identified\n",
      "2. 💰 Implement dynamic pricing strategy based on platform analysis\n",
      "3. 📦 Optimize inventory for top-performing categories\n",
      "4. 🎯 Target promotional campaigns during identified low-sales periods\n",
      "5. 🔍 Monitor and respond to pricing variations across platforms\n",
      "\n",
      "✅ STEP 9: DATA QUALITY ASSESSMENT\n",
      "----------------------------------------\n",
      "\n",
      "📋 Data Quality Assessment - Amazon Sales:\n",
      "  Total Records: 128,975\n",
      "  Complete Records: 19,379\n",
      "  Completeness %: 15.0%\n",
      "  Duplicate Records: 0\n",
      "  Unique Records %: 100.0%\n",
      "\n",
      "📋 Data Quality Assessment - International Sales:\n",
      "  Total Records: 37,432\n",
      "  Complete Records: 34,958\n",
      "  Completeness %: 93.4%\n",
      "  Duplicate Records: 0\n",
      "  Unique Records %: 100.0%\n",
      "\n",
      "📋 Data Quality Assessment - May 2022 Pricing:\n",
      "  Total Records: 1,330\n",
      "  Complete Records: 1,330\n",
      "  Completeness %: 100.0%\n",
      "  Duplicate Records: 0\n",
      "  Unique Records %: 100.0%\n",
      "\n",
      "📋 Data Quality Assessment - P&L March 2021:\n",
      "  Total Records: 1,330\n",
      "  Complete Records: 1,330\n",
      "  Completeness %: 100.0%\n",
      "  Duplicate Records: 0\n",
      "  Unique Records %: 100.0%\n",
      "\n",
      "📋 Data Quality Assessment - Sale Report:\n",
      "  Total Records: 9,271\n",
      "  Complete Records: 9,188\n",
      "  Completeness %: 99.1%\n",
      "  Duplicate Records: 0\n",
      "  Unique Records %: 100.0%\n",
      "\n",
      "📊 Overall Data Integrity Status: ✅ GOOD\n",
      "🔍 Data preprocessing completed successfully\n",
      "📈 Ready for advanced analytics and modeling\n",
      "\n",
      "💾 STEP 10: EXPORTING PROCESSED DATA\n",
      "----------------------------------------\n",
      "✅ Cleaned datasets exported successfully\n",
      "📁 Files: amazon_sales_cleaned.csv, pricing_data_cleaned.csv\n",
      "📊 Analysis summary saved to: analysis_summary.json\n",
      "\n",
      "🎉 ANALYSIS COMPLETE!\n",
      "==================================================\n",
      "✅ All preprocessing and EDA requirements fulfilled\n",
      "📊 Visualizations created and insights generated\n"
     ]
    }
   ],
   "source": [
    "import pandas as pd\n",
    "import numpy as np\n",
    "import matplotlib.pyplot as plt\n",
    "import seaborn as sns\n",
    "import warnings\n",
    "from datetime import datetime\n",
    "import plotly.express as px\n",
    "import plotly.graph_objects as go\n",
    "from plotly.subplots import make_subplots\n",
    "\n",
    "# Configure display settings\n",
    "warnings.filterwarnings('ignore')\n",
    "plt.style.use('seaborn-v0_8')\n",
    "pd.set_option('display.max_columns', None)\n",
    "pd.set_option('display.max_rows', 100)\n",
    "\n",
    "print(\"📊 E-commerce Sales Trend Analysis\")\n",
    "print(\"=\" * 50)\n",
    "print(\"🎯 Objective: Predict sales trends across multiple e-commerce platforms\")\n",
    "print(\"📅 Analysis Date:\", datetime.now().strftime(\"%Y-%m-%d\"))\n",
    "\n",
    "# =============================================================================\n",
    "# 1. DATA LOADING & INITIAL EXPLORATION\n",
    "# =============================================================================\n",
    "\n",
    "print(\"\\n🔍 STEP 1: DATA LOADING & EXPLORATION\")\n",
    "print(\"-\" * 40)\n",
    "datasets = {}\n",
    "# Load all datasets\n",
    "try:\n",
    "    # Main sales datasets\n",
    "    amazon_sales = pd.read_csv('data/Amazon Sale Report.csv')\n",
    "    international_sales = pd.read_csv('data/International sale Report.csv')\n",
    "    may_2022 = pd.read_csv('data/May-2022.csv')\n",
    "    pl_march_2021 = pd.read_csv('data/P  L March 2021.csv')\n",
    "    sale_report = pd.read_csv('data/Sale Report.csv')\n",
    "    \n",
    "    print(\"✅ All datasets loaded successfully!\")\n",
    "    \n",
    "    # Dataset overview\n",
    "    datasets = {\n",
    "        'Amazon Sales': amazon_sales,\n",
    "        'International Sales': international_sales,\n",
    "        'May 2022 Pricing': may_2022,\n",
    "        'P&L March 2021': pl_march_2021,\n",
    "        'Sale Report': sale_report\n",
    "    }\n",
    "    print(\"completed\")\n",
    "    print(f\"\\n📋 Dataset Overview:\")\n",
    "    for name, df in datasets.items():\n",
    "        print(f\"  {name}: {df.shape[0]:,} rows × {df.shape[1]} columns\")\n",
    "        \n",
    "except Exception as e:\n",
    "    print(f\"❌ Error loading data: {e}\")\n",
    "    print(\"📝 Note: Adjust file paths based on your Kaggle dataset structure\")\n",
    "\n",
    "# =============================================================================\n",
    "# 2. DATA PREPROCESSING & CLEANING\n",
    "# =============================================================================\n",
    "\n",
    "print(\"\\n🧹 STEP 2: DATA PREPROCESSING & CLEANING\")\n",
    "print(\"-\" * 40)\n",
    "\n",
    "def analyze_missing_values(df, name):\n",
    "    \"\"\"Analyze missing values in dataset\"\"\"\n",
    "    missing = df.isnull().sum()\n",
    "    missing_percent = (missing / len(df)) * 100\n",
    "    missing_df = pd.DataFrame({\n",
    "        'Missing Count': missing,\n",
    "        'Missing Percentage': missing_percent\n",
    "    }).sort_values('Missing Percentage', ascending=False)\n",
    "    \n",
    "    print(f\"\\n📊 Missing Values Analysis - {name}:\")\n",
    "    print(missing_df[missing_df['Missing Count'] > 0])\n",
    "    return missing_df\n",
    "\n",
    "# Analyze missing values for each dataset\n",
    "missing_analysis = {}\n",
    "for name, df in datasets.items():\n",
    "    missing_analysis[name] = analyze_missing_values(df, name)\n",
    "\n",
    "# Clean Amazon Sales Data (Primary dataset for analysis)\n",
    "print(\"\\n🔧 Cleaning Amazon Sales Data...\")\n",
    "\n",
    "# Create a copy for cleaning\n",
    "amazon_clean = amazon_sales.copy()\n",
    "\n",
    "# Handle missing values\n",
    "print(f\"Original Amazon dataset shape: {amazon_clean.shape}\")\n",
    "\n",
    "# Remove rows where critical columns are missing\n",
    "critical_columns = ['Order ID', 'Date', 'Amount', 'Qty']\n",
    "before_cleaning = len(amazon_clean)\n",
    "amazon_clean = amazon_clean.dropna(subset=[col for col in critical_columns if col in amazon_clean.columns])\n",
    "after_cleaning = len(amazon_clean)\n",
    "print(f\"Removed {before_cleaning - after_cleaning} rows with missing critical data\")\n",
    "\n",
    "# Clean and convert data types\n",
    "if 'Date' in amazon_clean.columns:\n",
    "    amazon_clean['Date'] = pd.to_datetime(amazon_clean['Date'], errors='coerce')\n",
    "    amazon_clean = amazon_clean.dropna(subset=['Date'])\n",
    "\n",
    "if 'Amount' in amazon_clean.columns:\n",
    "    # Remove currency symbols and convert to numeric\n",
    "    amazon_clean['Amount'] = amazon_clean['Amount'].astype(str).str.replace('₹', '').str.replace(',', '')\n",
    "    amazon_clean['Amount'] = pd.to_numeric(amazon_clean['Amount'], errors='coerce')\n",
    "    amazon_clean = amazon_clean.dropna(subset=['Amount'])\n",
    "\n",
    "if 'Qty' in amazon_clean.columns:\n",
    "    amazon_clean['Qty'] = pd.to_numeric(amazon_clean['Qty'], errors='coerce')\n",
    "    amazon_clean = amazon_clean.dropna(subset=['Qty'])\n",
    "\n",
    "print(f\"Final cleaned Amazon dataset shape: {amazon_clean.shape}\")\n",
    "\n",
    "# Clean May 2022 Pricing Data\n",
    "print(\"\\n🔧 Cleaning May 2022 Pricing Data...\")\n",
    "may_2022_clean = may_2022.copy()\n",
    "\n",
    "# Price columns to clean\n",
    "price_columns = ['MRP Old Final', 'MRP Old', 'Ajio MRP', 'Amazon MRP', 'Amazon FBA MRP', \n",
    "                'Flipkart MRP', 'Limeroad MRP', 'Myntra MRP', 'Paytm MRP', 'Snapdeal MRP']\n",
    "\n",
    "for col in price_columns:\n",
    "    if col in may_2022_clean.columns:\n",
    "        may_2022_clean[col] = pd.to_numeric(may_2022_clean[col], errors='coerce')\n",
    "\n",
    "print(f\"May 2022 pricing data shape: {may_2022_clean.shape}\")\n",
    "\n",
    "# =============================================================================\n",
    "# 3. FEATURE ENGINEERING\n",
    "# =============================================================================\n",
    "\n",
    "print(\"\\n⚙️ STEP 3: FEATURE ENGINEERING\")\n",
    "print(\"-\" * 40)\n",
    "\n",
    "# Feature engineering for Amazon sales data\n",
    "if 'Date' in amazon_clean.columns:\n",
    "    amazon_clean['Year'] = amazon_clean['Date'].dt.year\n",
    "    amazon_clean['Month'] = amazon_clean['Date'].dt.month\n",
    "    amazon_clean['Day'] = amazon_clean['Date'].dt.day\n",
    "    amazon_clean['Weekday'] = amazon_clean['Date'].dt.day_name()\n",
    "    amazon_clean['Quarter'] = amazon_clean['Date'].dt.quarter\n",
    "    \n",
    "    print(\"✅ Date-based features created\")\n",
    "\n",
    "# Revenue calculation\n",
    "if 'Amount' in amazon_clean.columns and 'Qty' in amazon_clean.columns:\n",
    "    amazon_clean['Revenue'] = amazon_clean['Amount'] * amazon_clean['Qty']\n",
    "    amazon_clean['Unit_Price'] = amazon_clean['Amount'] / amazon_clean['Qty'].replace(0, 1)\n",
    "    print(\"✅ Revenue and unit price features created\")\n",
    "\n",
    "# Category-based features\n",
    "if 'Category' in amazon_clean.columns:\n",
    "    amazon_clean['Category_Clean'] = amazon_clean['Category'].fillna('Unknown').str.strip().str.title()\n",
    "    print(\"✅ Category features cleaned\")\n",
    "\n",
    "# Platform pricing comparison for May 2022 data\n",
    "platform_columns = ['Ajio MRP', 'Amazon MRP', 'Amazon FBA MRP', 'Flipkart MRP', \n",
    "                    'Limeroad MRP', 'Myntra MRP', 'Paytm MRP', 'Snapdeal MRP']\n",
    "\n",
    "available_platforms = [col for col in platform_columns if col in may_2022_clean.columns]\n",
    "\n",
    "if available_platforms:\n",
    "    # Calculate average price across platforms\n",
    "    may_2022_clean['Avg_Platform_Price'] = may_2022_clean[available_platforms].mean(axis=1, skipna=True)\n",
    "    \n",
    "    # Find minimum and maximum prices\n",
    "    may_2022_clean['Min_Platform_Price'] = may_2022_clean[available_platforms].min(axis=1, skipna=True)\n",
    "    may_2022_clean['Max_Platform_Price'] = may_2022_clean[available_platforms].max(axis=1, skipna=True)\n",
    "    \n",
    "    # Price spread\n",
    "    may_2022_clean['Price_Spread'] = may_2022_clean['Max_Platform_Price'] - may_2022_clean['Min_Platform_Price']\n",
    "    \n",
    "    print(\"✅ Platform pricing features created\")\n",
    "\n",
    "# =============================================================================\n",
    "# 4. EXPLORATORY DATA ANALYSIS & SUMMARY STATISTICS\n",
    "# =============================================================================\n",
    "\n",
    "print(\"\\n📈 STEP 4: EXPLORATORY DATA ANALYSIS\")\n",
    "print(\"-\" * 40)\n",
    "\n",
    "# Summary statistics for Amazon sales\n",
    "print(\"📊 Amazon Sales - Summary Statistics:\")\n",
    "if 'Amount' in amazon_clean.columns:\n",
    "    print(f\"Total Revenue: ₹{amazon_clean['Amount'].sum():,.2f}\")\n",
    "    print(f\"Average Order Value: ₹{amazon_clean['Amount'].mean():,.2f}\")\n",
    "    print(f\"Median Order Value: ₹{amazon_clean['Amount'].median():,.2f}\")\n",
    "\n",
    "if 'Qty' in amazon_clean.columns:\n",
    "    print(f\"Total Quantity Sold: {amazon_clean['Qty'].sum():,}\")\n",
    "    print(f\"Average Quantity per Order: {amazon_clean['Qty'].mean():.2f}\")\n",
    "\n",
    "print(f\"\\nDate Range: {amazon_clean['Date'].min()} to {amazon_clean['Date'].max()}\")\n",
    "print(f\"Total Orders: {len(amazon_clean):,}\")\n",
    "\n",
    "# Category analysis\n",
    "if 'Category_Clean' in amazon_clean.columns:\n",
    "    category_stats = amazon_clean.groupby('Category_Clean').agg({\n",
    "        'Amount': ['count', 'sum', 'mean'],\n",
    "        'Qty': 'sum'\n",
    "    }).round(2)\n",
    "    print(f\"\\n📊 Top 10 Categories by Revenue:\")\n",
    "    print(category_stats.sort_values(('Amount', 'sum'), ascending=False).head(10))\n",
    "\n",
    "# Platform pricing analysis\n",
    "print(\"\\n💰 Platform Pricing Analysis (May 2022):\")\n",
    "platform_stats = {}\n",
    "for platform in available_platforms:\n",
    "    if platform in may_2022_clean.columns:\n",
    "        valid_prices = may_2022_clean[platform].dropna()\n",
    "        if len(valid_prices) > 0:\n",
    "            platform_stats[platform] = {\n",
    "                'Mean': valid_prices.mean(),\n",
    "                'Median': valid_prices.median(),\n",
    "                'Min': valid_prices.min(),\n",
    "                'Max': valid_prices.max(),\n",
    "                'Count': len(valid_prices)\n",
    "            }\n",
    "\n",
    "pricing_df = pd.DataFrame(platform_stats).T\n",
    "print(pricing_df.sort_values('Mean', ascending=False))\n",
    "\n",
    "# =============================================================================\n",
    "# 5. DATA VISUALIZATION\n",
    "# =============================================================================\n",
    "\n",
    "print(\"\\n📊 STEP 5: DATA VISUALIZATIONS\")\n",
    "print(\"-\" * 40)\n",
    "\n",
    "# Set up plotting\n",
    "fig, axes = plt.subplots(2, 2, figsize=(20, 15))\n",
    "fig.suptitle('E-commerce Sales Analysis Dashboard', fontsize=16, fontweight='bold')\n",
    "\n",
    "# 1. Sales trend over time\n",
    "if 'Date' in amazon_clean.columns and 'Amount' in amazon_clean.columns:\n",
    "    daily_sales = amazon_clean.groupby('Date')['Amount'].sum().reset_index()\n",
    "    axes[0,0].plot(daily_sales['Date'], daily_sales['Amount'], linewidth=2, color='blue')\n",
    "    axes[0,0].set_title('Daily Sales Trend', fontweight='bold')\n",
    "    axes[0,0].set_xlabel('Date')\n",
    "    axes[0,0].set_ylabel('Sales Amount (₹)')\n",
    "    axes[0,0].tick_params(axis='x', rotation=45)\n",
    "\n",
    "# 2. Top categories by revenue\n",
    "if 'Category_Clean' in amazon_clean.columns:\n",
    "    top_categories = amazon_clean.groupby('Category_Clean')['Amount'].sum().sort_values(ascending=False).head(10)\n",
    "    axes[0,1].barh(range(len(top_categories)), top_categories.values, color='green')\n",
    "    axes[0,1].set_yticks(range(len(top_categories)))\n",
    "    axes[0,1].set_yticklabels(top_categories.index)\n",
    "    axes[0,1].set_title('Top 10 Categories by Revenue', fontweight='bold')\n",
    "    axes[0,1].set_xlabel('Revenue (₹)')\n",
    "\n",
    "# 3. Platform price comparison\n",
    "if len(platform_stats) > 0:\n",
    "    platforms = list(platform_stats.keys())\n",
    "    mean_prices = [platform_stats[p]['Mean'] for p in platforms]\n",
    "    axes[1,0].bar(platforms, mean_prices, color='orange')\n",
    "    axes[1,0].set_title('Average Prices Across Platforms', fontweight='bold')\n",
    "    axes[1,0].set_ylabel('Average Price (₹)')\n",
    "    axes[1,0].tick_params(axis='x', rotation=45)\n",
    "\n",
    "# 4. Monthly sales distribution\n",
    "if 'Month' in amazon_clean.columns:\n",
    "    monthly_sales = amazon_clean.groupby('Month')['Amount'].sum()\n",
    "    months = ['Jan', 'Feb', 'Mar', 'Apr', 'May', 'Jun', 'Jul', 'Aug', 'Sep', 'Oct', 'Nov', 'Dec']\n",
    "    month_labels = [months[i-1] for i in monthly_sales.index]\n",
    "    axes[1,1].pie(monthly_sales.values, labels=month_labels, autopct='%1.1f%%', startangle=90)\n",
    "    axes[1,1].set_title('Sales Distribution by Month', fontweight='bold')\n",
    "\n",
    "plt.tight_layout()\n",
    "plt.show()\n",
    "\n",
    "print(\"\\n🎨 Creating Advanced Visualizations...\")\n",
    "\n",
    "try:\n",
    "    if 'Date' in amazon_clean.columns and 'Amount' in amazon_clean.columns:\n",
    "        daily_sales = amazon_clean.groupby('Date')['Amount'].sum().reset_index()\n",
    "        daily_sales['MA7'] = daily_sales['Amount'].rolling(window=7).mean()\n",
    "        daily_sales['MA30'] = daily_sales['Amount'].rolling(window=30).mean()\n",
    "        \n",
    "        fig_trend = go.Figure()\n",
    "        fig_trend.add_trace(go.Scatter(x=daily_sales['Date'], y=daily_sales['Amount'], \n",
    "                                     mode='lines', name='Daily Sales', line=dict(color='blue', width=1)))\n",
    "        fig_trend.add_trace(go.Scatter(x=daily_sales['Date'], y=daily_sales['MA7'], \n",
    "                                     mode='lines', name='7-Day MA', line=dict(color='red', width=2)))\n",
    "        fig_trend.add_trace(go.Scatter(x=daily_sales['Date'], y=daily_sales['MA30'], \n",
    "                                     mode='lines', name='30-Day MA', line=dict(color='green', width=2)))\n",
    "        \n",
    "        fig_trend.update_layout(title='Sales Trend with Moving Averages',\n",
    "                              xaxis_title='Date', yaxis_title='Sales Amount (₹)')\n",
    "        fig_trend.show()\n",
    "        \n",
    "except Exception as e:\n",
    "    print(f\"Note: Interactive plots require Plotly. Error: {e}\")\n",
    "\n",
    "\n",
    "print(\"\\n🔍 STEP 6: OUTLIER DETECTION & HANDLING\")\n",
    "print(\"-\" * 40)\n",
    "\n",
    "def detect_outliers_iqr(df, column):\n",
    "    \"\"\"Detect outliers using IQR method\"\"\"\n",
    "    Q1 = df[column].quantile(0.25)\n",
    "    Q3 = df[column].quantile(0.75)\n",
    "    IQR = Q3 - Q1\n",
    "    lower_bound = Q1 - 1.5 * IQR\n",
    "    upper_bound = Q3 + 1.5 * IQR\n",
    "    \n",
    "    outliers = df[(df[column] < lower_bound) | (df[column] > upper_bound)]\n",
    "    return outliers, lower_bound, upper_bound\n",
    "\n",
    "if 'Amount' in amazon_clean.columns:\n",
    "    outliers, lower, upper = detect_outliers_iqr(amazon_clean, 'Amount')\n",
    "    print(f\"Amount outliers detected: {len(outliers)} ({len(outliers)/len(amazon_clean)*100:.1f}%)\")\n",
    "    print(f\"Amount range (non-outliers): ₹{lower:.2f} to ₹{upper:.2f}\")\n",
    "    \n",
    "    plt.figure(figsize=(15, 5))\n",
    "    \n",
    "    plt.subplot(1, 3, 1)\n",
    "    plt.boxplot(amazon_clean['Amount'])\n",
    "    plt.title('Amount Distribution\\n(With Outliers)')\n",
    "    plt.ylabel('Amount (₹)')\n",
    "    \n",
    "    amount_capped = amazon_clean['Amount'].clip(lower=amazon_clean['Amount'].quantile(0.01), \n",
    "                                               upper=amazon_clean['Amount'].quantile(0.99))\n",
    "    plt.subplot(1, 3, 2)\n",
    "    plt.hist(amount_capped, bins=50, alpha=0.7, color='blue')\n",
    "    plt.title('Amount Distribution\\n(Capped at 1-99 percentile)')\n",
    "    plt.xlabel('Amount (₹)')\n",
    "    plt.ylabel('Frequency')\n",
    "    \n",
    "    plt.subplot(1, 3, 3)\n",
    "    plt.scatter(range(len(amazon_clean)), amazon_clean['Amount'].sort_values(), alpha=0.5)\n",
    "    plt.title('Amount Values\\n(Sorted)')\n",
    "    plt.xlabel('Index')\n",
    "    plt.ylabel('Amount (₹)')\n",
    "    \n",
    "    plt.tight_layout()\n",
    "    plt.show()\n",
    "\n",
    "\n",
    "print(\"\\n🔍 STEP 7: PATTERNS & TRENDS IDENTIFICATION\")\n",
    "print(\"-\" * 40)\n",
    "\n",
    "if 'Month' in amazon_clean.columns and 'Amount' in amazon_clean.columns:\n",
    "    seasonal_analysis = amazon_clean.groupby('Month').agg({\n",
    "        'Amount': ['sum', 'mean', 'count'],\n",
    "        'Qty': 'sum'\n",
    "    }).round(2)\n",
    "    \n",
    "    print(\"📅 Seasonal Sales Patterns:\")\n",
    "    print(seasonal_analysis)\n",
    "    \n",
    "    monthly_revenue = amazon_clean.groupby('Month')['Amount'].sum()\n",
    "    peak_month = monthly_revenue.idxmax()\n",
    "    low_month = monthly_revenue.idxmin()\n",
    "    print(f\"\\n🔥 Peak sales month: {peak_month} (₹{monthly_revenue[peak_month]:,.2f})\")\n",
    "    print(f\"📉 Lowest sales month: {low_month} (₹{monthly_revenue[low_month]:,.2f})\")\n",
    "\n",
    "if 'Weekday' in amazon_clean.columns:\n",
    "    weekday_sales = amazon_clean.groupby('Weekday')['Amount'].sum()\n",
    "    print(f\"\\n📊 Weekday Sales Patterns:\")\n",
    "    print(weekday_sales.sort_values(ascending=False))\n",
    "\n",
    "if len(platform_stats) > 0:\n",
    "    print(f\"\\n💰 Platform Pricing Insights:\")\n",
    "    \n",
    "    avg_prices = {p: stats['Mean'] for p, stats in platform_stats.items()}\n",
    "    cheapest = min(avg_prices, key=avg_prices.get)\n",
    "    expensive = max(avg_prices, key=avg_prices.get)\n",
    "    \n",
    "    print(f\"🏷️ Cheapest platform: {cheapest} (₹{avg_prices[cheapest]:.2f})\")\n",
    "    print(f\"💎 Most expensive platform: {expensive} (₹{avg_prices[expensive]:.2f})\")\n",
    "    print(f\"📊 Price difference: ₹{avg_prices[expensive] - avg_prices[cheapest]:.2f}\")\n",
    "\n",
    "if 'Category_Clean' in amazon_clean.columns:\n",
    "    category_performance = amazon_clean.groupby('Category_Clean').agg({\n",
    "        'Amount': ['sum', 'mean', 'count'],\n",
    "        'Qty': 'sum'\n",
    "    }).round(2)\n",
    "    \n",
    "    category_performance['Revenue_per_Item'] = (category_performance[('Amount', 'sum')] / \n",
    "                                              category_performance[('Qty', 'sum')])\n",
    "    \n",
    "    print(f\"\\n🏆 Top Categories by Performance:\")\n",
    "    top_performers = category_performance.sort_values(('Amount', 'sum'), ascending=False).head(5)\n",
    "    print(top_performers)\n",
    "\n",
    "\n",
    "print(\"\\n💡 STEP 8: BUSINESS INSIGHTS & RECOMMENDATIONS\")\n",
    "print(\"-\" * 40)\n",
    "\n",
    "insights = []\n",
    "\n",
    "if 'Date' in amazon_clean.columns:\n",
    "    total_days = (amazon_clean['Date'].max() - amazon_clean['Date'].min()).days\n",
    "    daily_avg = amazon_clean['Amount'].sum() / total_days\n",
    "    insights.append(f\"📈 Average daily revenue: ₹{daily_avg:,.2f}\")\n",
    "\n",
    "if 'Unit_Price' in amazon_clean.columns:\n",
    "    avg_unit_price = amazon_clean['Unit_Price'].mean()\n",
    "    insights.append(f\"💰 Average product price: ₹{avg_unit_price:.2f}\")\n",
    "\n",
    "if len(platform_stats) > 0:\n",
    "    price_variation = max(avg_prices.values()) - min(avg_prices.values())\n",
    "    insights.append(f\"🔄 Price variation across platforms: ₹{price_variation:.2f}\")\n",
    "\n",
    "print(\"🎯 KEY BUSINESS INSIGHTS:\")\n",
    "for i, insight in enumerate(insights, 1):\n",
    "    print(f\"{i}. {insight}\")\n",
    "\n",
    "print(f\"\\n🚀 RECOMMENDATIONS:\")\n",
    "print(\"1. 📊 Focus marketing efforts on peak sales months identified\")\n",
    "print(\"2. 💰 Implement dynamic pricing strategy based on platform analysis\") \n",
    "print(\"3. 📦 Optimize inventory for top-performing categories\")\n",
    "print(\"4. 🎯 Target promotional campaigns during identified low-sales periods\")\n",
    "print(\"5. 🔍 Monitor and respond to pricing variations across platforms\")\n",
    "\n",
    "\n",
    "print(\"\\n✅ STEP 9: DATA QUALITY ASSESSMENT\")\n",
    "print(\"-\" * 40)\n",
    "\n",
    "def assess_data_quality(df, name):\n",
    "    \"\"\"Assess data quality metrics\"\"\"\n",
    "    quality_metrics = {\n",
    "        'Total Records': len(df),\n",
    "        'Complete Records': len(df.dropna()),\n",
    "        'Completeness %': (len(df.dropna()) / len(df) * 100),\n",
    "        'Duplicate Records': df.duplicated().sum(),\n",
    "        'Unique Records %': ((len(df) - df.duplicated().sum()) / len(df) * 100)\n",
    "    }\n",
    "    \n",
    "    print(f\"\\n📋 Data Quality Assessment - {name}:\")\n",
    "    for metric, value in quality_metrics.items():\n",
    "        if '%' in metric:\n",
    "            print(f\"  {metric}: {value:.1f}%\")\n",
    "        else:\n",
    "            print(f\"  {metric}: {value:,}\")\n",
    "    \n",
    "    return quality_metrics\n",
    "\n",
    "quality_reports = {}\n",
    "for name, df in datasets.items():\n",
    "    quality_reports[name] = assess_data_quality(df, name)\n",
    "\n",
    "print(f\"\\n📊 Overall Data Integrity Status: ✅ GOOD\")\n",
    "print(\"🔍 Data preprocessing completed successfully\")\n",
    "print(\"📈 Ready for advanced analytics and modeling\")\n",
    "\n",
    "\n",
    "print(\"\\n💾 STEP 10: EXPORTING PROCESSED DATA\")\n",
    "print(\"-\" * 40)\n",
    "\n",
    "try:\n",
    "    amazon_clean.to_csv('amazon_sales_cleaned.csv', index=False)\n",
    "    may_2022_clean.to_csv('pricing_data_cleaned.csv', index=False)\n",
    "    print(\"✅ Cleaned datasets exported successfully\")\n",
    "    print(\"📁 Files: amazon_sales_cleaned.csv, pricing_data_cleaned.csv\")\n",
    "except Exception as e:\n",
    "    print(f\"⚠️ Export warning: {e}\")\n",
    "\n",
    "summary_stats = {\n",
    "    'analysis_date': datetime.now().strftime(\"%Y-%m-%d\"),\n",
    "    'total_records_processed': sum(len(df) for df in datasets.values()),\n",
    "    'total_revenue_analyzed': amazon_clean['Amount'].sum() if 'Amount' in amazon_clean.columns else 0,\n",
    "    'date_range': f\"{amazon_clean['Date'].min()} to {amazon_clean['Date'].max()}\" if 'Date' in amazon_clean.columns else 'N/A',\n",
    "    'top_category': amazon_clean.groupby('Category_Clean')['Amount'].sum().idxmax() if 'Category_Clean' in amazon_clean.columns else 'N/A'\n",
    "}\n",
    "\n",
    "import json\n",
    "with open('analysis_summary.json', 'w') as f:\n",
    "    json.dump(summary_stats, f, indent=2, default=str)\n",
    "\n",
    "print(\"📊 Analysis summary saved to: analysis_summary.json\")\n",
    "\n",
    "print(f\"\\n🎉 ANALYSIS COMPLETE!\")\n",
    "print(\"=\" * 50)\n",
    "print(\"✅ All preprocessing and EDA requirements fulfilled\")\n",
    "print(\"📊 Visualizations created and insights generated\")"
   ]
  },
  {
   "cell_type": "code",
   "execution_count": null,
   "id": "e57e5462",
   "metadata": {},
   "outputs": [],
   "source": []
  }
 ],
 "metadata": {
  "kernelspec": {
   "display_name": "Python 3",
   "language": "python",
   "name": "python3"
  },
  "language_info": {
   "codemirror_mode": {
    "name": "ipython",
    "version": 3
   },
   "file_extension": ".py",
   "mimetype": "text/x-python",
   "name": "python",
   "nbconvert_exporter": "python",
   "pygments_lexer": "ipython3",
   "version": "3.12.6"
  }
 },
 "nbformat": 4,
 "nbformat_minor": 5
}
